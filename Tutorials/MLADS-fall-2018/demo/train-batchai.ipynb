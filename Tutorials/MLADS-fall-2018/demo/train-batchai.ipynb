{
 "cells": [
  {
   "cell_type": "markdown",
   "metadata": {},
   "source": [
    "Copyright (c) Microsoft Corporation. All rights reserved.\n",
    "\n",
    "Licensed under the MIT License."
   ]
  },
  {
   "cell_type": "markdown",
   "metadata": {
    "nbpresent": {
     "id": "bf74d2e9-2708-49b1-934b-e0ede342f475"
    }
   },
   "source": [
    "# Remote training on BatchAI\n",
    "\n",
    "## Introduction\n",
    "This tutorial shows how to train a simple deep neural network using the CIFAR-10 dataset and Keras on Azure Machine Learning. "
   ]
  },
  {
   "cell_type": "markdown",
   "metadata": {},
   "source": [
    "Let's get started. First let's import some Python libraries."
   ]
  },
  {
   "cell_type": "code",
   "execution_count": null,
   "metadata": {
    "nbpresent": {
     "id": "c377ea0c-0cd9-4345-9be2-e20fb29c94c3"
    }
   },
   "outputs": [],
   "source": [
    "%matplotlib inline\n",
    "import numpy as np\n",
    "import os\n",
    "import matplotlib\n",
    "import matplotlib.pyplot as plt"
   ]
  },
  {
   "cell_type": "code",
   "execution_count": null,
   "metadata": {
    "nbpresent": {
     "id": "edaa7f2f-2439-4148-b57a-8c794c0945ec"
    }
   },
   "outputs": [],
   "source": [
    "import azureml\n",
    "from azureml.core import Workspace, Run\n",
    "\n",
    "# check core SDK version number\n",
    "print(\"Azure ML SDK Version: \", azureml.core.VERSION)"
   ]
  },
  {
   "cell_type": "markdown",
   "metadata": {},
   "source": [
    "## Initialize workspace\n",
    "Initialize a [Workspace](https://docs.microsoft.com/azure/machine-learning/service/concept-azure-machine-learning-architecture#workspace) object from the existing workspace you created in the Prerequisites step. `Workspace.from_config()` creates a workspace object from the details stored in `config.json`."
   ]
  },
  {
   "cell_type": "code",
   "execution_count": null,
   "metadata": {},
   "outputs": [],
   "source": [
    "from azureml.core.workspace import Workspace\n",
    "\n",
    "ws = Workspace.from_config()\n",
    "print('Workspace name: ' + ws.name, \n",
    "      'Azure region: ' + ws.location, \n",
    "      'Subscription id: ' + ws.subscription_id, \n",
    "      'Resource group: ' + ws.resource_group, sep = '\\n')"
   ]
  },
  {
   "cell_type": "markdown",
   "metadata": {
    "nbpresent": {
     "id": "59f52294-4a25-4c92-bab8-3b07f0f44d15"
    }
   },
   "source": [
    "## Create an Azure ML experiment\n",
    "Let's create an experiment and a folder to hold the training scripts. The script runs will be recorded under the experiment in Azure."
   ]
  },
  {
   "cell_type": "code",
   "execution_count": null,
   "metadata": {
    "nbpresent": {
     "id": "bc70f780-c240-4779-96f3-bc5ef9a37d59"
    }
   },
   "outputs": [],
   "source": [
    "from azureml.core import Experiment\n",
    "\n",
    "script_folder = './keras-cifar10'\n",
    "\n",
    "exp = Experiment(workspace=ws, name='keras-cifar10')"
   ]
  },
  {
   "cell_type": "markdown",
   "metadata": {},
   "source": [
    "## Create Batch AI cluster as compute target\n",
    "[Batch AI](https://docs.microsoft.com/en-us/azure/batch-ai/overview) is a service for provisioning and managing clusters of Azure virtual machines for running machine learning workloads. Let's create a new Batch AI cluster in the current workspace, if it doesn't already exist. We will then run the training script on this compute target."
   ]
  },
  {
   "cell_type": "markdown",
   "metadata": {},
   "source": [
    "If we could not find the cluster with the given name in the previous cell, then we will create a new cluster here. We will create a Batch AI Cluster of `STANDARD_NC6s_v2` GPU VMs. This process is broken down into 3 steps:\n",
    "1. create the configuration (this step is local and only takes a second)\n",
    "2. create the Batch AI cluster (this step will take about **20 seconds**)\n",
    "3. provision the VMs to bring the cluster to the initial size (of 1 in this case). This step will take about **3-5 minutes** and is providing only sparse output in the process. Please make sure to wait until the call returns before moving to the next cell"
   ]
  },
  {
   "cell_type": "code",
   "execution_count": null,
   "metadata": {},
   "outputs": [],
   "source": [
    "from azureml.core.compute import ComputeTarget, BatchAiCompute\n",
    "from azureml.core.compute_target import ComputeTargetException\n",
    "\n",
    "# choose a name for your cluster\n",
    "cluster_name = \"batchai-cluster\"\n",
    "\n",
    "try:\n",
    "    # look for the existing cluster by name\n",
    "    compute_target = ComputeTarget(workspace=ws, name=cluster_name)\n",
    "    if type(compute_target) is BatchAiCompute:\n",
    "        print('Found existing compute target {}.'.format(cluster_name))\n",
    "    else:\n",
    "        print('{} exists but it is not a Batch AI cluster. Please choose a different name.'.format(cluster_name))\n",
    "except ComputeTargetException:\n",
    "    print('Creating a new compute target...')\n",
    "    compute_config = BatchAiCompute.provisioning_configuration(vm_size=\"STANDARD_NC6s_v2\", # GPU-based VM\n",
    "                                                                #vm_priority='lowpriority', # optional\n",
    "                                                                autoscale_enabled=False,\n",
    "                                                                cluster_min_nodes=4, \n",
    "                                                                cluster_max_nodes=4)\n",
    "\n",
    "    # create the cluster\n",
    "    compute_target = ComputeTarget.create(ws, cluster_name, compute_config)\n",
    "    \n",
    "    # can poll for a minimum number of nodes and for a specific timeout. \n",
    "    # if no min node count is provided it uses the scale settings for the cluster\n",
    "    compute_target.wait_for_completion(show_output=True, min_node_count=None, timeout_in_minutes=20)\n",
    "    \n",
    "    # Use the 'status' property to get a detailed status for the current cluster. \n",
    "    print(compute_target.status.serialize())"
   ]
  },
  {
   "cell_type": "markdown",
   "metadata": {},
   "source": [
    "Now that you have created the compute target, let's see what the workspace's `compute_targets` property returns. You should now see one entry named 'gpucluster' of type BatchAI."
   ]
  },
  {
   "cell_type": "code",
   "execution_count": null,
   "metadata": {},
   "outputs": [],
   "source": [
    "compute_targets = ws.compute_targets\n",
    "compute_targets()[0].provisioning_state"
   ]
  },
  {
   "cell_type": "markdown",
   "metadata": {},
   "source": [
    "## Create TensorFlow estimator\n",
    "Next, we construct an `azureml.train.dnn.TensorFlow` estimator object, use the Batch AI cluster as compute target, and pass the mount-point of the datastore to the training code as a parameter.\n",
    "The TensorFlow estimator is providing a simple way of launching a TensorFlow training job on a compute target. It will automatically provide a docker image that has TensorFlow installed -- if additional pip or conda packages are required, their names can be passed in via the `pip_packages` and `conda_packages` arguments and they will be included in the resulting docker."
   ]
  },
  {
   "cell_type": "code",
   "execution_count": null,
   "metadata": {},
   "outputs": [],
   "source": [
    "from azureml.train.dnn import TensorFlow\n",
    "\n",
    "script_params = {\n",
    "    '--data-folder': ws.get_default_datastore().as_mount(),\n",
    "    '--batch-size': 50,\n",
    "    '--learning-rate': 0.0001,\n",
    "    '--decay': 1e-6,\n",
    "    '--epochs': 25\n",
    "}\n",
    "\n",
    "est = TensorFlow(source_directory=script_folder,\n",
    "                 script_params=script_params,\n",
    "                 compute_target=compute_target,\n",
    "                 entry_script='cifar10_azureml.py',    \n",
    "                 conda_packages=['keras', 'h5py'],\n",
    "                 use_gpu=True)"
   ]
  },
  {
   "cell_type": "markdown",
   "metadata": {},
   "source": [
    "## Submit job to run\n",
    "Calling the `fit` function on the estimator submits the job to Azure ML for execution. Submitting the job should only take a few seconds."
   ]
  },
  {
   "cell_type": "code",
   "execution_count": null,
   "metadata": {},
   "outputs": [],
   "source": [
    "run = exp.submit(config=est)"
   ]
  },
  {
   "cell_type": "markdown",
   "metadata": {},
   "source": [
    "### Monitor the Run\n",
    "As the Run is executed, it will go through the following stages:\n",
    "1. Preparing: A docker image is created matching the Python environment specified by the TensorFlow estimator and it will be uploaded to the workspace's Azure Container Registry. This step will only happen once for each Python environment -- the container will then be cached for subsequent runs. Creating and uploading the image takes about **5 minutes**. While the job is preparing, logs are streamed to the run history and can be viewed to monitor the progress of the image creation.\n",
    "\n",
    "2. Scaling: If the compute needs to be scaled up (i.e. the Batch AI cluster requires more nodes to execute the run than currently available), the Batch AI cluster will attempt to scale up in order to make the required amount of nodes available. Scaling typically takes about **5 minutes**.\n",
    "\n",
    "3. Running: All scripts in the script folder are uploaded to the compute target, data stores are mounted/copied and the `entry_script` is executed. While the job is running, stdout and the `./logs` folder are streamed to the run history and can be viewed to monitor the progress of the run.\n",
    "\n",
    "4. Post-Processing: The `./outputs` folder of the run is copied over to the run history\n",
    "\n",
    "There are multiple ways to check the progress of a running job. We can use a Jupyter notebook widget. \n",
    "\n",
    "**Note: The widget will automatically update ever 10-15 seconds, always showing you the most up-to-date information about the run**"
   ]
  },
  {
   "cell_type": "code",
   "execution_count": null,
   "metadata": {},
   "outputs": [],
   "source": [
    "from azureml.train.widgets import RunDetails\n",
    "RunDetails(run).show()"
   ]
  },
  {
   "cell_type": "markdown",
   "metadata": {},
   "source": [
    "We can also periodically check the status of the run object, and navigate to Azure portal to monitor the run."
   ]
  },
  {
   "cell_type": "code",
   "execution_count": null,
   "metadata": {},
   "outputs": [],
   "source": [
    "run"
   ]
  },
  {
   "cell_type": "code",
   "execution_count": null,
   "metadata": {},
   "outputs": [],
   "source": [
    "run.wait_for_completion(show_output = True)"
   ]
  },
  {
   "cell_type": "markdown",
   "metadata": {},
   "source": [
    "### The Run object\n",
    "The Run object provides the interface to the run history -- both to the job and to the control plane (this notebook), and both while the job is running and after it has completed. It provides a number of interesting features for instance:\n",
    "* `run.get_details()`: Provides a rich set of properties of the run\n",
    "* `run.get_metrics()`: Provides a dictionary with all the metrics that were reported for the Run\n",
    "* `run.get_file_names()`: List all the files that were uploaded to the run history for this Run. This will include the `outputs` and `logs` folder, azureml-logs and other logs, as well as files that were explicitly uploaded to the run using `run.upload_file()`\n",
    "\n",
    "Below are some examples -- please run through them and inspect their output. "
   ]
  },
  {
   "cell_type": "code",
   "execution_count": null,
   "metadata": {},
   "outputs": [],
   "source": [
    "run.get_details()"
   ]
  },
  {
   "cell_type": "code",
   "execution_count": null,
   "metadata": {},
   "outputs": [],
   "source": [
    "run.get_metrics()"
   ]
  },
  {
   "cell_type": "code",
   "execution_count": null,
   "metadata": {},
   "outputs": [],
   "source": [
    "run.get_file_names()"
   ]
  },
  {
   "cell_type": "markdown",
   "metadata": {},
   "source": [
    "## Plot accuracy over epochs\n",
    "Since we can retrieve the metrics from the run, we can easily make plots using `matplotlib` in the notebook. Then we can add the plotted image to the run using `run.log_image()`, so all information about the run is kept together."
   ]
  },
  {
   "cell_type": "code",
   "execution_count": null,
   "metadata": {},
   "outputs": [],
   "source": [
    "import os\n",
    "os.makedirs('./imgs', exist_ok = True)\n",
    "metrics = run.get_metrics()\n",
    "\n",
    "plt.figure(figsize = (13,5))\n",
    "plt.plot(metrics['validation_acc'], 'r-', lw = 4, alpha = .6)\n",
    "plt.plot(metrics['training_acc'], 'b--', alpha = 0.5)\n",
    "plt.legend(['Full evaluation set', 'Training set mini-batch'])\n",
    "plt.xlabel('epochs', fontsize = 14)\n",
    "plt.ylabel('accuracy', fontsize = 14)\n",
    "plt.title('Accuracy over Epochs', fontsize = 16)\n",
    "run.log_image(name = 'acc_over_epochs.png', plot = plt)\n",
    "plt.show()"
   ]
  },
  {
   "cell_type": "markdown",
   "metadata": {},
   "source": [
    "## Download the saved model"
   ]
  },
  {
   "cell_type": "markdown",
   "metadata": {},
   "source": [
    "In the training script, a TensorFlow `saver` object is used to persist the model in a local folder (local to the compute target). The model was saved to the `./outputs` folder on the disk of the Batch AI cluster node where the job is run. Azure ML automatically uploaded anything written in the `./outputs` folder into run history file store. Subsequently, we can use the `Run` object to download the model files the `saver` object saved. They are under the the `outputs/model` folder in the run history file store, and are downloaded into a local folder named `model`. Note the TensorFlow model consists of four files in binary format and they are not human-readable."
   ]
  },
  {
   "cell_type": "code",
   "execution_count": null,
   "metadata": {},
   "outputs": [],
   "source": [
    "# create a model folder in the current directory\n",
    "os.makedirs('./model', exist_ok = True)\n",
    "\n",
    "for f in run.get_file_names():\n",
    "    if f.startswith('outputs/model'):\n",
    "        output_file_path = os.path.join('./model', f.split('/')[-1])\n",
    "        print('Downloading from {} to {} ...'.format(f, output_file_path))\n",
    "        run.download_file(name = f, output_file_path = output_file_path)"
   ]
  }
 ],
 "metadata": {
  "authors": [
   {
    "name": "minxia"
   }
  ],
  "kernelspec": {
   "display_name": "Python 3.6 - AzureML",
   "language": "python",
   "name": "python3-azureml"
  },
  "language_info": {
   "codemirror_mode": {
    "name": "ipython",
    "version": 3
   },
   "file_extension": ".py",
   "mimetype": "text/x-python",
   "name": "python",
   "nbconvert_exporter": "python",
   "pygments_lexer": "ipython3",
   "version": "3.6.7"
  },
  "nbpresent": {
   "slides": {
    "05bb34ad-74b0-42b3-9654-8357d1ba9c99": {
     "id": "05bb34ad-74b0-42b3-9654-8357d1ba9c99",
     "prev": "851089af-9725-40c9-8f0b-9bf892b2b1fe",
     "regions": {
      "23fb396d-50f9-4770-adb3-0d6abcb40767": {
       "attrs": {
        "height": 0.8,
        "width": 0.8,
        "x": 0.1,
        "y": 0.1
       },
       "content": {
        "cell": "2039d2d5-aca6-4f25-a12f-df9ae6529cae",
        "part": "whole"
       },
       "id": "23fb396d-50f9-4770-adb3-0d6abcb40767"
      }
     }
    },
    "11bebe14-d1dc-476d-a31a-5828b9c3adf0": {
     "id": "11bebe14-d1dc-476d-a31a-5828b9c3adf0",
     "prev": "502648cb-26fe-496b-899f-84c8fe1dcbc0",
     "regions": {
      "a42499db-623e-4414-bea2-ff3617fd8fc5": {
       "attrs": {
        "height": 0.8,
        "width": 0.8,
        "x": 0.1,
        "y": 0.1
       },
       "content": {
        "cell": "4788c040-27a2-4dc1-8ed0-378a99b3a255",
        "part": "whole"
       },
       "id": "a42499db-623e-4414-bea2-ff3617fd8fc5"
      }
     }
    },
    "134f92d0-6389-4226-af51-1134ae8e8278": {
     "id": "134f92d0-6389-4226-af51-1134ae8e8278",
     "prev": "36b8728c-32ad-4941-be03-5cef51cdc430",
     "regions": {
      "b6d82a77-2d58-4b9e-a375-3103214b826c": {
       "attrs": {
        "height": 0.8,
        "width": 0.8,
        "x": 0.1,
        "y": 0.1
       },
       "content": {
        "cell": "7ab0e6d0-1f1c-451b-8ac5-687da44a8287",
        "part": "whole"
       },
       "id": "b6d82a77-2d58-4b9e-a375-3103214b826c"
      }
     }
    },
    "282a2421-697b-4fd0-9485-755abf5a0c18": {
     "id": "282a2421-697b-4fd0-9485-755abf5a0c18",
     "prev": "a8b9ceb9-b38f-4489-84df-b644c6fe28f2",
     "regions": {
      "522fec96-abe7-4a34-bd34-633733afecc8": {
       "attrs": {
        "height": 0.8,
        "width": 0.8,
        "x": 0.1,
        "y": 0.1
       },
       "content": {
        "cell": "d58e7785-c2ee-4a45-8e3d-4c538bf8075a",
        "part": "whole"
       },
       "id": "522fec96-abe7-4a34-bd34-633733afecc8"
      }
     }
    },
    "2dfec088-8a70-411a-9199-904ef3fa2383": {
     "id": "2dfec088-8a70-411a-9199-904ef3fa2383",
     "prev": "282a2421-697b-4fd0-9485-755abf5a0c18",
     "regions": {
      "0535fcb6-3a2b-4b46-98a7-3ebb1a38c47e": {
       "attrs": {
        "height": 0.8,
        "width": 0.8,
        "x": 0.1,
        "y": 0.1
       },
       "content": {
        "cell": "c377ea0c-0cd9-4345-9be2-e20fb29c94c3",
        "part": "whole"
       },
       "id": "0535fcb6-3a2b-4b46-98a7-3ebb1a38c47e"
      }
     }
    },
    "36a814c9-c540-4a6d-92d9-c03553d3d2c2": {
     "id": "36a814c9-c540-4a6d-92d9-c03553d3d2c2",
     "prev": "b52e4d09-5186-44e5-84db-3371c087acde",
     "regions": {
      "8bfba503-9907-43f0-b1a6-46a0b4311793": {
       "attrs": {
        "height": 0.8,
        "width": 0.8,
        "x": 0.1,
        "y": 0.1
       },
       "content": {
        "cell": "d5e4a56c-dfac-4346-be83-1c15b503deac",
        "part": "whole"
       },
       "id": "8bfba503-9907-43f0-b1a6-46a0b4311793"
      }
     }
    },
    "36b8728c-32ad-4941-be03-5cef51cdc430": {
     "id": "36b8728c-32ad-4941-be03-5cef51cdc430",
     "prev": "05bb34ad-74b0-42b3-9654-8357d1ba9c99",
     "regions": {
      "a36a5bdf-7f62-49b0-8634-e155a98851dc": {
       "attrs": {
        "height": 0.8,
        "width": 0.8,
        "x": 0.1,
        "y": 0.1
       },
       "content": {
        "cell": "e33dfc47-e7df-4623-a7a6-ab6bcf944629",
        "part": "whole"
       },
       "id": "a36a5bdf-7f62-49b0-8634-e155a98851dc"
      }
     }
    },
    "3f136f2a-f14c-4a4b-afea-13380556a79c": {
     "id": "3f136f2a-f14c-4a4b-afea-13380556a79c",
     "prev": "54cb8dfd-a89c-4922-867b-3c87d8b67cd3",
     "regions": {
      "80ecf237-d1b0-401e-83d2-6d04b7fcebd3": {
       "attrs": {
        "height": 0.8,
        "width": 0.8,
        "x": 0.1,
        "y": 0.1
       },
       "content": {
        "cell": "7debeb2b-ecea-414f-9b50-49657abb3e6a",
        "part": "whole"
       },
       "id": "80ecf237-d1b0-401e-83d2-6d04b7fcebd3"
      }
     }
    },
    "502648cb-26fe-496b-899f-84c8fe1dcbc0": {
     "id": "502648cb-26fe-496b-899f-84c8fe1dcbc0",
     "prev": "3f136f2a-f14c-4a4b-afea-13380556a79c",
     "regions": {
      "4c83bb4d-2a52-41ba-a77f-0c6efebd83a6": {
       "attrs": {
        "height": 0.8,
        "width": 0.8,
        "x": 0.1,
        "y": 0.1
       },
       "content": {
        "cell": "dbd22f6b-6d49-4005-b8fe-422ef8ef1d42",
        "part": "whole"
       },
       "id": "4c83bb4d-2a52-41ba-a77f-0c6efebd83a6"
      }
     }
    },
    "54cb8dfd-a89c-4922-867b-3c87d8b67cd3": {
     "id": "54cb8dfd-a89c-4922-867b-3c87d8b67cd3",
     "prev": "aa224267-f885-4c0c-95af-7bacfcc186d9",
     "regions": {
      "0848f0a7-032d-46c7-b35c-bfb69c83f961": {
       "attrs": {
        "height": 0.8,
        "width": 0.8,
        "x": 0.1,
        "y": 0.1
       },
       "content": {
        "cell": "3c32c557-d0e8-4bb3-a61a-aa51a767cd4e",
        "part": "whole"
       },
       "id": "0848f0a7-032d-46c7-b35c-bfb69c83f961"
      }
     }
    },
    "636b563c-faee-4c9e-a6a3-f46a905bfa82": {
     "id": "636b563c-faee-4c9e-a6a3-f46a905bfa82",
     "prev": "c5f59b98-a227-4344-9d6d-03abdd01c6aa",
     "regions": {
      "9c64f662-05dc-4b14-9cdc-d450b96f4368": {
       "attrs": {
        "height": 0.8,
        "width": 0.8,
        "x": 0.1,
        "y": 0.1
       },
       "content": {
        "cell": "70640ac0-7041-47a8-9a7f-e871defd74b2",
        "part": "whole"
       },
       "id": "9c64f662-05dc-4b14-9cdc-d450b96f4368"
      }
     }
    },
    "793cec2f-8413-484d-aa1e-388fd2b53a45": {
     "id": "793cec2f-8413-484d-aa1e-388fd2b53a45",
     "prev": "c66f3dfd-2d27-482b-be78-10ba733e826b",
     "regions": {
      "d08f9cfa-3b8d-4fb4-91ba-82d9858ea93e": {
       "attrs": {
        "height": 0.8,
        "width": 0.8,
        "x": 0.1,
        "y": 0.1
       },
       "content": {
        "cell": "dd56113e-e3db-41ae-91b7-2472ed194308",
        "part": "whole"
       },
       "id": "d08f9cfa-3b8d-4fb4-91ba-82d9858ea93e"
      }
     }
    },
    "83e912ff-260a-4391-8a12-331aba098506": {
     "id": "83e912ff-260a-4391-8a12-331aba098506",
     "prev": "fe5a0732-69f5-462a-8af6-851f84a9fdec",
     "regions": {
      "2fefcf5f-ea20-4604-a528-5e6c91bcb100": {
       "attrs": {
        "height": 0.8,
        "width": 0.8,
        "x": 0.1,
        "y": 0.1
       },
       "content": {
        "cell": "c3f2f57c-7454-4d3e-b38d-b0946cf066ea",
        "part": "whole"
       },
       "id": "2fefcf5f-ea20-4604-a528-5e6c91bcb100"
      }
     }
    },
    "851089af-9725-40c9-8f0b-9bf892b2b1fe": {
     "id": "851089af-9725-40c9-8f0b-9bf892b2b1fe",
     "prev": "636b563c-faee-4c9e-a6a3-f46a905bfa82",
     "regions": {
      "31c9dda5-fdf4-45e2-bcb7-12aa0f30e1d8": {
       "attrs": {
        "height": 0.8,
        "width": 0.8,
        "x": 0.1,
        "y": 0.1
       },
       "content": {
        "cell": "8408b90e-6cdd-44d1-86d3-648c23f877ac",
        "part": "whole"
       },
       "id": "31c9dda5-fdf4-45e2-bcb7-12aa0f30e1d8"
      }
     }
    },
    "87ab653d-e804-470f-bde9-c67caaa0f354": {
     "id": "87ab653d-e804-470f-bde9-c67caaa0f354",
     "prev": "a8c2d446-caee-42c8-886a-ed98f4935d78",
     "regions": {
      "bc3aeb56-c465-4868-a1ea-2de82584de98": {
       "attrs": {
        "height": 0.8,
        "width": 0.8,
        "x": 0.1,
        "y": 0.1
       },
       "content": {
        "cell": "59f52294-4a25-4c92-bab8-3b07f0f44d15",
        "part": "whole"
       },
       "id": "bc3aeb56-c465-4868-a1ea-2de82584de98"
      }
     }
    },
    "8b887c97-83bc-4395-83ac-f6703cbe243d": {
     "id": "8b887c97-83bc-4395-83ac-f6703cbe243d",
     "prev": "36a814c9-c540-4a6d-92d9-c03553d3d2c2",
     "regions": {
      "9d0bc72a-cb13-483f-a572-2bf60d0d145f": {
       "attrs": {
        "height": 0.8,
        "width": 0.8,
        "x": 0.1,
        "y": 0.1
       },
       "content": {
        "cell": "75499c85-d0a1-43db-8244-25778b9b2736",
        "part": "whole"
       },
       "id": "9d0bc72a-cb13-483f-a572-2bf60d0d145f"
      }
     }
    },
    "a8b9ceb9-b38f-4489-84df-b644c6fe28f2": {
     "id": "a8b9ceb9-b38f-4489-84df-b644c6fe28f2",
     "prev": null,
     "regions": {
      "f741ed94-3f24-4427-b615-3ab8753e5814": {
       "attrs": {
        "height": 0.8,
        "width": 0.8,
        "x": 0.1,
        "y": 0.1
       },
       "content": {
        "cell": "bf74d2e9-2708-49b1-934b-e0ede342f475",
        "part": "whole"
       },
       "id": "f741ed94-3f24-4427-b615-3ab8753e5814"
      }
     }
    },
    "a8c2d446-caee-42c8-886a-ed98f4935d78": {
     "id": "a8c2d446-caee-42c8-886a-ed98f4935d78",
     "prev": "2dfec088-8a70-411a-9199-904ef3fa2383",
     "regions": {
      "f03457d8-b2a7-4e14-9a73-cab80c5b815d": {
       "attrs": {
        "height": 0.8,
        "width": 0.8,
        "x": 0.1,
        "y": 0.1
       },
       "content": {
        "cell": "edaa7f2f-2439-4148-b57a-8c794c0945ec",
        "part": "whole"
       },
       "id": "f03457d8-b2a7-4e14-9a73-cab80c5b815d"
      }
     }
    },
    "aa224267-f885-4c0c-95af-7bacfcc186d9": {
     "id": "aa224267-f885-4c0c-95af-7bacfcc186d9",
     "prev": "793cec2f-8413-484d-aa1e-388fd2b53a45",
     "regions": {
      "0d7ac442-5e1d-49a5-91b3-1432d72449d8": {
       "attrs": {
        "height": 0.8,
        "width": 0.8,
        "x": 0.1,
        "y": 0.1
       },
       "content": {
        "cell": "4d6826fe-2cb8-4468-85ed-a242a1ce7155",
        "part": "whole"
       },
       "id": "0d7ac442-5e1d-49a5-91b3-1432d72449d8"
      }
     }
    },
    "b52e4d09-5186-44e5-84db-3371c087acde": {
     "id": "b52e4d09-5186-44e5-84db-3371c087acde",
     "prev": "134f92d0-6389-4226-af51-1134ae8e8278",
     "regions": {
      "7af7d997-80b2-497d-bced-ef8341763439": {
       "attrs": {
        "height": 0.8,
        "width": 0.8,
        "x": 0.1,
        "y": 0.1
       },
       "content": {
        "cell": "376882ec-d469-4fad-9462-18e4bbea64ca",
        "part": "whole"
       },
       "id": "7af7d997-80b2-497d-bced-ef8341763439"
      }
     }
    },
    "c5f59b98-a227-4344-9d6d-03abdd01c6aa": {
     "id": "c5f59b98-a227-4344-9d6d-03abdd01c6aa",
     "prev": "83e912ff-260a-4391-8a12-331aba098506",
     "regions": {
      "7268abff-0540-4c06-aefc-c386410c0953": {
       "attrs": {
        "height": 0.8,
        "width": 0.8,
        "x": 0.1,
        "y": 0.1
       },
       "content": {
        "cell": "396d478b-34aa-4afa-9898-cdce8222a516",
        "part": "whole"
       },
       "id": "7268abff-0540-4c06-aefc-c386410c0953"
      }
     }
    },
    "c66f3dfd-2d27-482b-be78-10ba733e826b": {
     "id": "c66f3dfd-2d27-482b-be78-10ba733e826b",
     "prev": "8b887c97-83bc-4395-83ac-f6703cbe243d",
     "regions": {
      "6cbe8e0e-8645-41a1-8a38-e44acb81be4b": {
       "attrs": {
        "height": 0.8,
        "width": 0.8,
        "x": 0.1,
        "y": 0.1
       },
       "content": {
        "cell": "7594c7c7-b808-48f7-9500-d7830a07968a",
        "part": "whole"
       },
       "id": "6cbe8e0e-8645-41a1-8a38-e44acb81be4b"
      }
     }
    },
    "d22045e5-7e3e-452e-bc7b-c6c4a893da8e": {
     "id": "d22045e5-7e3e-452e-bc7b-c6c4a893da8e",
     "prev": "ec41f96a-63a3-4825-9295-f4657a440ddb",
     "regions": {
      "24e2a3a9-bf65-4dab-927f-0bf6ffbe581d": {
       "attrs": {
        "height": 0.8,
        "width": 0.8,
        "x": 0.1,
        "y": 0.1
       },
       "content": {
        "cell": "defe921f-8097-44c3-8336-8af6700804a7",
        "part": "whole"
       },
       "id": "24e2a3a9-bf65-4dab-927f-0bf6ffbe581d"
      }
     }
    },
    "d24c958c-e419-4e4d-aa9c-d228a8ca55e4": {
     "id": "d24c958c-e419-4e4d-aa9c-d228a8ca55e4",
     "prev": "11bebe14-d1dc-476d-a31a-5828b9c3adf0",
     "regions": {
      "25312144-9faa-4680-bb8e-6307ea71370f": {
       "attrs": {
        "height": 0.8,
        "width": 0.8,
        "x": 0.1,
        "y": 0.1
       },
       "content": {
        "cell": "bed09a92-9a7a-473b-9464-90e479883a3e",
        "part": "whole"
       },
       "id": "25312144-9faa-4680-bb8e-6307ea71370f"
      }
     }
    },
    "ec41f96a-63a3-4825-9295-f4657a440ddb": {
     "id": "ec41f96a-63a3-4825-9295-f4657a440ddb",
     "prev": "87ab653d-e804-470f-bde9-c67caaa0f354",
     "regions": {
      "22e8be98-c254-4d04-b0e4-b9b5ae46eefe": {
       "attrs": {
        "height": 0.8,
        "width": 0.8,
        "x": 0.1,
        "y": 0.1
       },
       "content": {
        "cell": "bc70f780-c240-4779-96f3-bc5ef9a37d59",
        "part": "whole"
       },
       "id": "22e8be98-c254-4d04-b0e4-b9b5ae46eefe"
      }
     }
    },
    "fe5a0732-69f5-462a-8af6-851f84a9fdec": {
     "id": "fe5a0732-69f5-462a-8af6-851f84a9fdec",
     "prev": "d22045e5-7e3e-452e-bc7b-c6c4a893da8e",
     "regions": {
      "671b89f5-fa9c-4bc1-bdeb-6e0a4ce8939b": {
       "attrs": {
        "height": 0.8,
        "width": 0.8,
        "x": 0.1,
        "y": 0.1
       },
       "content": {
        "cell": "fd46e2ab-4ab6-4001-b536-1f323525d7d3",
        "part": "whole"
       },
       "id": "671b89f5-fa9c-4bc1-bdeb-6e0a4ce8939b"
      }
     }
    }
   },
   "themes": {}
  }
 },
 "nbformat": 4,
 "nbformat_minor": 2
}
