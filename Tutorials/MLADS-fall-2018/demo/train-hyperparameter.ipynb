{
 "cells": [
  {
   "cell_type": "markdown",
   "metadata": {},
   "source": [
    "Copyright (c) Microsoft Corporation. All rights reserved.\n",
    "\n",
    "Licensed under the MIT License."
   ]
  },
  {
   "cell_type": "markdown",
   "metadata": {
    "nbpresent": {
     "id": "bf74d2e9-2708-49b1-934b-e0ede342f475"
    }
   },
   "source": [
    "# HyperParameter tuning\n"
   ]
  },
  {
   "cell_type": "markdown",
   "metadata": {},
   "source": [
    "Let's get started. First let's import some Python libraries."
   ]
  },
  {
   "cell_type": "code",
   "execution_count": null,
   "metadata": {
    "nbpresent": {
     "id": "c377ea0c-0cd9-4345-9be2-e20fb29c94c3"
    }
   },
   "outputs": [],
   "source": [
    "%matplotlib inline\n",
    "import numpy as np\n",
    "import os\n",
    "import matplotlib\n",
    "import matplotlib.pyplot as plt"
   ]
  },
  {
   "cell_type": "code",
   "execution_count": null,
   "metadata": {
    "nbpresent": {
     "id": "edaa7f2f-2439-4148-b57a-8c794c0945ec"
    }
   },
   "outputs": [],
   "source": [
    "import azureml\n",
    "from azureml.core import Workspace, Run\n",
    "\n",
    "# check core SDK version number\n",
    "print(\"Azure ML SDK Version: \", azureml.core.VERSION)"
   ]
  },
  {
   "cell_type": "markdown",
   "metadata": {},
   "source": [
    "## Initialize workspace\n",
    "Initialize a [Workspace](https://docs.microsoft.com/azure/machine-learning/service/concept-azure-machine-learning-architecture#workspace) object from the existing workspace you created in the Prerequisites step. `Workspace.from_config()` creates a workspace object from the details stored in `config.json`."
   ]
  },
  {
   "cell_type": "code",
   "execution_count": null,
   "metadata": {},
   "outputs": [],
   "source": [
    "from azureml.core.workspace import Workspace\n",
    "\n",
    "ws = Workspace.from_config()\n",
    "print('Workspace name: ' + ws.name, \n",
    "      'Azure region: ' + ws.location, \n",
    "      'Subscription id: ' + ws.subscription_id, \n",
    "      'Resource group: ' + ws.resource_group, sep = '\\n')"
   ]
  },
  {
   "cell_type": "markdown",
   "metadata": {
    "nbpresent": {
     "id": "59f52294-4a25-4c92-bab8-3b07f0f44d15"
    }
   },
   "source": [
    "## Create an Azure ML experiment\n",
    "Let's create an experiment and a folder to hold the training scripts. The script runs will be recorded under the experiment in Azure."
   ]
  },
  {
   "cell_type": "code",
   "execution_count": null,
   "metadata": {
    "nbpresent": {
     "id": "bc70f780-c240-4779-96f3-bc5ef9a37d59"
    }
   },
   "outputs": [],
   "source": [
    "from azureml.core import Experiment\n",
    "\n",
    "script_folder = './keras-cifar10'\n",
    "\n",
    "exp = Experiment(workspace=ws, name='keras-cifar10')"
   ]
  },
  {
   "cell_type": "markdown",
   "metadata": {},
   "source": [
    "## Create Batch AI cluster as compute target\n",
    "[Batch AI](https://docs.microsoft.com/en-us/azure/batch-ai/overview) is a service for provisioning and managing clusters of Azure virtual machines for running machine learning workloads. Let's create a new Batch AI cluster in the current workspace, if it doesn't already exist. We will then run the training script on this compute target."
   ]
  },
  {
   "cell_type": "markdown",
   "metadata": {},
   "source": [
    "## Intelligent hyperparameter tuning\n",
    "We have trained the model with one set of hyperparameters, now let's how we can do hyperparameter tuning by launching multiple runs on the cluster. First let's define the parameter space using random sampling."
   ]
  },
  {
   "cell_type": "code",
   "execution_count": null,
   "metadata": {},
   "outputs": [],
   "source": [
    "from azureml.train.hyperdrive import *\n",
    "\n",
    "ps = RandomParameterSampling(\n",
    "    {\n",
    "        '--batch-size': choice(25, 50, 100),\n",
    "        '--decay': choice(1e-7, 1e-6, 1e-5),\n",
    "        '--learning-rate': choice(1e-5, 1e-4, 1e-3)\n",
    "    }\n",
    ")"
   ]
  },
  {
   "cell_type": "markdown",
   "metadata": {},
   "source": [
    "Next, we will create a new estimator without the above parameters since they will be passed in later. Note we still need to keep the `data-folder` parameter since that's not a hyperparamter we will sweep."
   ]
  },
  {
   "cell_type": "code",
   "execution_count": null,
   "metadata": {},
   "outputs": [],
   "source": [
    "est = TensorFlow(source_directory=script_folder,\n",
    "                 script_params={'--data-folder': ws.get_default_datastore().as_mount(), '--epochs': 25},\n",
    "                 compute_target=compute_target,\n",
    "                 entry_script='cifar10_azureml.py',  \n",
    "                 conda_packages=['keras', 'h5py'],\n",
    "                 use_gpu=True)"
   ]
  },
  {
   "cell_type": "markdown",
   "metadata": {},
   "source": [
    "Now we will define an early termnination policy. The `BanditPolicy` basically states to check the job every 2 iterations. If the primary metric (defined later) falls outside of the top 10% range, Azure ML terminate the job. This saves us from continuing to explore hyperparameters that don't show promise of helping reach our target metric."
   ]
  },
  {
   "cell_type": "code",
   "execution_count": null,
   "metadata": {},
   "outputs": [],
   "source": [
    "policy = BanditPolicy(evaluation_interval=2, slack_factor=0.1)"
   ]
  },
  {
   "cell_type": "markdown",
   "metadata": {},
   "source": [
    "Now we are ready to configure a run configuration object, and specify the primary metric `validation_acc` that's recorded in your training runs. If you go back to visit the training script, you will notice that this value is being logged after every epoch (a full batch set). We also want to tell the service that we are looking to maximizing this value. We also set the number of samples to 20, and maximal concurrent job to 4, which is the same as the number of nodes in our computer cluster."
   ]
  },
  {
   "cell_type": "code",
   "execution_count": null,
   "metadata": {},
   "outputs": [],
   "source": [
    "htc = HyperDriveRunConfig(estimator=est, \n",
    "                          hyperparameter_sampling=ps, \n",
    "                          primary_metric_name='validation_acc', \n",
    "                          primary_metric_goal=PrimaryMetricGoal.MAXIMIZE, \n",
    "                          max_total_runs=20,\n",
    "                          max_concurrent_runs=4)"
   ]
  },
  {
   "cell_type": "markdown",
   "metadata": {},
   "source": [
    "Finally, let's launch the hyperparameter tuning job."
   ]
  },
  {
   "cell_type": "code",
   "execution_count": null,
   "metadata": {},
   "outputs": [],
   "source": [
    "htr = exp.submit(config=htc)"
   ]
  },
  {
   "cell_type": "markdown",
   "metadata": {},
   "source": [
    "We can use a run history widget to show the progress. Be patient as this might take a while to complete."
   ]
  },
  {
   "cell_type": "code",
   "execution_count": null,
   "metadata": {},
   "outputs": [],
   "source": [
    "RunDetails(htr).show()"
   ]
  },
  {
   "cell_type": "code",
   "execution_count": null,
   "metadata": {},
   "outputs": [],
   "source": [
    "htr.wait_for_completion(show_output = True)"
   ]
  },
  {
   "cell_type": "markdown",
   "metadata": {},
   "source": [
    "## Find and register best model\n",
    "When all the jobs finish, we can find out the one that has the highest accuracy."
   ]
  },
  {
   "cell_type": "code",
   "execution_count": null,
   "metadata": {},
   "outputs": [],
   "source": [
    "best_run = htr.get_best_run_by_primary_metric()\n",
    "print(best_run)"
   ]
  },
  {
   "cell_type": "markdown",
   "metadata": {},
   "source": [
    "Now let's list the model files uploaded during the run."
   ]
  },
  {
   "cell_type": "code",
   "execution_count": null,
   "metadata": {},
   "outputs": [],
   "source": [
    "print(best_run.get_file_names()"
   ]
  },
  {
   "cell_type": "markdown",
   "metadata": {},
   "source": [
    "We can then register the folder (and all files in it) as a model named `tf-dnn-mnist` under the workspace for deployment."
   ]
  },
  {
   "cell_type": "code",
   "execution_count": null,
   "metadata": {},
   "outputs": [],
   "source": [
    "model = best_run.register_model(model_name='tf-dnn-mnist', model_path='outputs/model')"
   ]
  }
 ],
 "metadata": {
  "authors": [
   {
    "name": "minxia"
   }
  ],
  "kernelspec": {
   "display_name": "Python 3.6 - AzureML",
   "language": "python",
   "name": "python3-azureml"
  },
  "language_info": {
   "codemirror_mode": {
    "name": "ipython",
    "version": 3
   },
   "file_extension": ".py",
   "mimetype": "text/x-python",
   "name": "python",
   "nbconvert_exporter": "python",
   "pygments_lexer": "ipython3",
   "version": "3.6.7"
  },
  "nbpresent": {
   "slides": {
    "05bb34ad-74b0-42b3-9654-8357d1ba9c99": {
     "id": "05bb34ad-74b0-42b3-9654-8357d1ba9c99",
     "prev": "851089af-9725-40c9-8f0b-9bf892b2b1fe",
     "regions": {
      "23fb396d-50f9-4770-adb3-0d6abcb40767": {
       "attrs": {
        "height": 0.8,
        "width": 0.8,
        "x": 0.1,
        "y": 0.1
       },
       "content": {
        "cell": "2039d2d5-aca6-4f25-a12f-df9ae6529cae",
        "part": "whole"
       },
       "id": "23fb396d-50f9-4770-adb3-0d6abcb40767"
      }
     }
    },
    "11bebe14-d1dc-476d-a31a-5828b9c3adf0": {
     "id": "11bebe14-d1dc-476d-a31a-5828b9c3adf0",
     "prev": "502648cb-26fe-496b-899f-84c8fe1dcbc0",
     "regions": {
      "a42499db-623e-4414-bea2-ff3617fd8fc5": {
       "attrs": {
        "height": 0.8,
        "width": 0.8,
        "x": 0.1,
        "y": 0.1
       },
       "content": {
        "cell": "4788c040-27a2-4dc1-8ed0-378a99b3a255",
        "part": "whole"
       },
       "id": "a42499db-623e-4414-bea2-ff3617fd8fc5"
      }
     }
    },
    "134f92d0-6389-4226-af51-1134ae8e8278": {
     "id": "134f92d0-6389-4226-af51-1134ae8e8278",
     "prev": "36b8728c-32ad-4941-be03-5cef51cdc430",
     "regions": {
      "b6d82a77-2d58-4b9e-a375-3103214b826c": {
       "attrs": {
        "height": 0.8,
        "width": 0.8,
        "x": 0.1,
        "y": 0.1
       },
       "content": {
        "cell": "7ab0e6d0-1f1c-451b-8ac5-687da44a8287",
        "part": "whole"
       },
       "id": "b6d82a77-2d58-4b9e-a375-3103214b826c"
      }
     }
    },
    "282a2421-697b-4fd0-9485-755abf5a0c18": {
     "id": "282a2421-697b-4fd0-9485-755abf5a0c18",
     "prev": "a8b9ceb9-b38f-4489-84df-b644c6fe28f2",
     "regions": {
      "522fec96-abe7-4a34-bd34-633733afecc8": {
       "attrs": {
        "height": 0.8,
        "width": 0.8,
        "x": 0.1,
        "y": 0.1
       },
       "content": {
        "cell": "d58e7785-c2ee-4a45-8e3d-4c538bf8075a",
        "part": "whole"
       },
       "id": "522fec96-abe7-4a34-bd34-633733afecc8"
      }
     }
    },
    "2dfec088-8a70-411a-9199-904ef3fa2383": {
     "id": "2dfec088-8a70-411a-9199-904ef3fa2383",
     "prev": "282a2421-697b-4fd0-9485-755abf5a0c18",
     "regions": {
      "0535fcb6-3a2b-4b46-98a7-3ebb1a38c47e": {
       "attrs": {
        "height": 0.8,
        "width": 0.8,
        "x": 0.1,
        "y": 0.1
       },
       "content": {
        "cell": "c377ea0c-0cd9-4345-9be2-e20fb29c94c3",
        "part": "whole"
       },
       "id": "0535fcb6-3a2b-4b46-98a7-3ebb1a38c47e"
      }
     }
    },
    "36a814c9-c540-4a6d-92d9-c03553d3d2c2": {
     "id": "36a814c9-c540-4a6d-92d9-c03553d3d2c2",
     "prev": "b52e4d09-5186-44e5-84db-3371c087acde",
     "regions": {
      "8bfba503-9907-43f0-b1a6-46a0b4311793": {
       "attrs": {
        "height": 0.8,
        "width": 0.8,
        "x": 0.1,
        "y": 0.1
       },
       "content": {
        "cell": "d5e4a56c-dfac-4346-be83-1c15b503deac",
        "part": "whole"
       },
       "id": "8bfba503-9907-43f0-b1a6-46a0b4311793"
      }
     }
    },
    "36b8728c-32ad-4941-be03-5cef51cdc430": {
     "id": "36b8728c-32ad-4941-be03-5cef51cdc430",
     "prev": "05bb34ad-74b0-42b3-9654-8357d1ba9c99",
     "regions": {
      "a36a5bdf-7f62-49b0-8634-e155a98851dc": {
       "attrs": {
        "height": 0.8,
        "width": 0.8,
        "x": 0.1,
        "y": 0.1
       },
       "content": {
        "cell": "e33dfc47-e7df-4623-a7a6-ab6bcf944629",
        "part": "whole"
       },
       "id": "a36a5bdf-7f62-49b0-8634-e155a98851dc"
      }
     }
    },
    "3f136f2a-f14c-4a4b-afea-13380556a79c": {
     "id": "3f136f2a-f14c-4a4b-afea-13380556a79c",
     "prev": "54cb8dfd-a89c-4922-867b-3c87d8b67cd3",
     "regions": {
      "80ecf237-d1b0-401e-83d2-6d04b7fcebd3": {
       "attrs": {
        "height": 0.8,
        "width": 0.8,
        "x": 0.1,
        "y": 0.1
       },
       "content": {
        "cell": "7debeb2b-ecea-414f-9b50-49657abb3e6a",
        "part": "whole"
       },
       "id": "80ecf237-d1b0-401e-83d2-6d04b7fcebd3"
      }
     }
    },
    "502648cb-26fe-496b-899f-84c8fe1dcbc0": {
     "id": "502648cb-26fe-496b-899f-84c8fe1dcbc0",
     "prev": "3f136f2a-f14c-4a4b-afea-13380556a79c",
     "regions": {
      "4c83bb4d-2a52-41ba-a77f-0c6efebd83a6": {
       "attrs": {
        "height": 0.8,
        "width": 0.8,
        "x": 0.1,
        "y": 0.1
       },
       "content": {
        "cell": "dbd22f6b-6d49-4005-b8fe-422ef8ef1d42",
        "part": "whole"
       },
       "id": "4c83bb4d-2a52-41ba-a77f-0c6efebd83a6"
      }
     }
    },
    "54cb8dfd-a89c-4922-867b-3c87d8b67cd3": {
     "id": "54cb8dfd-a89c-4922-867b-3c87d8b67cd3",
     "prev": "aa224267-f885-4c0c-95af-7bacfcc186d9",
     "regions": {
      "0848f0a7-032d-46c7-b35c-bfb69c83f961": {
       "attrs": {
        "height": 0.8,
        "width": 0.8,
        "x": 0.1,
        "y": 0.1
       },
       "content": {
        "cell": "3c32c557-d0e8-4bb3-a61a-aa51a767cd4e",
        "part": "whole"
       },
       "id": "0848f0a7-032d-46c7-b35c-bfb69c83f961"
      }
     }
    },
    "636b563c-faee-4c9e-a6a3-f46a905bfa82": {
     "id": "636b563c-faee-4c9e-a6a3-f46a905bfa82",
     "prev": "c5f59b98-a227-4344-9d6d-03abdd01c6aa",
     "regions": {
      "9c64f662-05dc-4b14-9cdc-d450b96f4368": {
       "attrs": {
        "height": 0.8,
        "width": 0.8,
        "x": 0.1,
        "y": 0.1
       },
       "content": {
        "cell": "70640ac0-7041-47a8-9a7f-e871defd74b2",
        "part": "whole"
       },
       "id": "9c64f662-05dc-4b14-9cdc-d450b96f4368"
      }
     }
    },
    "793cec2f-8413-484d-aa1e-388fd2b53a45": {
     "id": "793cec2f-8413-484d-aa1e-388fd2b53a45",
     "prev": "c66f3dfd-2d27-482b-be78-10ba733e826b",
     "regions": {
      "d08f9cfa-3b8d-4fb4-91ba-82d9858ea93e": {
       "attrs": {
        "height": 0.8,
        "width": 0.8,
        "x": 0.1,
        "y": 0.1
       },
       "content": {
        "cell": "dd56113e-e3db-41ae-91b7-2472ed194308",
        "part": "whole"
       },
       "id": "d08f9cfa-3b8d-4fb4-91ba-82d9858ea93e"
      }
     }
    },
    "83e912ff-260a-4391-8a12-331aba098506": {
     "id": "83e912ff-260a-4391-8a12-331aba098506",
     "prev": "fe5a0732-69f5-462a-8af6-851f84a9fdec",
     "regions": {
      "2fefcf5f-ea20-4604-a528-5e6c91bcb100": {
       "attrs": {
        "height": 0.8,
        "width": 0.8,
        "x": 0.1,
        "y": 0.1
       },
       "content": {
        "cell": "c3f2f57c-7454-4d3e-b38d-b0946cf066ea",
        "part": "whole"
       },
       "id": "2fefcf5f-ea20-4604-a528-5e6c91bcb100"
      }
     }
    },
    "851089af-9725-40c9-8f0b-9bf892b2b1fe": {
     "id": "851089af-9725-40c9-8f0b-9bf892b2b1fe",
     "prev": "636b563c-faee-4c9e-a6a3-f46a905bfa82",
     "regions": {
      "31c9dda5-fdf4-45e2-bcb7-12aa0f30e1d8": {
       "attrs": {
        "height": 0.8,
        "width": 0.8,
        "x": 0.1,
        "y": 0.1
       },
       "content": {
        "cell": "8408b90e-6cdd-44d1-86d3-648c23f877ac",
        "part": "whole"
       },
       "id": "31c9dda5-fdf4-45e2-bcb7-12aa0f30e1d8"
      }
     }
    },
    "87ab653d-e804-470f-bde9-c67caaa0f354": {
     "id": "87ab653d-e804-470f-bde9-c67caaa0f354",
     "prev": "a8c2d446-caee-42c8-886a-ed98f4935d78",
     "regions": {
      "bc3aeb56-c465-4868-a1ea-2de82584de98": {
       "attrs": {
        "height": 0.8,
        "width": 0.8,
        "x": 0.1,
        "y": 0.1
       },
       "content": {
        "cell": "59f52294-4a25-4c92-bab8-3b07f0f44d15",
        "part": "whole"
       },
       "id": "bc3aeb56-c465-4868-a1ea-2de82584de98"
      }
     }
    },
    "8b887c97-83bc-4395-83ac-f6703cbe243d": {
     "id": "8b887c97-83bc-4395-83ac-f6703cbe243d",
     "prev": "36a814c9-c540-4a6d-92d9-c03553d3d2c2",
     "regions": {
      "9d0bc72a-cb13-483f-a572-2bf60d0d145f": {
       "attrs": {
        "height": 0.8,
        "width": 0.8,
        "x": 0.1,
        "y": 0.1
       },
       "content": {
        "cell": "75499c85-d0a1-43db-8244-25778b9b2736",
        "part": "whole"
       },
       "id": "9d0bc72a-cb13-483f-a572-2bf60d0d145f"
      }
     }
    },
    "a8b9ceb9-b38f-4489-84df-b644c6fe28f2": {
     "id": "a8b9ceb9-b38f-4489-84df-b644c6fe28f2",
     "prev": null,
     "regions": {
      "f741ed94-3f24-4427-b615-3ab8753e5814": {
       "attrs": {
        "height": 0.8,
        "width": 0.8,
        "x": 0.1,
        "y": 0.1
       },
       "content": {
        "cell": "bf74d2e9-2708-49b1-934b-e0ede342f475",
        "part": "whole"
       },
       "id": "f741ed94-3f24-4427-b615-3ab8753e5814"
      }
     }
    },
    "a8c2d446-caee-42c8-886a-ed98f4935d78": {
     "id": "a8c2d446-caee-42c8-886a-ed98f4935d78",
     "prev": "2dfec088-8a70-411a-9199-904ef3fa2383",
     "regions": {
      "f03457d8-b2a7-4e14-9a73-cab80c5b815d": {
       "attrs": {
        "height": 0.8,
        "width": 0.8,
        "x": 0.1,
        "y": 0.1
       },
       "content": {
        "cell": "edaa7f2f-2439-4148-b57a-8c794c0945ec",
        "part": "whole"
       },
       "id": "f03457d8-b2a7-4e14-9a73-cab80c5b815d"
      }
     }
    },
    "aa224267-f885-4c0c-95af-7bacfcc186d9": {
     "id": "aa224267-f885-4c0c-95af-7bacfcc186d9",
     "prev": "793cec2f-8413-484d-aa1e-388fd2b53a45",
     "regions": {
      "0d7ac442-5e1d-49a5-91b3-1432d72449d8": {
       "attrs": {
        "height": 0.8,
        "width": 0.8,
        "x": 0.1,
        "y": 0.1
       },
       "content": {
        "cell": "4d6826fe-2cb8-4468-85ed-a242a1ce7155",
        "part": "whole"
       },
       "id": "0d7ac442-5e1d-49a5-91b3-1432d72449d8"
      }
     }
    },
    "b52e4d09-5186-44e5-84db-3371c087acde": {
     "id": "b52e4d09-5186-44e5-84db-3371c087acde",
     "prev": "134f92d0-6389-4226-af51-1134ae8e8278",
     "regions": {
      "7af7d997-80b2-497d-bced-ef8341763439": {
       "attrs": {
        "height": 0.8,
        "width": 0.8,
        "x": 0.1,
        "y": 0.1
       },
       "content": {
        "cell": "376882ec-d469-4fad-9462-18e4bbea64ca",
        "part": "whole"
       },
       "id": "7af7d997-80b2-497d-bced-ef8341763439"
      }
     }
    },
    "c5f59b98-a227-4344-9d6d-03abdd01c6aa": {
     "id": "c5f59b98-a227-4344-9d6d-03abdd01c6aa",
     "prev": "83e912ff-260a-4391-8a12-331aba098506",
     "regions": {
      "7268abff-0540-4c06-aefc-c386410c0953": {
       "attrs": {
        "height": 0.8,
        "width": 0.8,
        "x": 0.1,
        "y": 0.1
       },
       "content": {
        "cell": "396d478b-34aa-4afa-9898-cdce8222a516",
        "part": "whole"
       },
       "id": "7268abff-0540-4c06-aefc-c386410c0953"
      }
     }
    },
    "c66f3dfd-2d27-482b-be78-10ba733e826b": {
     "id": "c66f3dfd-2d27-482b-be78-10ba733e826b",
     "prev": "8b887c97-83bc-4395-83ac-f6703cbe243d",
     "regions": {
      "6cbe8e0e-8645-41a1-8a38-e44acb81be4b": {
       "attrs": {
        "height": 0.8,
        "width": 0.8,
        "x": 0.1,
        "y": 0.1
       },
       "content": {
        "cell": "7594c7c7-b808-48f7-9500-d7830a07968a",
        "part": "whole"
       },
       "id": "6cbe8e0e-8645-41a1-8a38-e44acb81be4b"
      }
     }
    },
    "d22045e5-7e3e-452e-bc7b-c6c4a893da8e": {
     "id": "d22045e5-7e3e-452e-bc7b-c6c4a893da8e",
     "prev": "ec41f96a-63a3-4825-9295-f4657a440ddb",
     "regions": {
      "24e2a3a9-bf65-4dab-927f-0bf6ffbe581d": {
       "attrs": {
        "height": 0.8,
        "width": 0.8,
        "x": 0.1,
        "y": 0.1
       },
       "content": {
        "cell": "defe921f-8097-44c3-8336-8af6700804a7",
        "part": "whole"
       },
       "id": "24e2a3a9-bf65-4dab-927f-0bf6ffbe581d"
      }
     }
    },
    "d24c958c-e419-4e4d-aa9c-d228a8ca55e4": {
     "id": "d24c958c-e419-4e4d-aa9c-d228a8ca55e4",
     "prev": "11bebe14-d1dc-476d-a31a-5828b9c3adf0",
     "regions": {
      "25312144-9faa-4680-bb8e-6307ea71370f": {
       "attrs": {
        "height": 0.8,
        "width": 0.8,
        "x": 0.1,
        "y": 0.1
       },
       "content": {
        "cell": "bed09a92-9a7a-473b-9464-90e479883a3e",
        "part": "whole"
       },
       "id": "25312144-9faa-4680-bb8e-6307ea71370f"
      }
     }
    },
    "ec41f96a-63a3-4825-9295-f4657a440ddb": {
     "id": "ec41f96a-63a3-4825-9295-f4657a440ddb",
     "prev": "87ab653d-e804-470f-bde9-c67caaa0f354",
     "regions": {
      "22e8be98-c254-4d04-b0e4-b9b5ae46eefe": {
       "attrs": {
        "height": 0.8,
        "width": 0.8,
        "x": 0.1,
        "y": 0.1
       },
       "content": {
        "cell": "bc70f780-c240-4779-96f3-bc5ef9a37d59",
        "part": "whole"
       },
       "id": "22e8be98-c254-4d04-b0e4-b9b5ae46eefe"
      }
     }
    },
    "fe5a0732-69f5-462a-8af6-851f84a9fdec": {
     "id": "fe5a0732-69f5-462a-8af6-851f84a9fdec",
     "prev": "d22045e5-7e3e-452e-bc7b-c6c4a893da8e",
     "regions": {
      "671b89f5-fa9c-4bc1-bdeb-6e0a4ce8939b": {
       "attrs": {
        "height": 0.8,
        "width": 0.8,
        "x": 0.1,
        "y": 0.1
       },
       "content": {
        "cell": "fd46e2ab-4ab6-4001-b536-1f323525d7d3",
        "part": "whole"
       },
       "id": "671b89f5-fa9c-4bc1-bdeb-6e0a4ce8939b"
      }
     }
    }
   },
   "themes": {}
  }
 },
 "nbformat": 4,
 "nbformat_minor": 2
}
