{
 "cells": [
  {
   "cell_type": "markdown",
   "metadata": {},
   "source": [
    "## Initialize workspace\n",
    "\n",
    "Initialize a [Workspace](https://docs.microsoft.com/azure/machine-learning/service/concept-azure-machine-learning-architecture#workspace) object from the existing workspace you created in the Prerequisites step. `Workspace.from_config()` creates a workspace object from the details stored in `config.json`."
   ]
  },
  {
   "cell_type": "code",
   "execution_count": null,
   "metadata": {
    "nbpresent": {
     "id": "edaa7f2f-2439-4148-b57a-8c794c0945ec"
    }
   },
   "outputs": [],
   "source": [
    "import azureml\n",
    "import random\n",
    "from azureml.core import Workspace, Run\n",
    "from azureml.core.authentication import MsiAuthentication\n",
    "from azureml.core.workspace import Workspace\n",
    "\n",
    "msiauth = MsiAuthentication()\n",
    "\n",
    "ws = Workspace.from_config(auth=msiauth)\n",
    "print('Workspace name: ' + ws.name, \n",
    "      'Azure region: ' + ws.location, \n",
    "      'Subscription id: ' + ws.subscription_id, \n",
    "      'Resource group: ' + ws.resource_group, sep = '\\n')\n"
   ]
  },
  {
   "cell_type": "markdown",
   "metadata": {},
   "source": [
    "## Deploy as web service\n",
    "Once you've tested the model and are satisfied with the results, deploy the model as a web service hosted in ACI.\n",
    "To build the correct environment for ACI, provide the following:\n",
    "A scoring script to show how to use the model\n",
    "An environment file to show what packages need to be installed\n",
    "A configuration file to build the ACI\n",
    "The model you trained before\n",
    "### Create scoring script\n",
    "Create the scoring script, called score.py, used by the web service call to show how to use the model.\n",
    "You must include two required functions into the scoring script:\n",
    "The init() function, which typically loads the model into a global object. This function is run only once when the Docker container is started.\n",
    "The run(input_data) function uses the model to predict a value based on the input data. Inputs and outputs to the run typically use JSON for serialization and de-serialization, but other formats are supported.\n"
   ]
  },
  {
   "cell_type": "code",
   "execution_count": null,
   "metadata": {},
   "outputs": [],
   "source": [
    "%%writefile score.py\n",
    "import numpy as np\n",
    "import PIL\n",
    "import json\n",
    "from pandas import DataFrame\n",
    "from keras.models import load_model\n",
    "from azureml.core.model import Model\n",
    "try: \n",
    "    from urllib.request import urlopen \n",
    "except ImportError: \n",
    "    from urllib import urlopen\n",
    "\n",
    "def init():\n",
    "    global model\n",
    "    # retreive the path to the model file using the model name, this name should be from the last cell of the 02 notebook\n",
    "    model_path = Model.get_model_path(<<name of the model>>)\n",
    "    model = load_model(model_path)\n",
    "\n",
    "def run(myimg):\n",
    "    #myimg = np.array(PIL.Image.open(urlopen(url)), dtype=np.float32)\n",
    "    data = np.array(json.loads(myimg)['data'])\n",
    "    label_lookup = [\"airplane\", \"automobile\", \"bird\", \"cat\", \"deer\", \"dog\", \"frog\", \"horse\", \"ship\", \"truck\"]    \n",
    "    image_data = np.array(data, dtype=np.uint8)\n",
    "    image_data = image_data.astype('float32')    \n",
    "    image_data = image_data.reshape(1,32, 32, 3)   \n",
    "    result = np.squeeze(model.predict(image_data))\n",
    "    json_d = {}\n",
    "    # Return top 3 results:\n",
    "    top_count = 3\n",
    "    result_indices = (-np.array(result)).argsort()[:top_count]\n",
    "    for i in range(top_count):\n",
    "        json_d[label_lookup[result_indices[i]]]=(result[result_indices[i]] * 100)\n",
    "    return json.dumps(json_d)"
   ]
  },
  {
   "cell_type": "markdown",
   "metadata": {},
   "source": [
    "### Create environment file\n",
    "Next, create an environment file, called myenv.yml, that specifies all of the script's package dependencies. This file is used to ensure that all of those dependencies are installed in the Docker image. This model needs `scikit-learn` and `azureml-sdk`."
   ]
  },
  {
   "cell_type": "code",
   "execution_count": null,
   "metadata": {},
   "outputs": [],
   "source": [
    "from azureml.core.conda_dependencies import CondaDependencies \n",
    "\n",
    "myenv = CondaDependencies()\n",
    "myenv.add_conda_package(\"h5py==2.8.0\")\n",
    "myenv.add_pip_package(\"keras==2.1.5\")\n",
    "myenv.add_conda_package(\"numpy==1.15.1\")\n",
    "myenv.add_tensorflow_pip_package(core_type='cpu', version=\"1.10.1\")\n",
    "\n",
    "with open(\"myenv.yml\",\"w\") as f:\n",
    "    f.write(myenv.serialize_to_string())"
   ]
  },
  {
   "cell_type": "code",
   "execution_count": null,
   "metadata": {},
   "outputs": [],
   "source": [
    "with open(\"myenv.yml\",\"r\") as f:\n",
    "    print(f.read())"
   ]
  },
  {
   "cell_type": "code",
   "execution_count": null,
   "metadata": {},
   "outputs": [],
   "source": [
    "# download the model \n",
    "from azureml.core import Workspace\n",
    "from azureml.core.model import Model\n",
    "import getpass\n",
    "\n",
    "ws = Workspace.from_config(auth=msiauth)\n",
    "## get the model details from modelname (need to replace)\n",
    "model=Model(ws, getpass.getuser())"
   ]
  },
  {
   "cell_type": "markdown",
   "metadata": {},
   "source": [
    "### Create configuration file\n",
    "Create a deployment configuration file and specify the number of CPUs and gigabyte of RAM needed for your ACI container. While it depends on your model, the default of 1 core and 1 gigabyte of RAM is usually sufficient for many models. If you feel you need more later, you would have to recreate the image and redeploy the service."
   ]
  },
  {
   "cell_type": "code",
   "execution_count": null,
   "metadata": {},
   "outputs": [],
   "source": [
    "from azureml.core.webservice import AciWebservice\n",
    "\n",
    "aciconfig = AciWebservice.deploy_configuration(cpu_cores=1, \n",
    "                                               memory_gb=1, \n",
    "                                               tags={\"data\": \"CIFAR10\",  \"method\" : \"tensorflow\"}, \n",
    "                                               description='Predict CIFAR10 with tensorflow')"
   ]
  },
  {
   "cell_type": "markdown",
   "metadata": {},
   "source": [
    "### Deploy in ACI\n",
    "Estimated time to complete: about 7-8 minutes\n",
    "Configure the image and deploy. The following code goes through these steps:\n",
    "1.Build an image using:\n",
    "    * The scoring file (score.py)\n",
    "    * The environment file (myenv.yml)\n",
    "    * The model file\n",
    "Register that image under the workspace. \n",
    "Send the image to the ACI container.\n",
    "Start up a container in ACI using the image.\n",
    "Get the web service HTTP endpoint."
   ]
  },
  {
   "cell_type": "code",
   "execution_count": null,
   "metadata": {},
   "outputs": [],
   "source": [
    "%%time\n",
    "from azureml.core.webservice import Webservice\n",
    "from azureml.core.image import ContainerImage\n",
    "from azureml.core.image import Image\n",
    "\n",
    "image_name=getpass.getuser()\n",
    "\n",
    "# configure the image\n",
    "image_config = ContainerImage.image_configuration(execution_script=\"score.py\", \n",
    "                                                  runtime=\"python\", \n",
    "                                                  conda_file=\"myenv.yml\")\n",
    "\n",
    "# create the image\n",
    "image = Image.create(name=image_name, models=[model], image_config=image_config, workspace=ws)\n",
    "\n",
    "# wait for image creation to finish\n",
    "image.wait_for_creation(show_output=True)\n"
   ]
  },
  {
   "cell_type": "code",
   "execution_count": null,
   "metadata": {},
   "outputs": [],
   "source": [
    "##if the image failed or need to debug\n",
    "print(image.image_build_log_uri)"
   ]
  },
  {
   "cell_type": "code",
   "execution_count": null,
   "metadata": {},
   "outputs": [],
   "source": [
    "%%time\n",
    "##Create the service\n",
    "\n",
    "\n",
    "service_name=getpass.getuser()\n",
    "\n",
    "\n",
    "# configure an ACI-based deployment\n",
    "service = Webservice.deploy_from_image(workspace=ws,\n",
    "                                       name=service_name,\n",
    "                                       deployment_config=aciconfig,\n",
    "                                       image=image)\n",
    "\n",
    "service.wait_for_deployment(show_output=True)\n",
    "\n",
    "service_name\n"
   ]
  },
  {
   "cell_type": "code",
   "execution_count": null,
   "metadata": {},
   "outputs": [],
   "source": [
    "# if you already have the service object handy and want to see the logs\n",
    "print(service.get_logs())\n"
   ]
  },
  {
   "cell_type": "code",
   "execution_count": null,
   "metadata": {},
   "outputs": [],
   "source": [
    "##Get rest api\n",
    "print(service.scoring_uri)"
   ]
  },
  {
   "cell_type": "code",
   "execution_count": null,
   "metadata": {},
   "outputs": [],
   "source": [
    "from IPython.display import Image\n",
    "import numpy as np\n",
    "import PIL\n",
    "try: \n",
    "    from urllib.request import urlopen \n",
    "except ImportError: \n",
    "    from urllib import urlopen\n",
    "# Figure 6\n",
    "Image(url=\"https://cntk.ai/jup/201/00014.png\", width=64, height=64)\n"
   ]
  },
  {
   "cell_type": "code",
   "execution_count": null,
   "metadata": {},
   "outputs": [],
   "source": [
    "import requests\n",
    "import json\n",
    "import numpy as np\n",
    "from PIL import Image\n",
    "try: \n",
    "    from urllib.request import urlopen \n",
    "except ImportError: \n",
    "    from urllib import urlopen\n",
    "\n",
    "url = \"https://cntk.ai/jup/201/00014.png\"\n",
    "myimg = np.array(PIL.Image.open(urlopen(url)), dtype=np.float32)\n",
    "\n",
    "\n",
    "input_data=  \"{\\\"data\\\": [\" + str(myimg.tolist()) + \"]}\"\n",
    "\n",
    "\n",
    "# for AKS deployment you'd need to the service key in the header as well\n",
    "# api_key = service.get_key()\n",
    "# headers = {'Content-Type':'application/json',  'Authorization':('Bearer '+ api_key)} \n",
    "\n",
    "headers = {'Content-Type':'application/json'}\n",
    "\n",
    "resp = requests.post(service.scoring_uri, input_data, headers=headers)\n",
    "\n",
    "\n",
    "print(\"Response\", resp.text)\n"
   ]
  },
  {
   "cell_type": "code",
   "execution_count": null,
   "metadata": {},
   "outputs": [],
   "source": [
    "service.delete()"
   ]
  }
 ],
 "metadata": {
  "authors": [
   {
    "name": "minxia"
   }
  ],
  "kernelspec": {
   "display_name": "Python 3.6 - AzureML",
   "language": "python",
   "name": "python3-azureml"
  },
  "language_info": {
   "codemirror_mode": {
    "name": "ipython",
    "version": 3
   },
   "file_extension": ".py",
   "mimetype": "text/x-python",
   "name": "python",
   "nbconvert_exporter": "python",
   "pygments_lexer": "ipython3",
   "version": "3.6.7"
  },
  "nbpresent": {
   "slides": {
    "05bb34ad-74b0-42b3-9654-8357d1ba9c99": {
     "id": "05bb34ad-74b0-42b3-9654-8357d1ba9c99",
     "prev": "851089af-9725-40c9-8f0b-9bf892b2b1fe",
     "regions": {
      "23fb396d-50f9-4770-adb3-0d6abcb40767": {
       "attrs": {
        "height": 0.8,
        "width": 0.8,
        "x": 0.1,
        "y": 0.1
       },
       "content": {
        "cell": "2039d2d5-aca6-4f25-a12f-df9ae6529cae",
        "part": "whole"
       },
       "id": "23fb396d-50f9-4770-adb3-0d6abcb40767"
      }
     }
    },
    "11bebe14-d1dc-476d-a31a-5828b9c3adf0": {
     "id": "11bebe14-d1dc-476d-a31a-5828b9c3adf0",
     "prev": "502648cb-26fe-496b-899f-84c8fe1dcbc0",
     "regions": {
      "a42499db-623e-4414-bea2-ff3617fd8fc5": {
       "attrs": {
        "height": 0.8,
        "width": 0.8,
        "x": 0.1,
        "y": 0.1
       },
       "content": {
        "cell": "4788c040-27a2-4dc1-8ed0-378a99b3a255",
        "part": "whole"
       },
       "id": "a42499db-623e-4414-bea2-ff3617fd8fc5"
      }
     }
    },
    "134f92d0-6389-4226-af51-1134ae8e8278": {
     "id": "134f92d0-6389-4226-af51-1134ae8e8278",
     "prev": "36b8728c-32ad-4941-be03-5cef51cdc430",
     "regions": {
      "b6d82a77-2d58-4b9e-a375-3103214b826c": {
       "attrs": {
        "height": 0.8,
        "width": 0.8,
        "x": 0.1,
        "y": 0.1
       },
       "content": {
        "cell": "7ab0e6d0-1f1c-451b-8ac5-687da44a8287",
        "part": "whole"
       },
       "id": "b6d82a77-2d58-4b9e-a375-3103214b826c"
      }
     }
    },
    "282a2421-697b-4fd0-9485-755abf5a0c18": {
     "id": "282a2421-697b-4fd0-9485-755abf5a0c18",
     "prev": "a8b9ceb9-b38f-4489-84df-b644c6fe28f2",
     "regions": {
      "522fec96-abe7-4a34-bd34-633733afecc8": {
       "attrs": {
        "height": 0.8,
        "width": 0.8,
        "x": 0.1,
        "y": 0.1
       },
       "content": {
        "cell": "d58e7785-c2ee-4a45-8e3d-4c538bf8075a",
        "part": "whole"
       },
       "id": "522fec96-abe7-4a34-bd34-633733afecc8"
      }
     }
    },
    "2dfec088-8a70-411a-9199-904ef3fa2383": {
     "id": "2dfec088-8a70-411a-9199-904ef3fa2383",
     "prev": "282a2421-697b-4fd0-9485-755abf5a0c18",
     "regions": {
      "0535fcb6-3a2b-4b46-98a7-3ebb1a38c47e": {
       "attrs": {
        "height": 0.8,
        "width": 0.8,
        "x": 0.1,
        "y": 0.1
       },
       "content": {
        "cell": "c377ea0c-0cd9-4345-9be2-e20fb29c94c3",
        "part": "whole"
       },
       "id": "0535fcb6-3a2b-4b46-98a7-3ebb1a38c47e"
      }
     }
    },
    "36a814c9-c540-4a6d-92d9-c03553d3d2c2": {
     "id": "36a814c9-c540-4a6d-92d9-c03553d3d2c2",
     "prev": "b52e4d09-5186-44e5-84db-3371c087acde",
     "regions": {
      "8bfba503-9907-43f0-b1a6-46a0b4311793": {
       "attrs": {
        "height": 0.8,
        "width": 0.8,
        "x": 0.1,
        "y": 0.1
       },
       "content": {
        "cell": "d5e4a56c-dfac-4346-be83-1c15b503deac",
        "part": "whole"
       },
       "id": "8bfba503-9907-43f0-b1a6-46a0b4311793"
      }
     }
    },
    "36b8728c-32ad-4941-be03-5cef51cdc430": {
     "id": "36b8728c-32ad-4941-be03-5cef51cdc430",
     "prev": "05bb34ad-74b0-42b3-9654-8357d1ba9c99",
     "regions": {
      "a36a5bdf-7f62-49b0-8634-e155a98851dc": {
       "attrs": {
        "height": 0.8,
        "width": 0.8,
        "x": 0.1,
        "y": 0.1
       },
       "content": {
        "cell": "e33dfc47-e7df-4623-a7a6-ab6bcf944629",
        "part": "whole"
       },
       "id": "a36a5bdf-7f62-49b0-8634-e155a98851dc"
      }
     }
    },
    "3f136f2a-f14c-4a4b-afea-13380556a79c": {
     "id": "3f136f2a-f14c-4a4b-afea-13380556a79c",
     "prev": "54cb8dfd-a89c-4922-867b-3c87d8b67cd3",
     "regions": {
      "80ecf237-d1b0-401e-83d2-6d04b7fcebd3": {
       "attrs": {
        "height": 0.8,
        "width": 0.8,
        "x": 0.1,
        "y": 0.1
       },
       "content": {
        "cell": "7debeb2b-ecea-414f-9b50-49657abb3e6a",
        "part": "whole"
       },
       "id": "80ecf237-d1b0-401e-83d2-6d04b7fcebd3"
      }
     }
    },
    "502648cb-26fe-496b-899f-84c8fe1dcbc0": {
     "id": "502648cb-26fe-496b-899f-84c8fe1dcbc0",
     "prev": "3f136f2a-f14c-4a4b-afea-13380556a79c",
     "regions": {
      "4c83bb4d-2a52-41ba-a77f-0c6efebd83a6": {
       "attrs": {
        "height": 0.8,
        "width": 0.8,
        "x": 0.1,
        "y": 0.1
       },
       "content": {
        "cell": "dbd22f6b-6d49-4005-b8fe-422ef8ef1d42",
        "part": "whole"
       },
       "id": "4c83bb4d-2a52-41ba-a77f-0c6efebd83a6"
      }
     }
    },
    "54cb8dfd-a89c-4922-867b-3c87d8b67cd3": {
     "id": "54cb8dfd-a89c-4922-867b-3c87d8b67cd3",
     "prev": "aa224267-f885-4c0c-95af-7bacfcc186d9",
     "regions": {
      "0848f0a7-032d-46c7-b35c-bfb69c83f961": {
       "attrs": {
        "height": 0.8,
        "width": 0.8,
        "x": 0.1,
        "y": 0.1
       },
       "content": {
        "cell": "3c32c557-d0e8-4bb3-a61a-aa51a767cd4e",
        "part": "whole"
       },
       "id": "0848f0a7-032d-46c7-b35c-bfb69c83f961"
      }
     }
    },
    "636b563c-faee-4c9e-a6a3-f46a905bfa82": {
     "id": "636b563c-faee-4c9e-a6a3-f46a905bfa82",
     "prev": "c5f59b98-a227-4344-9d6d-03abdd01c6aa",
     "regions": {
      "9c64f662-05dc-4b14-9cdc-d450b96f4368": {
       "attrs": {
        "height": 0.8,
        "width": 0.8,
        "x": 0.1,
        "y": 0.1
       },
       "content": {
        "cell": "70640ac0-7041-47a8-9a7f-e871defd74b2",
        "part": "whole"
       },
       "id": "9c64f662-05dc-4b14-9cdc-d450b96f4368"
      }
     }
    },
    "793cec2f-8413-484d-aa1e-388fd2b53a45": {
     "id": "793cec2f-8413-484d-aa1e-388fd2b53a45",
     "prev": "c66f3dfd-2d27-482b-be78-10ba733e826b",
     "regions": {
      "d08f9cfa-3b8d-4fb4-91ba-82d9858ea93e": {
       "attrs": {
        "height": 0.8,
        "width": 0.8,
        "x": 0.1,
        "y": 0.1
       },
       "content": {
        "cell": "dd56113e-e3db-41ae-91b7-2472ed194308",
        "part": "whole"
       },
       "id": "d08f9cfa-3b8d-4fb4-91ba-82d9858ea93e"
      }
     }
    },
    "83e912ff-260a-4391-8a12-331aba098506": {
     "id": "83e912ff-260a-4391-8a12-331aba098506",
     "prev": "fe5a0732-69f5-462a-8af6-851f84a9fdec",
     "regions": {
      "2fefcf5f-ea20-4604-a528-5e6c91bcb100": {
       "attrs": {
        "height": 0.8,
        "width": 0.8,
        "x": 0.1,
        "y": 0.1
       },
       "content": {
        "cell": "c3f2f57c-7454-4d3e-b38d-b0946cf066ea",
        "part": "whole"
       },
       "id": "2fefcf5f-ea20-4604-a528-5e6c91bcb100"
      }
     }
    },
    "851089af-9725-40c9-8f0b-9bf892b2b1fe": {
     "id": "851089af-9725-40c9-8f0b-9bf892b2b1fe",
     "prev": "636b563c-faee-4c9e-a6a3-f46a905bfa82",
     "regions": {
      "31c9dda5-fdf4-45e2-bcb7-12aa0f30e1d8": {
       "attrs": {
        "height": 0.8,
        "width": 0.8,
        "x": 0.1,
        "y": 0.1
       },
       "content": {
        "cell": "8408b90e-6cdd-44d1-86d3-648c23f877ac",
        "part": "whole"
       },
       "id": "31c9dda5-fdf4-45e2-bcb7-12aa0f30e1d8"
      }
     }
    },
    "87ab653d-e804-470f-bde9-c67caaa0f354": {
     "id": "87ab653d-e804-470f-bde9-c67caaa0f354",
     "prev": "a8c2d446-caee-42c8-886a-ed98f4935d78",
     "regions": {
      "bc3aeb56-c465-4868-a1ea-2de82584de98": {
       "attrs": {
        "height": 0.8,
        "width": 0.8,
        "x": 0.1,
        "y": 0.1
       },
       "content": {
        "cell": "59f52294-4a25-4c92-bab8-3b07f0f44d15",
        "part": "whole"
       },
       "id": "bc3aeb56-c465-4868-a1ea-2de82584de98"
      }
     }
    },
    "8b887c97-83bc-4395-83ac-f6703cbe243d": {
     "id": "8b887c97-83bc-4395-83ac-f6703cbe243d",
     "prev": "36a814c9-c540-4a6d-92d9-c03553d3d2c2",
     "regions": {
      "9d0bc72a-cb13-483f-a572-2bf60d0d145f": {
       "attrs": {
        "height": 0.8,
        "width": 0.8,
        "x": 0.1,
        "y": 0.1
       },
       "content": {
        "cell": "75499c85-d0a1-43db-8244-25778b9b2736",
        "part": "whole"
       },
       "id": "9d0bc72a-cb13-483f-a572-2bf60d0d145f"
      }
     }
    },
    "a8b9ceb9-b38f-4489-84df-b644c6fe28f2": {
     "id": "a8b9ceb9-b38f-4489-84df-b644c6fe28f2",
     "prev": null,
     "regions": {
      "f741ed94-3f24-4427-b615-3ab8753e5814": {
       "attrs": {
        "height": 0.8,
        "width": 0.8,
        "x": 0.1,
        "y": 0.1
       },
       "content": {
        "cell": "bf74d2e9-2708-49b1-934b-e0ede342f475",
        "part": "whole"
       },
       "id": "f741ed94-3f24-4427-b615-3ab8753e5814"
      }
     }
    },
    "a8c2d446-caee-42c8-886a-ed98f4935d78": {
     "id": "a8c2d446-caee-42c8-886a-ed98f4935d78",
     "prev": "2dfec088-8a70-411a-9199-904ef3fa2383",
     "regions": {
      "f03457d8-b2a7-4e14-9a73-cab80c5b815d": {
       "attrs": {
        "height": 0.8,
        "width": 0.8,
        "x": 0.1,
        "y": 0.1
       },
       "content": {
        "cell": "edaa7f2f-2439-4148-b57a-8c794c0945ec",
        "part": "whole"
       },
       "id": "f03457d8-b2a7-4e14-9a73-cab80c5b815d"
      }
     }
    },
    "aa224267-f885-4c0c-95af-7bacfcc186d9": {
     "id": "aa224267-f885-4c0c-95af-7bacfcc186d9",
     "prev": "793cec2f-8413-484d-aa1e-388fd2b53a45",
     "regions": {
      "0d7ac442-5e1d-49a5-91b3-1432d72449d8": {
       "attrs": {
        "height": 0.8,
        "width": 0.8,
        "x": 0.1,
        "y": 0.1
       },
       "content": {
        "cell": "4d6826fe-2cb8-4468-85ed-a242a1ce7155",
        "part": "whole"
       },
       "id": "0d7ac442-5e1d-49a5-91b3-1432d72449d8"
      }
     }
    },
    "b52e4d09-5186-44e5-84db-3371c087acde": {
     "id": "b52e4d09-5186-44e5-84db-3371c087acde",
     "prev": "134f92d0-6389-4226-af51-1134ae8e8278",
     "regions": {
      "7af7d997-80b2-497d-bced-ef8341763439": {
       "attrs": {
        "height": 0.8,
        "width": 0.8,
        "x": 0.1,
        "y": 0.1
       },
       "content": {
        "cell": "376882ec-d469-4fad-9462-18e4bbea64ca",
        "part": "whole"
       },
       "id": "7af7d997-80b2-497d-bced-ef8341763439"
      }
     }
    },
    "c5f59b98-a227-4344-9d6d-03abdd01c6aa": {
     "id": "c5f59b98-a227-4344-9d6d-03abdd01c6aa",
     "prev": "83e912ff-260a-4391-8a12-331aba098506",
     "regions": {
      "7268abff-0540-4c06-aefc-c386410c0953": {
       "attrs": {
        "height": 0.8,
        "width": 0.8,
        "x": 0.1,
        "y": 0.1
       },
       "content": {
        "cell": "396d478b-34aa-4afa-9898-cdce8222a516",
        "part": "whole"
       },
       "id": "7268abff-0540-4c06-aefc-c386410c0953"
      }
     }
    },
    "c66f3dfd-2d27-482b-be78-10ba733e826b": {
     "id": "c66f3dfd-2d27-482b-be78-10ba733e826b",
     "prev": "8b887c97-83bc-4395-83ac-f6703cbe243d",
     "regions": {
      "6cbe8e0e-8645-41a1-8a38-e44acb81be4b": {
       "attrs": {
        "height": 0.8,
        "width": 0.8,
        "x": 0.1,
        "y": 0.1
       },
       "content": {
        "cell": "7594c7c7-b808-48f7-9500-d7830a07968a",
        "part": "whole"
       },
       "id": "6cbe8e0e-8645-41a1-8a38-e44acb81be4b"
      }
     }
    },
    "d22045e5-7e3e-452e-bc7b-c6c4a893da8e": {
     "id": "d22045e5-7e3e-452e-bc7b-c6c4a893da8e",
     "prev": "ec41f96a-63a3-4825-9295-f4657a440ddb",
     "regions": {
      "24e2a3a9-bf65-4dab-927f-0bf6ffbe581d": {
       "attrs": {
        "height": 0.8,
        "width": 0.8,
        "x": 0.1,
        "y": 0.1
       },
       "content": {
        "cell": "defe921f-8097-44c3-8336-8af6700804a7",
        "part": "whole"
       },
       "id": "24e2a3a9-bf65-4dab-927f-0bf6ffbe581d"
      }
     }
    },
    "d24c958c-e419-4e4d-aa9c-d228a8ca55e4": {
     "id": "d24c958c-e419-4e4d-aa9c-d228a8ca55e4",
     "prev": "11bebe14-d1dc-476d-a31a-5828b9c3adf0",
     "regions": {
      "25312144-9faa-4680-bb8e-6307ea71370f": {
       "attrs": {
        "height": 0.8,
        "width": 0.8,
        "x": 0.1,
        "y": 0.1
       },
       "content": {
        "cell": "bed09a92-9a7a-473b-9464-90e479883a3e",
        "part": "whole"
       },
       "id": "25312144-9faa-4680-bb8e-6307ea71370f"
      }
     }
    },
    "ec41f96a-63a3-4825-9295-f4657a440ddb": {
     "id": "ec41f96a-63a3-4825-9295-f4657a440ddb",
     "prev": "87ab653d-e804-470f-bde9-c67caaa0f354",
     "regions": {
      "22e8be98-c254-4d04-b0e4-b9b5ae46eefe": {
       "attrs": {
        "height": 0.8,
        "width": 0.8,
        "x": 0.1,
        "y": 0.1
       },
       "content": {
        "cell": "bc70f780-c240-4779-96f3-bc5ef9a37d59",
        "part": "whole"
       },
       "id": "22e8be98-c254-4d04-b0e4-b9b5ae46eefe"
      }
     }
    },
    "fe5a0732-69f5-462a-8af6-851f84a9fdec": {
     "id": "fe5a0732-69f5-462a-8af6-851f84a9fdec",
     "prev": "d22045e5-7e3e-452e-bc7b-c6c4a893da8e",
     "regions": {
      "671b89f5-fa9c-4bc1-bdeb-6e0a4ce8939b": {
       "attrs": {
        "height": 0.8,
        "width": 0.8,
        "x": 0.1,
        "y": 0.1
       },
       "content": {
        "cell": "fd46e2ab-4ab6-4001-b536-1f323525d7d3",
        "part": "whole"
       },
       "id": "671b89f5-fa9c-4bc1-bdeb-6e0a4ce8939b"
      }
     }
    }
   },
   "themes": {}
  }
 },
 "nbformat": 4,
 "nbformat_minor": 2
}
