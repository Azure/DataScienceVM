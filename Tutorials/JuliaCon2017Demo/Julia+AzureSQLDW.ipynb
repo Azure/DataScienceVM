{
 "cells": [
  {
   "cell_type": "markdown",
   "metadata": {},
   "source": [
    "# Working with Azure SQL DW in Julia\n",
    "\n",
    "The aim of this notebook is to show how easy it is to connect to Azure SQL DW via Julia.\n",
    "\n",
    "###### Data Science Virtual Machines (DSVM) supported:\n",
    "- Windows Server 2016\n",
    "\n",
    "#### Prerequisties \n",
    "- SQL DW credentials ([instructions](https://docs.microsoft.com/en-us/azure/sql-data-warehouse/sql-data-warehouse-get-started-provision))\n",
    "\n",
    "\n",
    "#### Attribution \n",
    "- This notebook is largely based on Gonzalo Ruiz's [work](https://github.com/GONZALORUIZ/azsqldw-julia) at Microsoft \n"
   ]
  },
  {
   "cell_type": "markdown",
   "metadata": {},
   "source": [
    "#### Setup the SQL DW connection string\n",
    "Since the SQL DW is a cloud service, we need to populate the credentials and create a connection string. Check Prerequisties to get started."
   ]
  },
  {
   "cell_type": "code",
   "execution_count": null,
   "metadata": {
    "collapsed": false
   },
   "outputs": [],
   "source": [
    "Server =\"<Enter server IP, format = *database.windows.net>\"\n",
    "Database =\"<Database Name>\"\n",
    "Pwd = \"<Password for SQL DW>\"\n",
    "Uid = \"<Username on SQL DW>\""
   ]
  },
  {
   "cell_type": "markdown",
   "metadata": {},
   "source": [
    "Now we will build the connection string based on the credentials provided earlier"
   ]
  },
  {
   "cell_type": "code",
   "execution_count": null,
   "metadata": {
    "collapsed": false
   },
   "outputs": [],
   "source": [
    "sql_connection = \"Driver={ODBC Driver 13 for SQL Server};Server=tcp:$Server,1433;Database=$Database;Uid=$Uid@$Server;Pwd=$Pwd; Encrypt=yes;TrustServerCertificate=no;Connection Timeout=30;\""
   ]
  },
  {
   "cell_type": "markdown",
   "metadata": {},
   "source": [
    "The ODBC library is preinstalled on the DSVM so there is not need for its installation. "
   ]
  },
  {
   "cell_type": "code",
   "execution_count": null,
   "metadata": {
    "collapsed": true
   },
   "outputs": [],
   "source": [
    "using ODBC"
   ]
  },
  {
   "cell_type": "code",
   "execution_count": null,
   "metadata": {
    "collapsed": false
   },
   "outputs": [],
   "source": [
    "#println(\"SQL Conection String : $sql_connection\")\n",
    "\n",
    "  # @show ODBC.listdrivers()\n",
    "  # @show ODBC.listdsns()\n",
    "\n",
    "    dsndw = ODBC.DSN(sql_connection, prompt = false)\n",
    "\n",
    "    ODBC.execute!(dsndw, \"create table test1\n",
    "                        (test_bigint bigint,\n",
    "                        test_bit bit,\n",
    "                        test_decimal decimal,\n",
    "                        test_int int\n",
    "                        )\")\n",
    "\n",
    "    @time ODBC.execute!(dsndw, \"insert test1 VALUES\n",
    "                        (1, -- bigint\n",
    "                        1, -- bit\n",
    "                        1.0, -- decimal\n",
    "                        1)\")\n",
    "\n",
    "    @time dataset = ODBC.query(dsndw, \"select * from test1\")\n",
    "\n",
    "    println(\"Dataset Retrieved from  DW\")\n",
    "    println(dataset)\n",
    "\n",
    "    ODBC.execute!(dsndw, \"drop table test1\")\n"
   ]
  },
  {
   "cell_type": "code",
   "execution_count": null,
   "metadata": {
    "collapsed": true
   },
   "outputs": [],
   "source": []
  }
 ],
 "metadata": {
  "anaconda-cloud": {},
  "kernelspec": {
   "display_name": "Julia 0.5.1",
   "language": "julia",
   "name": "julia-0.5"
  },
  "language_info": {
   "file_extension": ".jl",
   "mimetype": "application/julia",
   "name": "julia",
   "version": "0.5.1"
  }
 },
 "nbformat": 4,
 "nbformat_minor": 2
}
