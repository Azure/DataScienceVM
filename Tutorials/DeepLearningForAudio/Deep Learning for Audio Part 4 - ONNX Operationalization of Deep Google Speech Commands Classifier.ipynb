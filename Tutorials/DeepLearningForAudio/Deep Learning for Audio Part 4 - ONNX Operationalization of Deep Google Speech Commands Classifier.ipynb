{
 "cells": [
  {
   "cell_type": "markdown",
   "metadata": {},
   "source": [
    "# Data Science Virtual Machine Audio Notebook 4\n",
    "\n",
    "### ONNX Operationalization of Deep Google Speech Commands Classifier\n",
    "\n",
    "The purpose of this notebook is to show how to export a trained machine learning model into cross-library [ONNX](https://onnx.ai/) format and operationalize the model on Azure from ONNX.\n"
   ]
  },
  {
   "cell_type": "code",
   "execution_count": 2,
   "metadata": {},
   "outputs": [
    {
     "data": {
      "text/html": [
       "<style>.container { width:100% !important; }</style>"
      ],
      "text/plain": [
       "<IPython.core.display.HTML object>"
      ]
     },
     "metadata": {},
     "output_type": "display_data"
    }
   ],
   "source": [
    "# change notebook settings for wider screen\n",
    "from IPython.core.display import display, HTML\n",
    "display(HTML(\"<style>.container { width:100% !important; }</style>\"))"
   ]
  },
  {
   "cell_type": "markdown",
   "metadata": {},
   "source": [
    "# ONNX CNTK export\n",
    "\n",
    "We need to toggle backends here to save and load CNTK model through ONNX:\n",
    " - to save: keep TF backend in Keras, import CNTK and save as ONNX\n",
    " - to load: switch Keras backend to CNTK and load the model from ONNX.\n"
   ]
  },
  {
   "cell_type": "code",
   "execution_count": null,
   "metadata": {
    "collapsed": true
   },
   "outputs": [],
   "source": [
    "model.save('keras_model')\n",
    "from keras.models import load_model\n",
    "loaded_model = load_model('keras_model')\n",
    "\n",
    "import cntk\n",
    "cntk.combine(loaded_model.outputs).save(\"model_cntk.dnn\")\n",
    "print('OK!')"
   ]
  },
  {
   "cell_type": "code",
   "execution_count": null,
   "metadata": {
    "collapsed": true
   },
   "outputs": [],
   "source": [
    "import cntk\n",
    "cntk.__version__\n",
    "import sys\n",
    "sys.version"
   ]
  },
  {
   "cell_type": "code",
   "execution_count": null,
   "metadata": {
    "collapsed": true
   },
   "outputs": [],
   "source": [
    "import imp\n",
    "imp.reload(cntk)\n",
    "cntk.__version__"
   ]
  },
  {
   "cell_type": "code",
   "execution_count": null,
   "metadata": {
    "collapsed": true
   },
   "outputs": [],
   "source": [
    "import cntk\n",
    "#import cntk as C\n",
    "#C.Mod\n",
    "cntk.combine(model.outputs).save(\"model_cntk.dnn\")\n"
   ]
  },
  {
   "cell_type": "code",
   "execution_count": null,
   "metadata": {
    "collapsed": true
   },
   "outputs": [],
   "source": [
    "# switch backend\n",
    "loaded_cntk_model = cntk.load(\"model_cntk.dnn\")\n",
    "loaded_cntk_model.save(\"model_cntk.onnx\", format = cntk.M)\n"
   ]
  },
  {
   "cell_type": "code",
   "execution_count": null,
   "metadata": {
    "collapsed": true
   },
   "outputs": [],
   "source": []
  },
  {
   "cell_type": "code",
   "execution_count": null,
   "metadata": {
    "collapsed": true
   },
   "outputs": [],
   "source": []
  }
 ],
 "metadata": {
  "kernelspec": {
   "display_name": "Python 3",
   "language": "python",
   "name": "python3"
  },
  "language_info": {
   "codemirror_mode": {
    "name": "ipython",
    "version": 3
   },
   "file_extension": ".py",
   "mimetype": "text/x-python",
   "name": "python",
   "nbconvert_exporter": "python",
   "pygments_lexer": "ipython3",
   "version": "3.5.2"
  }
 },
 "nbformat": 4,
 "nbformat_minor": 2
}
