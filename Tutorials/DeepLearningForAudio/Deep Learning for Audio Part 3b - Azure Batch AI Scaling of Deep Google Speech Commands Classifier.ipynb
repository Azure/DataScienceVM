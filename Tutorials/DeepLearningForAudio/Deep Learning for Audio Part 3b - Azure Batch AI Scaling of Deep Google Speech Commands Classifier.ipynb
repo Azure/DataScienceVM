{
 "cells": [
  {
   "cell_type": "markdown",
   "metadata": {},
   "source": [
    "### Data Science Virtual Machine Audio Notebook 3\n",
    "\n",
    "### Running Distributed Training on Batch A\\I\n",
    "This notebook describes how to set up and create a cluster with Azure Batch A\\I for training a speech commands model using multiple worker VMs.  There are different methods of running distributed parallel training.  The method we will employ here is to run multiple *replicas*, i.e. copies of the same model-training operations that operate on different batches of data and average their results into the same model parameters.\n",
    "\n",
    "### Setup\n",
    "First, you'll need to set up a service principal to be able to charge Azure resources from Python code.  You can find instructions on Batch A\\I recipes [page](https://github.com/Azure/BatchAI/tree/master/recipes).  Fill in TF_batch/credentials.json with the appropriate items from the setup process (e.g. subscription_id, aad_client_id, etc).\n",
    "\n",
    "Next, create an Azure fileshare.  This can be done from [Azure Portal](http://portal.azure.com), adding a fileshare to a storage account (create one if needed).  Put the necessary details into TF_batch/credentials.json (e.g. storage_account.name, storage_account.key, storage_account.file_share).\n",
    "\n",
    "After filling in credentials.json, you might need to restart the Jupyter kernel.\n",
    "\n",
    "Place the training.h5, training.scaler, and validation.h5 data into a directory called data_speech_commands in your fileshare. This name is configurable later if you want to name it something else. Azure Storage Explorer is a handy GUI for viewing, uploading, and downloading files in Azure fileshares.   \n"
   ]
  },
  {
   "cell_type": "code",
   "execution_count": 1,
   "metadata": {},
   "outputs": [
    {
     "data": {
      "text/html": [
       "<style>.container { width:100% !important; }</style>"
      ],
      "text/plain": [
       "<IPython.core.display.HTML object>"
      ]
     },
     "metadata": {},
     "output_type": "display_data"
    }
   ],
   "source": [
    "# change notebook settings for wider screen\n",
    "from IPython.core.display import display, HTML\n",
    "display(HTML(\"<style>.container { width:100% !important; }</style>\"))"
   ]
  },
  {
   "cell_type": "markdown",
   "metadata": {},
   "source": [
    "### Imports\n",
    "Make sure you have azure-mgmt-batchai installed w/ pip"
   ]
  },
  {
   "cell_type": "code",
   "execution_count": 2,
   "metadata": {
    "collapsed": true
   },
   "outputs": [],
   "source": [
    "from datetime import datetime\n",
    "import glob\n",
    "import traceback\n",
    "\n",
    "from TF_batch import cluster"
   ]
  },
  {
   "cell_type": "markdown",
   "metadata": {},
   "source": [
    "### Constants\n",
    "These are parameters for the rest of the notebook."
   ]
  },
  {
   "cell_type": "code",
   "execution_count": 3,
   "metadata": {
    "collapsed": true
   },
   "outputs": [],
   "source": [
    "CONFIG_PATH = 'TF_batch/credentials.json'\n",
    "NUM_WORKERS = 32\n",
    "CLUSTER_NAME = 'audio'\n",
    "# Use cluster.PRIORITY_LOW VMs for reduced cost.  Use cluster.PRIORITY_DEDICATED for more reliable uptime.\n",
    "CLUSTER_PRIORITY = cluster.PRIORITY_DEDICATED\n",
    "\n",
    "# Configuration of VM, e.g. STANDARD_NC6 (1x K80), STANDARD_NC12 (2x K80)\n",
    "VM_SIZE = 'STANDARD_NC6'\n",
    "\n",
    "# Remote execution\n",
    "REMOTE_DATA_DIR = 'data_speech_commands'\n",
    "REMOTE_SCRIPTS_DIR = 'audio_scripts'"
   ]
  },
  {
   "cell_type": "markdown",
   "metadata": {},
   "source": [
    "### Creating a cluster\n",
    "We've abstracted much of the details of creating a cluster into TF_batch/cluster.py. That file contains mostly calls to the Batch A\\I API, examples of which can be found in their [recipes](https://github.com/Azure/BatchAI/tree/master/recipes). The getOrCreate function will reuse a cluster with the same name if it exists."
   ]
  },
  {
   "cell_type": "code",
   "execution_count": 4,
   "metadata": {
    "scrolled": true
   },
   "outputs": [],
   "source": [
    "batch_cluster = cluster.TrainingCluster(cluster.Configuration(CONFIG_PATH), CLUSTER_NAME, NUM_WORKERS)\n",
    "status = batch_cluster.getOrCreate(priority=CLUSTER_PRIORITY, vm_size=VM_SIZE)\n",
    "if status.errors:\n",
    "    print('Errors during cluster create, cleaning up and exiting.')\n",
    "    print(', '.join([e.message for e in status.errors]))\n",
    "       "
   ]
  },
  {
   "cell_type": "markdown",
   "metadata": {},
   "source": [
    "Some optional commands for cluster management when needed."
   ]
  },
  {
   "cell_type": "code",
   "execution_count": 23,
   "metadata": {},
   "outputs": [
    {
     "name": "stdout",
     "output_type": "stream",
     "text": [
      "Cluster state = AllocationState.steady. Target= 32 Allocated = 32, NumIdle = 32, NumUnusable = 0, NumRunning = 0, NumPreparing = 0\n",
      "*******************Deleting All Jobs\n",
      "deleting job audio_train_17_01-50-27\n"
     ]
    }
   ],
   "source": [
    "batch_cluster.printClusterStatus()\n",
    "# batch_cluster.delete()\n",
    "batch_cluster.deleteAllJobs()"
   ]
  },
  {
   "cell_type": "markdown",
   "metadata": {},
   "source": [
    "### Preprocess Data to TF Examples\n",
    "Keras doesn't seem to be set up super well as a distributed training library. Since we're interested in using our Keras model from DCASE, we find that a better way to run distributed training is to instantiate the Keras model inside a tf.contrib.learn.Estimator.\n",
    "\n",
    "Before we can start training, we need to do a little preprocessing. The stardard way to pass data to the fit() function in TensorFlow is to set up streaming parsing of tf.Examples contained in TFRecord format. We have a script that does this for you, preprocess_speech_commands.  It reads in the HF5 from previous notebooks and outputs the examples to sharded TFRecord files."
   ]
  },
  {
   "cell_type": "code",
   "execution_count": null,
   "metadata": {
    "collapsed": true
   },
   "outputs": [],
   "source": [
    "# First, preprocess the training and validation data.\n",
    "cmd_line_args = batch_cluster.get_data_dir(data_dir=REMOTE_DATA_DIR)\n",
    "job_name = 'preprocess_audio_data_' + datetime.utcnow().strftime('%d_%H-%M-%S')\n",
    "batch_cluster.getOrLaunchJob(\n",
    "    job_name,\n",
    "    'TF_batch/remote/preprocess_speech_commands.py',\n",
    "    additional_files=get_script_files(),\n",
    "    remote_scripts_dir=REMOTE_SCRIPTS_DIR,\n",
    "    num_job_workers=1,\n",
    "    num_ps=0,\n",
    "    master_args=cmd_line_args,\n",
    "    worker_args=cmd_line_args,\n",
    "    ps_args='')\n",
    "    \n",
    "print('Launch done, waiting for complete...')\n",
    "batch_cluster.waitForJobDone(job_name)\n",
    "print('Job done.')"
   ]
  },
  {
   "cell_type": "markdown",
   "metadata": {},
   "source": [
    "### Launching a Training Job\n",
    "We use a helper functions that cover the usual options of launching a job.  By default, every Python file in TF_batch/remote will be uploaded to the fileshare."
   ]
  },
  {
   "cell_type": "code",
   "execution_count": 6,
   "metadata": {
    "collapsed": true
   },
   "outputs": [],
   "source": [
    "def get_script_files():\n",
    "    \"\"\"Return the python files to copy to the fileshare to be run.\"\"\"\n",
    "    return glob.glob('TF_batch/remote/*.py')\n",
    "    \n",
    "def launch(training_cluster, script, delete_job=True, delete_cluster=False, num_workers=None, num_ps=1,\n",
    "           job_name=None, include_files=None, script_args=None, job_prep_cmd=None,\n",
    "           container_name=None):\n",
    "    \"\"\"Launch a job and wait for it to finish.\"\"\"\n",
    "\n",
    "    try:\n",
    "        files_to_include = include_files or get_script_files()\n",
    "        job_name = job_name or (\n",
    "            'audio_train_' + datetime.utcnow().strftime('%d_%H-%M-%S'))\n",
    "        print('Launching job name: {0}'.format(job_name))\n",
    "        args = script_args\n",
    "        \n",
    "        # Get location on mounted fileshare where data is\n",
    "        mounted_data_dir = training_cluster.get_data_dir(\n",
    "            data_dir=REMOTE_DATA_DIR)\n",
    "        \n",
    "        # Use a container just so we know what TF version we're using.\n",
    "        cname = container_name or cluster.DEFAULT_IMAGE_GPU\n",
    "        \n",
    "        training_cluster.getOrLaunchJob(\n",
    "            job_name, script, additional_files=files_to_include,\n",
    "            remote_scripts_dir=REMOTE_SCRIPTS_DIR,\n",
    "            num_job_workers=num_workers or NUM_WORKERS,\n",
    "            num_ps=num_ps,\n",
    "            master_args=training_cluster.makeCmdLine(\n",
    "                'worker', mounted_data_dir, args),\n",
    "            worker_args=training_cluster.makeCmdLine(\n",
    "                'worker', mounted_data_dir, args),\n",
    "            ps_args=training_cluster.makeCmdLine('ps', mounted_data_dir, args),\n",
    "            job_prep_cmd=job_prep_cmd,\n",
    "            vm_image_name=cname)\n",
    "        print('Launch done, waiting for complete...')\n",
    "        training_cluster.waitForJobDone(job_name)\n",
    "        print('Job done.')\n",
    "    except Exception as e:\n",
    "        print(e)\n",
    "        traceback.print_exc()\n",
    "    finally:\n",
    "        if delete_job:\n",
    "            training_cluster.deleteJob(job_name)\n",
    "        if delete_cluster:\n",
    "            print('Deleting....')\n",
    "            training_cluster.delete()\n",
    "        return job_name"
   ]
  },
  {
   "cell_type": "markdown",
   "metadata": {},
   "source": [
    "Launch the keras training script.  This might take a few minutes to start up if it's the first job run on the cluster (VMs need to be \"prepared\").\n",
    "\n"
   ]
  },
  {
   "cell_type": "code",
   "execution_count": 11,
   "metadata": {},
   "outputs": [
    {
     "name": "stdout",
     "output_type": "stream",
     "text": [
      "Launching job name: audio_train_16_20-36-03\n",
      "Uploading: ['TF_batch/remote\\\\data.py', 'TF_batch/remote\\\\dcase_estimator.py', 'TF_batch/remote\\\\dcase_keras.py', 'TF_batch/remote\\\\keras_estimator.py', 'TF_batch/remote\\\\multi_gpu.py', 'TF_batch/remote\\\\preprocess_speech_commands.py', 'TF_batch/remote\\\\speech_utils.py', 'TF_batch/remote\\\\tf_utils.py', 'TF_batch/remote\\\\train_estimator.py', 'TF_batch/remote\\\\train_keras.py']\n",
      "Creating job...\n",
      "Job created.\n",
      "Launch done, waiting for complete...\n",
      "State: running\n",
      "job State = failed. ExitCode = 255 \n",
      "FailureDetails:\n",
      "ErrorCode:JobFailed\n",
      "ErrorMessage:Job failed with non-zero exit code\n",
      "\n",
      "Job done.\n",
      "deleting job audio_train_16_20-36-03\n"
     ]
    },
    {
     "data": {
      "text/plain": [
       "'audio_train_16_20-36-03'"
      ]
     },
     "execution_count": 11,
     "metadata": {},
     "output_type": "execute_result"
    }
   ],
   "source": [
    "launch(\n",
    "    batch_cluster,                    # defined in earlier cell\n",
    "    'TF_batch/remote/train_estimator.py', # the script to run on each worker\n",
    "    num_workers=4,                    # can run on up to NUM_WORKERS\n",
    "    job_prep_cmd='pip install keras==2.1.2',  # we launch as a TF job in a TF container, needs keras\n",
    "    script_args='--max_steps=2000 --batch_size=60'\n",
    ")"
   ]
  },
  {
   "cell_type": "markdown",
   "metadata": {},
   "source": [
    "### Measure Scaling Performance\n",
    "One question that presents itself is how many VMs should be used for a single training job?  We can attempt to answer this by measuring how long it takes training to reach a certain validation accuracy across different numbers of VMs.  "
   ]
  },
  {
   "cell_type": "code",
   "execution_count": 43,
   "metadata": {
    "collapsed": true
   },
   "outputs": [],
   "source": [
    "import urllib\n",
    "\n",
    "def get_std(cluster_obj, job_name, worker=0, outtype='err'):\n",
    "    files = cluster_obj.client.jobs.list_output_files(cluster_obj.config.resource_group, job_name,\n",
    "                                                      cluster.trainingModels.JobsListOutputFilesOptions(\"stdOuterr\"))\n",
    "    url = None\n",
    "    for f in files:\n",
    "        if 'std{1}-wk-{0}.txt'.format(worker, outtype) == f.name:\n",
    "            url = f.download_url\n",
    "    response = urllib.request.urlopen(url)\n",
    "    return response.read().decode(\"utf-8\") \n",
    "\n",
    "def extract_result(cluster_obj, job_name):\n",
    "    errtxt = get_std(batch_cluster, job_name, outtype='err')\n",
    "    for l in errtxt.split('\\n'):\n",
    "        if 'Training time:' in l:\n",
    "            words = l.split(' ')\n",
    "            return float(words[words.index('time:') + 1])\n",
    "    return None\n",
    "\n",
    "def run_experiment(cluster_obj, target_accuracy=0.90, min_vms=1, max_vms=NUM_WORKERS):\n",
    "    jobs = []\n",
    "    errors = 0\n",
    "    num_vms = min_vms\n",
    "    results = []\n",
    "    while num_vms <= max_vms:\n",
    "        job_name = launch(\n",
    "            batch_cluster,                    # defined in earlier cell\n",
    "            'TF_batch/remote/train_estimator.py', # the script to run on each worker\n",
    "            num_workers=num_vms,                    # can run on up to NUM_WORKERS\n",
    "            num_ps=0 if num_vms == 1 else 1,\n",
    "            delete_job=False,\n",
    "            script_args=\"--max_steps=200000 --target_accuracy={0} --batch_size=60 --eval_every_n_steps=1000\".format(\n",
    "                target_accuracy),\n",
    "            job_prep_cmd='pip install keras==2.1.2'  # we launch as a TF job in a TF container, needs keras\n",
    "\n",
    "        )\n",
    "        jobs.append(job_name)\n",
    "        result = extract_result(cluster_obj, job_name)\n",
    "        print('training time for {0} vms: {1}'.format(num_vms, result))\n",
    "        \n",
    "        if result is None:\n",
    "            errors += 1\n",
    "        else:\n",
    "            results.append(result)\n",
    "        num_vms = num_vms * 2\n",
    "    \n",
    "    print('Got {0} errors.'.format(errors))\n",
    "    # clean up\n",
    "    for j in jobs:\n",
    "        cluster_obj.deleteJob(j)\n",
    "        \n",
    "    return results\n"
   ]
  },
  {
   "cell_type": "code",
   "execution_count": 50,
   "metadata": {},
   "outputs": [
    {
     "name": "stdout",
     "output_type": "stream",
     "text": [
      "Launching job name: audio_train_17_19-51-20\n",
      "Uploading: ['TF_batch/remote\\\\data.py', 'TF_batch/remote\\\\dcase_estimator.py', 'TF_batch/remote\\\\dcase_keras.py', 'TF_batch/remote\\\\keras_estimator.py', 'TF_batch/remote\\\\multi_gpu.py', 'TF_batch/remote\\\\preprocess_speech_commands.py', 'TF_batch/remote\\\\speech_utils.py', 'TF_batch/remote\\\\tf_utils.py', 'TF_batch/remote\\\\train_estimator.py', 'TF_batch/remote\\\\train_keras.py']\n",
      "Creating job...\n",
      "Job created.\n",
      "Launch done, waiting for complete...\n",
      "State: running\n"
     ]
    },
    {
     "name": "stderr",
     "output_type": "stream",
     "text": [
      "Token expired or is invalid. Attempting to refresh.\n"
     ]
    },
    {
     "name": "stdout",
     "output_type": "stream",
     "text": [
      "job State = failed. ExitCode = 255 \n",
      "FailureDetails:\n",
      "ErrorCode:JobFailed\n",
      "ErrorMessage:Job failed with non-zero exit code\n",
      "\n",
      "Job done.\n",
      "training time for 1 vms: 582.72903204\n",
      "Launching job name: audio_train_17_20-01-50\n",
      "Uploading: ['TF_batch/remote\\\\data.py', 'TF_batch/remote\\\\dcase_estimator.py', 'TF_batch/remote\\\\dcase_keras.py', 'TF_batch/remote\\\\keras_estimator.py', 'TF_batch/remote\\\\multi_gpu.py', 'TF_batch/remote\\\\preprocess_speech_commands.py', 'TF_batch/remote\\\\speech_utils.py', 'TF_batch/remote\\\\tf_utils.py', 'TF_batch/remote\\\\train_estimator.py', 'TF_batch/remote\\\\train_keras.py']\n",
      "Creating job...\n",
      "Job created.\n",
      "Launch done, waiting for complete...\n",
      "State: running\n",
      "job State = failed. ExitCode = 255 \n",
      "FailureDetails:\n",
      "ErrorCode:JobFailed\n",
      "ErrorMessage:Job failed with non-zero exit code\n",
      "\n",
      "Job done.\n",
      "training time for 2 vms: 338.418920994\n",
      "Launching job name: audio_train_17_20-08-21\n",
      "Uploading: ['TF_batch/remote\\\\data.py', 'TF_batch/remote\\\\dcase_estimator.py', 'TF_batch/remote\\\\dcase_keras.py', 'TF_batch/remote\\\\keras_estimator.py', 'TF_batch/remote\\\\multi_gpu.py', 'TF_batch/remote\\\\preprocess_speech_commands.py', 'TF_batch/remote\\\\speech_utils.py', 'TF_batch/remote\\\\tf_utils.py', 'TF_batch/remote\\\\train_estimator.py', 'TF_batch/remote\\\\train_keras.py']\n",
      "Creating job...\n",
      "Job created.\n",
      "Launch done, waiting for complete...\n",
      "State: running\n",
      "job State = failed. ExitCode = 255 \n",
      "FailureDetails:\n",
      "ErrorCode:JobFailed\n",
      "ErrorMessage:Job failed with non-zero exit code\n",
      "\n",
      "Job done.\n",
      "training time for 4 vms: 273.449406862\n",
      "Launching job name: audio_train_17_20-13-50\n",
      "Uploading: ['TF_batch/remote\\\\data.py', 'TF_batch/remote\\\\dcase_estimator.py', 'TF_batch/remote\\\\dcase_keras.py', 'TF_batch/remote\\\\keras_estimator.py', 'TF_batch/remote\\\\multi_gpu.py', 'TF_batch/remote\\\\preprocess_speech_commands.py', 'TF_batch/remote\\\\speech_utils.py', 'TF_batch/remote\\\\tf_utils.py', 'TF_batch/remote\\\\train_estimator.py', 'TF_batch/remote\\\\train_keras.py']\n",
      "Creating job...\n",
      "Job created.\n",
      "Launch done, waiting for complete...\n",
      "State: running\n",
      "job State = failed. ExitCode = 255 \n",
      "FailureDetails:\n",
      "ErrorCode:JobFailed\n",
      "ErrorMessage:Job failed with non-zero exit code\n",
      "\n",
      "Job done.\n",
      "training time for 8 vms: 203.941865206\n",
      "Got 0 errors.\n",
      "deleting job audio_train_17_19-51-20\n",
      "deleting job audio_train_17_20-01-50\n",
      "deleting job audio_train_17_20-08-21\n",
      "deleting job audio_train_17_20-13-50\n"
     ]
    }
   ],
   "source": [
    "results94 = run_experiment(batch_cluster, max_vms=8, target_accuracy=0.93)"
   ]
  },
  {
   "cell_type": "code",
   "execution_count": 54,
   "metadata": {},
   "outputs": [
    {
     "data": {
      "image/png": "[encoded data removed]",
      "text/plain": [
       "<matplotlib.figure.Figure at 0x20e7c8a0f28>"
      ]
     },
     "metadata": {},
     "output_type": "display_data"
    }
   ],
   "source": [
    "\n",
    "# results listed explicitly here, multiple runs were needed for different accuracies\n",
    "saved_results94 = [1340, 872, 330, 374]\n",
    "saved_results93 = [582, 338, 273, 203]\n",
    "\n",
    "%matplotlib inline  \n",
    "import matplotlib.pyplot as plt\n",
    "    \n",
    "plt.plot([1, 2, 4, 8], saved_results94, label='94%')\n",
    "plt.plot([1, 2, 4, 8], saved_results93, label='93%')\n",
    "plt.xlabel(\"# VMs\")\n",
    "plt.ylabel(\"Training Time (s)\")\n",
    "plt.ylim([0, 1500])\n",
    "plt.title(\"Time (s) to Reach Validation Accuracy.\")\n",
    "plt.legend(loc=1)\n",
    "plt.show()"
   ]
  },
  {
   "cell_type": "markdown",
   "metadata": {},
   "source": [
    "We can see that when using a parameter server with a worker-replica model and asynchronous gradient updates, training time improves up to about 4-8 VMs.  After that, it generally doesn't converge because in asynchronous mode it becomes more likely that a worker will be out of date when they go to apply their parameter updates.  "
   ]
  }
 ],
 "metadata": {
  "kernelspec": {
   "display_name": "Python 3",
   "language": "python",
   "name": "python3"
  },
  "language_info": {
   "codemirror_mode": {
    "name": "ipython",
    "version": 3
   },
   "file_extension": ".py",
   "mimetype": "text/x-python",
   "name": "python",
   "nbconvert_exporter": "python",
   "pygments_lexer": "ipython3",
   "version": "3.6.3"
  }
 },
 "nbformat": 4,
 "nbformat_minor": 2
}
