{
 "cells": [
  {
   "cell_type": "code",
   "execution_count": 1,
   "metadata": {},
   "outputs": [],
   "source": [
    "from IPython.display import Image"
   ]
  },
  {
   "cell_type": "markdown",
   "metadata": {},
   "source": [
    "# Part 2 - Model Training"
   ]
  },
  {
   "cell_type": "markdown",
   "metadata": {},
   "source": [
    "This tutorial shows how to implement image recognition task using convolution network with CNTK v2 Python API. You will do this with a basic feedforward CNN architecture to classify [CIFAR dataset](https://www.cs.toronto.edu/~kriz/cifar.html). The CNTK tutorials on GitHub have more advanced networks that are useful for achieving higher accuracy.\n",
    "\n",
    "[convolution network]:https://en.wikipedia.org/wiki/Convolutional_neural_network\n",
    "\n",
    "## Introduction\n",
    "\n",
    "In this tutorial, you will practice the following:\n",
    "\n",
    "* Understanding subset of CNTK python API needed for image classification task.\n",
    "* Write a custom convolution network to classify CIFAR dataset.\n",
    "* Modifying the network structure by adding:\n",
    " * [Dropout][] layer.\n",
    " * Batchnormalization layer.\n",
    "\n",
    "[RESNET network]:https://docs.microsoft.com/en-us/cognitive-toolkit/Hands-On-Labs-Image-Recognition \n",
    "[Dropout]:https://en.wikipedia.org/wiki/Dropout_(neural_networks)\n",
    "\n",
    "## Prerequisites\n",
    "\n",
    "Please run the data loader notebook.\n",
    "\n",
    "\n",
    "## Dataset\n",
    "\n",
    "You will use CIFAR 10 dataset, from https://www.cs.toronto.edu/~kriz/cifar.html, during this tutorial. The dataset  contains 50000 training images and 10000 test images, all images are 32 x 32 x 3. Each image is classified as one of 10 classes as shown below:"
   ]
  },
  {
   "cell_type": "code",
   "execution_count": 2,
   "metadata": {},
   "outputs": [
    {
     "data": {
      "text/html": [
       "<img src=\"https://cntk.ai/jup/201/cifar-10.png\" width=\"500\" height=\"500\"/>"
      ],
      "text/plain": [
       "<IPython.core.display.Image object>"
      ]
     },
     "execution_count": 2,
     "metadata": {},
     "output_type": "execute_result"
    }
   ],
   "source": [
    "# Figure 1\n",
    "Image(url=\"https://cntk.ai/jup/201/cifar-10.png\", width=500, height=500)"
   ]
  },
  {
   "cell_type": "markdown",
   "metadata": {},
   "source": [
    "The above image is from: https://www.cs.toronto.edu/~kriz/cifar.html\n",
    "\n",
    "## Convolution Neural Network (CNN)\n",
    "\n",
    "Here is a brief recap of Convolution Neural Network (CNN). CNN is a feedforward network comprise of a bunch of layers in such a way that the output of one layer is fed to the next layer (There are more complex architecture that skip layers, we will discuss one of those at the end of this lab). Usually, CNN start with alternating between convolution layer and pooling layer (downsample), then end up with fully connected layer for the classification part.\n",
    "\n",
    "### Convolution layer\n",
    "\n",
    "Convolution layer consist of multiple 2D convolution kernels applied on the input image or the previous layer, each convolution kernel outputs a feature map."
   ]
  },
  {
   "cell_type": "code",
   "execution_count": 3,
   "metadata": {},
   "outputs": [
    {
     "data": {
      "text/html": [
       "<img src=\"https://cntk.ai/jup/201/Conv2D.png\"/>"
      ],
      "text/plain": [
       "<IPython.core.display.Image object>"
      ]
     },
     "execution_count": 3,
     "metadata": {},
     "output_type": "execute_result"
    }
   ],
   "source": [
    "# Figure 2\n",
    "Image(url=\"https://cntk.ai/jup/201/Conv2D.png\")"
   ]
  },
  {
   "cell_type": "markdown",
   "metadata": {},
   "source": [
    "The stack of feature maps output are the input to the next layer."
   ]
  },
  {
   "cell_type": "code",
   "execution_count": 4,
   "metadata": {},
   "outputs": [
    {
     "data": {
      "text/html": [
       "<img src=\"https://cntk.ai/jup/201/Conv2DFeatures.png\"/>"
      ],
      "text/plain": [
       "<IPython.core.display.Image object>"
      ]
     },
     "execution_count": 4,
     "metadata": {},
     "output_type": "execute_result"
    }
   ],
   "source": [
    "# Figure 3\n",
    "Image(url=\"https://cntk.ai/jup/201/Conv2DFeatures.png\")"
   ]
  },
  {
   "cell_type": "markdown",
   "metadata": {},
   "source": [
    "> Gradient-Based Learning Applied to Document Recognition, Proceedings of the IEEE, 86(11):2278-2324, November 1998\n",
    "> Y. LeCun, L. Bottou, Y. Bengio and P. Haffner\n",
    "\n",
    "**In CNTK**:\n",
    "\n",
    "Here the [convolution][] layer in Python:\n",
    "\n",
    "```python\n",
    "def Convolution(filter_shape,        # e.g. (3,3)\n",
    "                num_filters,         # e.g. 64\n",
    "                activation,          # relu or None...etc.\n",
    "                init,                # Random initialization\n",
    "                pad,                 # True or False\n",
    "                strides)             # strides e.g. (1,1)\n",
    "```\n",
    "\n",
    "[convolution]:https://www.cntk.ai/pythondocs/layerref.html#convolution\n",
    "\n",
    "### Pooling layer\n",
    "\n",
    "In most CNN vision architecture, each convolution layer is succeeded by a pooling layer, so they keep alternating until the fully connected layer. \n",
    "\n",
    "The purpose of the pooling layer is as follow:\n",
    "\n",
    "* Reduce the dimensionality of the previous layer, which speed up the network.\n",
    "* Provide a limited translation invariant.\n",
    "\n",
    "Here an example of max pooling with a stride of 2:"
   ]
  },
  {
   "cell_type": "code",
   "execution_count": 5,
   "metadata": {},
   "outputs": [
    {
     "data": {
      "text/html": [
       "<img src=\"https://cntk.ai/jup/201/MaxPooling.png\" width=\"400\" height=\"400\"/>"
      ],
      "text/plain": [
       "<IPython.core.display.Image object>"
      ]
     },
     "execution_count": 5,
     "metadata": {},
     "output_type": "execute_result"
    }
   ],
   "source": [
    "# Figure 4\n",
    "Image(url=\"https://cntk.ai/jup/201/MaxPooling.png\", width=400, height=400)"
   ]
  },
  {
   "cell_type": "markdown",
   "metadata": {},
   "source": [
    "**In CNTK**:\n",
    "\n",
    "Here the [pooling][] layer in Python:\n",
    "\n",
    "```python\n",
    "\n",
    "# Max pooling\n",
    "def MaxPooling(filter_shape,  # e.g. (3,3)\n",
    "               strides,       # (2,2)\n",
    "               pad)           # True or False\n",
    "\n",
    "# Average pooling\n",
    "def AveragePooling(filter_shape,  # e.g. (3,3)\n",
    "                   strides,       # (2,2)\n",
    "                   pad)           # True or False\n",
    "```\n",
    "\n",
    "[pooling]:https://www.cntk.ai/pythondocs/layerref.html#maxpooling-averagepooling\n",
    "\n",
    "### Dropout layer\n",
    "\n",
    "Dropout layer takes a probability value as an input, the value is called the dropout rate. Let us say the dropout rate is 0.5, what this layer does it pick at random 50% of the nodes from the previous layer and drop them out of the network. This behavior help regularize the network.\n",
    "\n",
    "> Dropout: A Simple Way to Prevent Neural Networks from Overfitting\n",
    "> Nitish Srivastava, Geoffrey Hinton, Alex Krizhevsky, Ilya Sutskever, Ruslan Salakhutdinov\n",
    "\n",
    "\n",
    "**In CNTK**:\n",
    "\n",
    "Dropout layer in Python:\n",
    "\n",
    "```python\n",
    "\n",
    "# Dropout\n",
    "def Dropout(prob)    # dropout rate e.g. 0.5\n",
    "```\n",
    "\n",
    "### Batch normalization (BN)\n",
    "\n",
    "Batch normalization is a way to make the input to each layer has zero mean and unit variance. BN help the network converge faster and keep the input of each layer around zero. BN has two learnable parameters called gamma and beta, the purpose of those parameters is for the network to decide for itself if the normalized input is what is best or the raw input.\n",
    "\n",
    "> Batch Normalization: Accelerating Deep Network Training by Reducing Internal Covariate Shift\n",
    "> Sergey Ioffe, Christian Szegedy\n",
    "\n",
    "**In CNTK**:\n",
    "\n",
    "[Batch normalization][] layer in Python:\n",
    "\n",
    "```python\n",
    "\n",
    "# Batch normalization\n",
    "def BatchNormalization(map_rank)  # For image map_rank=1\n",
    "```\n",
    "\n",
    "[Batch normalization]:https://www.cntk.ai/pythondocs/layerref.html#batchnormalization-layernormalization-stabilizer\n",
    "\n",
    "\n",
    "Let us begin by first importing the modules."
   ]
  },
  {
   "cell_type": "code",
   "execution_count": 6,
   "metadata": {},
   "outputs": [],
   "source": [
    "from __future__ import print_function # Use a function definition from future version (say 3.x from 2.7 interpreter)\n",
    "\n",
    "import matplotlib.pyplot as plt\n",
    "import math\n",
    "import numpy as np\n",
    "import os\n",
    "import PIL\n",
    "import sys\n",
    "try: \n",
    "    from urllib.request import urlopen \n",
    "except ImportError: \n",
    "    from urllib import urlopen\n",
    "\n",
    "import cntk as C"
   ]
  },
  {
   "cell_type": "markdown",
   "metadata": {},
   "source": [
    "In the block below we select the first GPU device to run on. This allows multiple CNTK sessions (from different users) to simultaneously use the same GPU. If you're running this on your own, you can comment this line out."
   ]
  },
  {
   "cell_type": "code",
   "execution_count": 7,
   "metadata": {},
   "outputs": [
    {
     "data": {
      "text/plain": [
       "True"
      ]
     },
     "execution_count": 7,
     "metadata": {},
     "output_type": "execute_result"
    }
   ],
   "source": [
    "C.device.try_set_default_device(C.device.gpu(0))"
   ]
  },
  {
   "cell_type": "markdown",
   "metadata": {},
   "source": [
    "## Data reading\n",
    "\n",
    "To train the above model we need two things:\n",
    "* Read the training images and their corresponding labels.\n",
    "* Define a cost function, compute the cost for each mini-batch and update the model weights according to the cost value.\n",
    "\n",
    "To read the data in CNTK, we will use CNTK readers which handle data augmentation and can fetch data in parallel.\n",
    "\n",
    "Example of a map text file:\n",
    "\n",
    "    S:\\data\\CIFAR-10\\train\\00001.png\t9\n",
    "    S:\\data\\CIFAR-10\\train\\00002.png\t9\n",
    "    S:\\data\\CIFAR-10\\train\\00003.png\t4\n",
    "    S:\\data\\CIFAR-10\\train\\00004.png\t1\n",
    "    S:\\data\\CIFAR-10\\train\\00005.png\t1\n"
   ]
  },
  {
   "cell_type": "code",
   "execution_count": 8,
   "metadata": {},
   "outputs": [],
   "source": [
    "# data_path = os.path.join('data', 'CIFAR-10')\n",
    "data_path = '.'\n",
    "\n",
    "# model dimensions\n",
    "image_height = 32\n",
    "image_width  = 32\n",
    "num_channels = 3\n",
    "num_classes  = 10\n",
    "\n",
    "import cntk.io.transforms as xforms \n",
    "#\n",
    "# Define the reader for both training and evaluation action.\n",
    "#\n",
    "def create_reader(map_file, mean_file, train):\n",
    "    print(\"Reading map file:\", map_file)\n",
    "    print(\"Reading mean file:\", mean_file)\n",
    "    \n",
    "    if not os.path.exists(map_file) or not os.path.exists(mean_file):\n",
    "        raise RuntimeError(\"This tutorials depends 201A tutorials, please run 201A first.\")\n",
    "\n",
    "    # transformation pipeline for the features has jitter/crop only when training\n",
    "    transforms = []\n",
    "    # train uses data augmentation (translation only)\n",
    "    if train:\n",
    "        transforms += [\n",
    "            xforms.crop(crop_type='randomside', side_ratio=0.8) \n",
    "        ]\n",
    "    transforms += [\n",
    "        xforms.scale(width=image_width, height=image_height, channels=num_channels, interpolations='linear'),\n",
    "        xforms.mean(mean_file)\n",
    "    ]\n",
    "    # deserializer\n",
    "    return C.io.MinibatchSource(C.io.ImageDeserializer(map_file, C.io.StreamDefs(\n",
    "        features = C.io.StreamDef(field='image', transforms=transforms), # first column in map file is referred to as 'image'\n",
    "        labels   = C.io.StreamDef(field='label', shape=num_classes)      # and second as 'label'\n",
    "    )))"
   ]
  },
  {
   "cell_type": "code",
   "execution_count": 9,
   "metadata": {},
   "outputs": [
    {
     "name": "stdout",
     "output_type": "stream",
     "text": [
      "Reading map file: ./train_map.txt\n",
      "Reading mean file: ./CIFAR-10_mean.xml\n",
      "Reading map file: ./test_map.txt\n",
      "Reading mean file: ./CIFAR-10_mean.xml\n"
     ]
    }
   ],
   "source": [
    "# Create the train and test readers\n",
    "reader_train = create_reader(os.path.join(data_path, 'train_map.txt'), \n",
    "                             os.path.join(data_path, 'CIFAR-10_mean.xml'), True)\n",
    "reader_test  = create_reader(os.path.join(data_path, 'test_map.txt'), \n",
    "                             os.path.join(data_path, 'CIFAR-10_mean.xml'), False) "
   ]
  },
  {
   "cell_type": "code",
   "execution_count": 10,
   "metadata": {},
   "outputs": [
    {
     "data": {
      "text/html": [
       "<img src=\"https://cntk.ai/jup/201/CNN.png\"/>"
      ],
      "text/plain": [
       "<IPython.core.display.Image object>"
      ]
     },
     "execution_count": 10,
     "metadata": {},
     "output_type": "execute_result"
    }
   ],
   "source": [
    "# Figure 5\n",
    "Image(url=\"https://cntk.ai/jup/201/CNN.png\")"
   ]
  },
  {
   "cell_type": "markdown",
   "metadata": {},
   "source": [
    "## Model creation (Basic CNN)\n",
    "\n",
    "Now that we imported the needed modules, let's implement our first CNN, as shown in Figure 5 above.\n",
    "\n",
    "Let's implement the above network using CNTK layer API:"
   ]
  },
  {
   "cell_type": "code",
   "execution_count": 11,
   "metadata": {},
   "outputs": [],
   "source": [
    "def create_basic_model(input, out_dims):\n",
    "    with C.layers.default_options(init=C.glorot_uniform(), activation=C.relu):\n",
    "        net = C.layers.Convolution((5,5), 32, pad=True)(input)\n",
    "        net = C.layers.MaxPooling((3,3), strides=(2,2))(net)\n",
    "\n",
    "        net = C.layers.Convolution((5,5), 32, pad=True)(net)\n",
    "        net = C.layers.MaxPooling((3,3), strides=(2,2))(net)\n",
    "\n",
    "        net = C.layers.Convolution((5,5), 64, pad=True)(net)\n",
    "        net = C.layers.MaxPooling((3,3), strides=(2,2))(net)\n",
    "    \n",
    "        net = C.layers.Dense(64)(net)\n",
    "        net = C.layers.Dense(out_dims, activation=None)(net)\n",
    "    \n",
    "    return net"
   ]
  },
  {
   "cell_type": "markdown",
   "metadata": {},
   "source": [
    "## Training and evaluation\n",
    "\n",
    "Now let us write the training and evaluation loop."
   ]
  },
  {
   "cell_type": "code",
   "execution_count": 12,
   "metadata": {},
   "outputs": [],
   "source": [
    "#\n",
    "# Train and evaluate the network.\n",
    "#\n",
    "def train_and_evaluate(reader_train, reader_test, max_epochs, model_func):\n",
    "    # Input variables denoting the features and label data\n",
    "    input_var = C.input_variable((num_channels, image_height, image_width))\n",
    "    label_var = C.input_variable((num_classes))\n",
    "\n",
    "    # Normalize the input\n",
    "    feature_scale = 1.0 / 256.0\n",
    "    input_var_norm = C.element_times(feature_scale, input_var)\n",
    "    \n",
    "    # apply model to input\n",
    "    z = model_func(input_var_norm, out_dims=10)\n",
    "\n",
    "    #\n",
    "    # Training action\n",
    "    #\n",
    "\n",
    "    # loss and metric\n",
    "    ce = C.cross_entropy_with_softmax(z, label_var)\n",
    "    pe = C.classification_error(z, label_var)\n",
    "\n",
    "    # training config\n",
    "    epoch_size     = 50000\n",
    "    minibatch_size = 64\n",
    "\n",
    "    # Set training parameters\n",
    "    lr_per_minibatch       = C.learning_parameter_schedule([0.01]*10 + [0.003]*10 + [0.001], \n",
    "                                                       epoch_size)\n",
    "    momentums              = C.momentum_schedule(0.9, minibatch_size)\n",
    "    l2_reg_weight          = 0.001\n",
    "    \n",
    "    # trainer object\n",
    "    learner = C.momentum_sgd(z.parameters, \n",
    "                             lr = lr_per_minibatch, \n",
    "                             momentum = momentums, \n",
    "                             l2_regularization_weight=l2_reg_weight)\n",
    "    progress_printer = C.logging.ProgressPrinter(tag='Training', num_epochs=max_epochs)\n",
    "    trainer = C.Trainer(z, (ce, pe), [learner], [progress_printer])\n",
    "\n",
    "    # define mapping from reader streams to network inputs\n",
    "    input_map = {\n",
    "        input_var: reader_train.streams.features,\n",
    "        label_var: reader_train.streams.labels\n",
    "    }\n",
    "\n",
    "    C.logging.log_number_of_parameters(z) ; print()\n",
    "\n",
    "    # perform model training\n",
    "    batch_index = 0\n",
    "    plot_data = {'batchindex':[], 'loss':[], 'error':[]}\n",
    "    for epoch in range(max_epochs):       # loop over epochs\n",
    "        sample_count = 0\n",
    "        while sample_count < epoch_size:  # loop over minibatches in the epoch\n",
    "            data = reader_train.next_minibatch(min(minibatch_size, epoch_size - sample_count), \n",
    "                                               input_map=input_map) # fetch minibatch.\n",
    "            trainer.train_minibatch(data)                                   # update model with it\n",
    "\n",
    "            sample_count += data[label_var].num_samples                     # count samples processed so far\n",
    "            \n",
    "            # For visualization...            \n",
    "            plot_data['batchindex'].append(batch_index)\n",
    "            plot_data['loss'].append(trainer.previous_minibatch_loss_average)\n",
    "            plot_data['error'].append(trainer.previous_minibatch_evaluation_average)\n",
    "            \n",
    "            batch_index += 1\n",
    "        trainer.summarize_training_progress()\n",
    "        \n",
    "    #\n",
    "    # Evaluation action\n",
    "    #\n",
    "    epoch_size     = 10000\n",
    "    minibatch_size = 16\n",
    "\n",
    "    # process minibatches and evaluate the model\n",
    "    metric_numer    = 0\n",
    "    metric_denom    = 0\n",
    "    sample_count    = 0\n",
    "    minibatch_index = 0\n",
    "\n",
    "    while sample_count < epoch_size:\n",
    "        current_minibatch = min(minibatch_size, epoch_size - sample_count)\n",
    "\n",
    "        # Fetch next test min batch.\n",
    "        data = reader_test.next_minibatch(current_minibatch, input_map=input_map)\n",
    "\n",
    "        # minibatch data to be trained with\n",
    "        metric_numer += trainer.test_minibatch(data) * current_minibatch\n",
    "        metric_denom += current_minibatch\n",
    "\n",
    "        # Keep track of the number of samples processed so far.\n",
    "        sample_count += data[label_var].num_samples\n",
    "        minibatch_index += 1\n",
    "\n",
    "    print(\"\")\n",
    "    print(\"Final Results: Minibatch[1-{}]: errs = {:0.1f}% * {}\".format(minibatch_index+1, (metric_numer*100.0)/metric_denom, metric_denom))\n",
    "    print(\"\")\n",
    "    \n",
    "    # Visualize training result:\n",
    "    window_width            = 32\n",
    "    loss_cumsum             = np.cumsum(np.insert(plot_data['loss'], 0, 0)) \n",
    "    error_cumsum            = np.cumsum(np.insert(plot_data['error'], 0, 0)) \n",
    "\n",
    "    # Moving average.\n",
    "    plot_data['batchindex'] = np.insert(plot_data['batchindex'], 0, 0)[window_width:]\n",
    "    plot_data['avg_loss']   = (loss_cumsum[window_width:] - loss_cumsum[:-window_width]) / window_width\n",
    "    plot_data['avg_error']  = (error_cumsum[window_width:] - error_cumsum[:-window_width]) / window_width\n",
    "    \n",
    "    plt.figure(1)\n",
    "    plt.subplot(211)\n",
    "    plt.plot(plot_data[\"batchindex\"], plot_data[\"avg_loss\"], 'b--')\n",
    "    plt.xlabel('Minibatch number')\n",
    "    plt.ylabel('Loss')\n",
    "    plt.title('Minibatch run vs. Training loss ')\n",
    "\n",
    "    plt.show()\n",
    "\n",
    "    plt.subplot(212)\n",
    "    plt.plot(plot_data[\"batchindex\"], plot_data[\"avg_error\"], 'r--')\n",
    "    plt.xlabel('Minibatch number')\n",
    "    plt.ylabel('Label Prediction Error')\n",
    "    plt.title('Minibatch run vs. Label Prediction Error ')\n",
    "    plt.show()\n",
    "    \n",
    "    return C.softmax(z)"
   ]
  },
  {
   "cell_type": "code",
   "execution_count": 13,
   "metadata": {},
   "outputs": [
    {
     "name": "stderr",
     "output_type": "stream",
     "text": [
      "/anaconda/envs/py35/lib/python3.5/site-packages/cntk/learners/__init__.py:340: RuntimeWarning: When providing the schedule as a number, epoch_size is ignored\n",
      "  warnings.warn('When providing the schedule as a number, epoch_size is ignored', RuntimeWarning)\n"
     ]
    },
    {
     "name": "stdout",
     "output_type": "stream",
     "text": [
      "Training 116906 parameters in 10 parameter tensors.\n",
      "\n",
      "Learning rate per 50000 samples: 0.01\n",
      "Momentum per minibatch: 0.9\n",
      "Finished Epoch[1 of 5]: [Training] loss = 2.304842 * 50000, metric = 89.55% * 50000 182.634s (273.8 samples/s);\n",
      "Finished Epoch[2 of 5]: [Training] loss = 2.304165 * 50000, metric = 89.49% * 50000 7.881s (6344.4 samples/s);\n",
      "Finished Epoch[3 of 5]: [Training] loss = 2.303638 * 50000, metric = 89.50% * 50000 6.888s (7259.0 samples/s);\n",
      "Finished Epoch[4 of 5]: [Training] loss = 2.303063 * 50000, metric = 89.53% * 50000 6.832s (7318.5 samples/s);\n",
      "Finished Epoch[5 of 5]: [Training] loss = 2.302815 * 50000, metric = 89.69% * 50000 7.315s (6835.3 samples/s);\n",
      "\n",
      "Final Results: Minibatch[1-626]: errs = 89.8% * 10000\n",
      "\n"
     ]
    },
    {
     "data": {
      "image/png": "[encoded data removed]",
      "text/plain": [
       "<matplotlib.figure.Figure at 0x7f8114087c50>"
      ]
     },
     "metadata": {},
     "output_type": "display_data"
    },
    {
     "data": {
      "image/png": "[encoded data removed]",
      "text/plain": [
       "<matplotlib.figure.Figure at 0x7f810f034278>"
      ]
     },
     "metadata": {},
     "output_type": "display_data"
    }
   ],
   "source": [
    "pred = train_and_evaluate(reader_train, \n",
    "                          reader_test, \n",
    "                          max_epochs=5, \n",
    "                          model_func=create_basic_model)"
   ]
  },
  {
   "cell_type": "markdown",
   "metadata": {},
   "source": [
    "Now that we have a trained model, let us classify the following image of a truck. We use PIL to read the image."
   ]
  },
  {
   "cell_type": "code",
   "execution_count": 16,
   "metadata": {},
   "outputs": [
    {
     "data": {
      "text/html": [
       "<img src=\"https://cntk.ai/jup/201/00014.png\" width=\"64\" height=\"64\"/>"
      ],
      "text/plain": [
       "<IPython.core.display.Image object>"
      ]
     },
     "execution_count": 16,
     "metadata": {},
     "output_type": "execute_result"
    }
   ],
   "source": [
    "# Figure 6\n",
    "Image(url=\"https://cntk.ai/jup/201/00014.png\", width=64, height=64)"
   ]
  },
  {
   "cell_type": "code",
   "execution_count": 39,
   "metadata": {},
   "outputs": [],
   "source": [
    "# Download a sample image \n",
    "# (this is 00014.png from test dataset)\n",
    "# Any image of size 32,32 can be evaluated\n",
    "\n",
    "url = \"https://cntk.ai/jup/201/00014.png\"\n",
    "myimg = np.array(PIL.Image.open(urlopen(url)), dtype=np.float32)"
   ]
  },
  {
   "cell_type": "markdown",
   "metadata": {},
   "source": [
    "During training we have subtracted the mean from the input images. Here we take an approximate value of the mean and subtract it from the image."
   ]
  },
  {
   "cell_type": "code",
   "execution_count": 43,
   "metadata": {},
   "outputs": [],
   "source": [
    "from pandas import DataFrame\n",
    "\n",
    "def eval(pred_op, image_data):\n",
    "    label_lookup = [\"airplane\", \"automobile\", \"bird\", \"cat\", \"deer\", \"dog\", \"frog\", \"horse\", \"ship\", \"truck\"]\n",
    "    \n",
    "    image_data = image_data.copy()\n",
    "    \n",
    "    image_mean = 133.0\n",
    "    image_data -= image_mean\n",
    "    image_data = np.ascontiguousarray(np.transpose(image_data, (2, 0, 1)))\n",
    "    \n",
    "    result = np.squeeze(pred_op.eval({pred_op.arguments[0]:[image_data]}))\n",
    "    \n",
    "    # Return top 3 results:\n",
    "    top_count = 3\n",
    "    result_indices = (-np.array(result)).argsort()[:top_count]\n",
    "    \n",
    "    print(\"Top 3 predictions:\")\n",
    "    for i in range(top_count):\n",
    "        print(\"\\tLabel: {:10s}, confidence: {:.2f}%\".format(label_lookup[result_indices[i]], result[result_indices[i]] * 100))"
   ]
  },
  {
   "cell_type": "code",
   "execution_count": 44,
   "metadata": {},
   "outputs": [
    {
     "name": "stdout",
     "output_type": "stream",
     "text": [
      "Top 3 predictions:\n",
      "\tLabel: automobile, confidence: 11.60%\n",
      "\tLabel: cat       , confidence: 10.19%\n",
      "\tLabel: truck     , confidence: 10.13%\n"
     ]
    }
   ],
   "source": [
    "# Run the evaluation on the downloaded image\n",
    "eval(pred_basic_model, myimg)"
   ]
  },
  {
   "cell_type": "code",
   "execution_count": 20,
   "metadata": {},
   "outputs": [],
   "source": [
    "pred_basic_model.save('model.cntk')"
   ]
  }
 ],
 "metadata": {
  "anaconda-cloud": {},
  "kernelspec": {
   "display_name": "Python 3",
   "language": "python",
   "name": "python3"
  },
  "language_info": {
   "codemirror_mode": {
    "name": "ipython",
    "version": 3
   },
   "file_extension": ".py",
   "mimetype": "text/x-python",
   "name": "python",
   "nbconvert_exporter": "python",
   "pygments_lexer": "ipython3",
   "version": "3.5.4"
  }
 },
 "nbformat": 4,
 "nbformat_minor": 1
}
