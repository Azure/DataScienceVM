{
 "cells": [
  {
   "cell_type": "markdown",
   "metadata": {},
   "source": [
    "## This is an end to end example of using ArcGIS with python \n",
    "this has been mostly followed as a simplefied version from here https://github.com/orhuna/RF-Demo/blob/master/RF_Demo_Fl.ipynb\n",
    "\n",
    "For better visualization, maps have been published into the GIS server with a public read access to display it in the notebook cell\n",
    "\n"
   ]
  },
  {
   "cell_type": "code",
   "execution_count": 13,
   "metadata": {
    "collapsed": true
   },
   "outputs": [],
   "source": [
    "from sklearn.ensemble import RandomForestClassifier\n",
    "import numpy as NUM\n",
    "import arcpy as ARCPY\n",
    "import arcpy.da as DA\n",
    "import pandas as PD\n",
    "import seaborn as SEA\n",
    "import matplotlib.pyplot as PLOT\n",
    "import pandas as PD\n",
    "import arcgisscripting as ARC\n",
    "import arcpy as ARCPY\n",
    "import SSUtilities as UTILS\n",
    "from arcgis.gis import *\n",
    "import os as OS"
   ]
  },
  {
   "cell_type": "code",
   "execution_count": 14,
   "metadata": {
    "collapsed": true
   },
   "outputs": [],
   "source": [
    "mygis = GIS()"
   ]
  },
  {
   "cell_type": "code",
   "execution_count": 15,
   "metadata": {
    "collapsed": true
   },
   "outputs": [],
   "source": [
    "from IPython.display import IFrame  \n",
    "def show_web_map_by_url(URL):\n",
    "    url = 'http://www.arcgis.com/home/webmap/viewer.html?url=' + URL\n",
    "    return IFrame(url, width='100%', height=500)  "
   ]
  },
  {
   "cell_type": "code",
   "execution_count": 16,
   "metadata": {
    "collapsed": true
   },
   "outputs": [],
   "source": [
    "analysis_map_URL = 'https://services3.arcgis.com/oZfKvdlWHN1MwS48/ArcGIS/rest/services/MachineLearningSeagrass/FeatureServer/1&source=sd'"
   ]
  },
  {
   "cell_type": "markdown",
   "metadata": {},
   "source": [
    "This is the initial map which has florida data to start the data analysis "
   ]
  },
  {
   "cell_type": "code",
   "execution_count": 17,
   "metadata": {},
   "outputs": [
    {
     "data": {
      "text/html": [
       "\n",
       "        <iframe\n",
       "            width=\"100%\"\n",
       "            height=\"500\"\n",
       "            src=\"http://www.arcgis.com/home/webmap/viewer.html?url=https://services3.arcgis.com/oZfKvdlWHN1MwS48/ArcGIS/rest/services/MachineLearningSeagrass/FeatureServer/1&source=sd\"\n",
       "            frameborder=\"0\"\n",
       "            allowfullscreen\n",
       "        ></iframe>\n",
       "        "
      ],
      "text/plain": [
       "<IPython.lib.display.IFrame at 0x20bce8590b8>"
      ]
     },
     "execution_count": 17,
     "metadata": {},
     "output_type": "execute_result"
    }
   ],
   "source": [
    "#Where the seagrasses are in florida\n",
    "\n",
    "show_web_map_by_url(analysis_map_URL)"
   ]
  },
  {
   "cell_type": "code",
   "execution_count": 18,
   "metadata": {
    "collapsed": true
   },
   "outputs": [],
   "source": [
    "#Load the features from the shapefile stored in GIS Desktop\n",
    "inputDir = 'C:/GISDemo/SeaGrass/SeaGrass.gdb/FloridaSeaGrass'\n"
   ]
  },
  {
   "cell_type": "code",
   "execution_count": 19,
   "metadata": {
    "collapsed": true
   },
   "outputs": [],
   "source": [
    "#Names of Prediction Variables\n",
    "predictVars = ['salinity', 'temp', 'phosphate','nitrate', \n",
    "               'silicate', 'dissO2', 'NameEMU']\n",
    "#Name of Classification Variable\n",
    "classVar = ['Present']\n",
    "#List of all Variables\n",
    "allVars = predictVars + classVar"
   ]
  },
  {
   "cell_type": "code",
   "execution_count": 20,
   "metadata": {},
   "outputs": [
    {
     "data": {
      "text/html": [
       "<div>\n",
       "<style scoped>\n",
       "    .dataframe tbody tr th:only-of-type {\n",
       "        vertical-align: middle;\n",
       "    }\n",
       "\n",
       "    .dataframe tbody tr th {\n",
       "        vertical-align: top;\n",
       "    }\n",
       "\n",
       "    .dataframe thead th {\n",
       "        text-align: right;\n",
       "    }\n",
       "</style>\n",
       "<table border=\"1\" class=\"dataframe\">\n",
       "  <thead>\n",
       "    <tr style=\"text-align: right;\">\n",
       "      <th></th>\n",
       "      <th>salinity</th>\n",
       "      <th>temp</th>\n",
       "      <th>phosphate</th>\n",
       "      <th>nitrate</th>\n",
       "      <th>silicate</th>\n",
       "      <th>dissO2</th>\n",
       "      <th>NameEMU</th>\n",
       "      <th>Present</th>\n",
       "    </tr>\n",
       "  </thead>\n",
       "  <tbody>\n",
       "    <tr>\n",
       "      <th>0</th>\n",
       "      <td>35.694950</td>\n",
       "      <td>24.75329</td>\n",
       "      <td>0.070516</td>\n",
       "      <td>0.503541</td>\n",
       "      <td>3.878356</td>\n",
       "      <td>5.038187</td>\n",
       "      <td>Epipelagic, Warm to Very Warm, Euhaline, Oxic,...</td>\n",
       "      <td>0</td>\n",
       "    </tr>\n",
       "    <tr>\n",
       "      <th>1</th>\n",
       "      <td>35.985001</td>\n",
       "      <td>24.13740</td>\n",
       "      <td>0.124987</td>\n",
       "      <td>0.836354</td>\n",
       "      <td>1.521608</td>\n",
       "      <td>4.710738</td>\n",
       "      <td>Epipelagic, Warm to Very Warm, Euhaline, Oxic,...</td>\n",
       "      <td>0</td>\n",
       "    </tr>\n",
       "    <tr>\n",
       "      <th>2</th>\n",
       "      <td>35.581039</td>\n",
       "      <td>18.00565</td>\n",
       "      <td>1.032444</td>\n",
       "      <td>15.172270</td>\n",
       "      <td>10.742860</td>\n",
       "      <td>3.839985</td>\n",
       "      <td>Epipelagic, Warm to Very Warm, Euhaline, Oxic,...</td>\n",
       "      <td>1</td>\n",
       "    </tr>\n",
       "    <tr>\n",
       "      <th>3</th>\n",
       "      <td>35.469360</td>\n",
       "      <td>14.55408</td>\n",
       "      <td>0.936634</td>\n",
       "      <td>14.109170</td>\n",
       "      <td>9.925514</td>\n",
       "      <td>3.654587</td>\n",
       "      <td>Epipelagic, Warm to Very Warm, Euhaline, Oxic,...</td>\n",
       "      <td>1</td>\n",
       "    </tr>\n",
       "    <tr>\n",
       "      <th>4</th>\n",
       "      <td>35.413799</td>\n",
       "      <td>13.48950</td>\n",
       "      <td>0.980522</td>\n",
       "      <td>14.746720</td>\n",
       "      <td>10.737210</td>\n",
       "      <td>3.721700</td>\n",
       "      <td>Epipelagic, Warm to Very Warm, Euhaline, Oxic,...</td>\n",
       "      <td>0</td>\n",
       "    </tr>\n",
       "  </tbody>\n",
       "</table>\n",
       "</div>"
      ],
      "text/plain": [
       "    salinity      temp  phosphate    nitrate   silicate    dissO2  \\\n",
       "0  35.694950  24.75329   0.070516   0.503541   3.878356  5.038187   \n",
       "1  35.985001  24.13740   0.124987   0.836354   1.521608  4.710738   \n",
       "2  35.581039  18.00565   1.032444  15.172270  10.742860  3.839985   \n",
       "3  35.469360  14.55408   0.936634  14.109170   9.925514  3.654587   \n",
       "4  35.413799  13.48950   0.980522  14.746720  10.737210  3.721700   \n",
       "\n",
       "                                             NameEMU  Present  \n",
       "0  Epipelagic, Warm to Very Warm, Euhaline, Oxic,...        0  \n",
       "1  Epipelagic, Warm to Very Warm, Euhaline, Oxic,...        0  \n",
       "2  Epipelagic, Warm to Very Warm, Euhaline, Oxic,...        1  \n",
       "3  Epipelagic, Warm to Very Warm, Euhaline, Oxic,...        1  \n",
       "4  Epipelagic, Warm to Very Warm, Euhaline, Oxic,...        0  "
      ]
     },
     "execution_count": 20,
     "metadata": {},
     "output_type": "execute_result"
    }
   ],
   "source": [
    "#GIS data to Pandas dataframe\n",
    "\n",
    "#Get Data from ArcGIS Desktop\n",
    "FlLayer = DA.FeatureClassToNumPyArray(inputDir, [\"SHAPE@XY\"] + allVars)\n",
    "#Obtain Spatial Reference\n",
    "spatRef = ARCPY.Describe(inputDir).spatialReference\n",
    "#Define Main Dataframe\n",
    "data = PD.DataFrame(FlLayer, columns = allVars)\n",
    "#Display Portion of the Data Frame\n",
    "data.head()"
   ]
  },
  {
   "cell_type": "code",
   "execution_count": 21,
   "metadata": {
    "collapsed": true
   },
   "outputs": [],
   "source": [
    "#Process Categorical Data for Analysis flatten the categorical data \n",
    "#Create Numeric Fields for One-Hot Encoding of the Categorical Variable\n",
    "catVars = PD.get_dummies(data[predictVars[-1]])"
   ]
  },
  {
   "cell_type": "code",
   "execution_count": 22,
   "metadata": {},
   "outputs": [
    {
     "data": {
      "text/html": [
       "<div>\n",
       "<style scoped>\n",
       "    .dataframe tbody tr th:only-of-type {\n",
       "        vertical-align: middle;\n",
       "    }\n",
       "\n",
       "    .dataframe tbody tr th {\n",
       "        vertical-align: top;\n",
       "    }\n",
       "\n",
       "    .dataframe thead th {\n",
       "        text-align: right;\n",
       "    }\n",
       "</style>\n",
       "<table border=\"1\" class=\"dataframe\">\n",
       "  <thead>\n",
       "    <tr style=\"text-align: right;\">\n",
       "      <th></th>\n",
       "      <th>salinity</th>\n",
       "      <th>temp</th>\n",
       "      <th>phosphate</th>\n",
       "      <th>nitrate</th>\n",
       "      <th>silicate</th>\n",
       "      <th>dissO2</th>\n",
       "      <th>Present</th>\n",
       "      <th>c1</th>\n",
       "      <th>c2</th>\n",
       "      <th>c3</th>\n",
       "    </tr>\n",
       "  </thead>\n",
       "  <tbody>\n",
       "    <tr>\n",
       "      <th>0</th>\n",
       "      <td>35.694950</td>\n",
       "      <td>24.75329</td>\n",
       "      <td>0.070516</td>\n",
       "      <td>0.503541</td>\n",
       "      <td>3.878356</td>\n",
       "      <td>5.038187</td>\n",
       "      <td>0</td>\n",
       "      <td>0</td>\n",
       "      <td>1</td>\n",
       "      <td>0</td>\n",
       "    </tr>\n",
       "    <tr>\n",
       "      <th>1</th>\n",
       "      <td>35.985001</td>\n",
       "      <td>24.13740</td>\n",
       "      <td>0.124987</td>\n",
       "      <td>0.836354</td>\n",
       "      <td>1.521608</td>\n",
       "      <td>4.710738</td>\n",
       "      <td>0</td>\n",
       "      <td>0</td>\n",
       "      <td>1</td>\n",
       "      <td>0</td>\n",
       "    </tr>\n",
       "    <tr>\n",
       "      <th>2</th>\n",
       "      <td>35.581039</td>\n",
       "      <td>18.00565</td>\n",
       "      <td>1.032444</td>\n",
       "      <td>15.172270</td>\n",
       "      <td>10.742860</td>\n",
       "      <td>3.839985</td>\n",
       "      <td>1</td>\n",
       "      <td>0</td>\n",
       "      <td>1</td>\n",
       "      <td>0</td>\n",
       "    </tr>\n",
       "    <tr>\n",
       "      <th>3</th>\n",
       "      <td>35.469360</td>\n",
       "      <td>14.55408</td>\n",
       "      <td>0.936634</td>\n",
       "      <td>14.109170</td>\n",
       "      <td>9.925514</td>\n",
       "      <td>3.654587</td>\n",
       "      <td>1</td>\n",
       "      <td>0</td>\n",
       "      <td>1</td>\n",
       "      <td>0</td>\n",
       "    </tr>\n",
       "    <tr>\n",
       "      <th>4</th>\n",
       "      <td>35.413799</td>\n",
       "      <td>13.48950</td>\n",
       "      <td>0.980522</td>\n",
       "      <td>14.746720</td>\n",
       "      <td>10.737210</td>\n",
       "      <td>3.721700</td>\n",
       "      <td>0</td>\n",
       "      <td>0</td>\n",
       "      <td>1</td>\n",
       "      <td>0</td>\n",
       "    </tr>\n",
       "  </tbody>\n",
       "</table>\n",
       "</div>"
      ],
      "text/plain": [
       "    salinity      temp  phosphate    nitrate   silicate    dissO2  Present  \\\n",
       "0  35.694950  24.75329   0.070516   0.503541   3.878356  5.038187        0   \n",
       "1  35.985001  24.13740   0.124987   0.836354   1.521608  4.710738        0   \n",
       "2  35.581039  18.00565   1.032444  15.172270  10.742860  3.839985        1   \n",
       "3  35.469360  14.55408   0.936634  14.109170   9.925514  3.654587        1   \n",
       "4  35.413799  13.48950   0.980522  14.746720  10.737210  3.721700        0   \n",
       "\n",
       "   c1  c2  c3  \n",
       "0   0   1   0  \n",
       "1   0   1   0  \n",
       "2   0   1   0  \n",
       "3   0   1   0  \n",
       "4   0   1   0  "
      ]
     },
     "execution_count": 22,
     "metadata": {},
     "output_type": "execute_result"
    }
   ],
   "source": [
    "#Remove raw Categories from Dataset\n",
    "data = data.drop(predictVars[-1], axis = 1)\n",
    "#Add Processed Categories Back into the Data Frame\n",
    "data = data.join(catVars)\n",
    "#Abbreviate Long Categorical Variable Names\n",
    "newNames = ['c1','c2','c3']\n",
    "for ind, name in enumerate(newNames):\n",
    "    data.rename(columns={data.columns[len(predictVars)+ind]:name}, inplace=True)\n",
    "#Update Predict Variable Names\n",
    "predictVarsNew = predictVars[:-1] + newNames\n",
    "#Display Portion of the Data Frame\n",
    "data.head()"
   ]
  },
  {
   "cell_type": "code",
   "execution_count": 23,
   "metadata": {},
   "outputs": [
    {
     "data": {
      "image/png": "[encoded data removed]",
      "text/plain": [
       "<matplotlib.figure.Figure at 0x20bcc3c24e0>"
      ]
     },
     "metadata": {},
     "output_type": "display_data"
    }
   ],
   "source": [
    "##EVALUATE CORRELATION BETWEEN PREDICTORS- EXCLUDE CATEGORICAL\n",
    "#Calculate Correlation Coefficient between Prediction Variables\n",
    "corr = data.drop(data.columns[-3:], axis = 1).astype('float64').corr()\n",
    "\n",
    "#Plot Correlation Matrix Between Prediction Variables\n",
    "ax = SEA.heatmap(corr, cmap=SEA.diverging_palette(220, 10, as_cmap=True),\n",
    "            square=True, annot = True, linecolor = 'k', linewidths = 1)\n",
    "\n",
    "PLOT.show()"
   ]
  },
  {
   "cell_type": "code",
   "execution_count": 29,
   "metadata": {},
   "outputs": [
    {
     "name": "stdout",
     "output_type": "stream",
     "text": [
      "Training Data Size = 300000\n",
      "Test Data Size = 700000\n"
     ]
    }
   ],
   "source": [
    "##PERFORM RANDOM FOREST CLASSIFICATION\n",
    "#Fraction of data to be used in Training\n",
    "fracNum = 0.3\n",
    "#Seperate the Data into Training and Test Datasets\n",
    "train_c1 = data[data[classVar[0]] == 1].sample(frac = fracNum)\n",
    "train_c0 = data[data[classVar[0]] == 0].sample(frac = fracNum)\n",
    "#Create Training Dataset\n",
    "train_set = PD.concat([train_c0, train_c1])\n",
    "#Create Testing Dataset\n",
    "test_set = data.drop(train_set.index)\n",
    "#Encode Seagrass Presence as Classes\n",
    "indicator, _ = PD.factorize(train_set[classVar[0]])\n",
    "#Print Test and Train Data Set Sizes\n",
    "print('Training Data Size = ' + str(train_set.size))\n",
    "print('Test Data Size = ' + str(test_set.size))"
   ]
  },
  {
   "cell_type": "code",
   "execution_count": 38,
   "metadata": {},
   "outputs": [
    {
     "data": {
      "text/plain": [
       "RandomForestClassifier(bootstrap=True, class_weight=None, criterion='gini',\n",
       "            max_depth=None, max_features='auto', max_leaf_nodes=None,\n",
       "            min_impurity_decrease=0.0, min_impurity_split=None,\n",
       "            min_samples_leaf=1, min_samples_split=2,\n",
       "            min_weight_fraction_leaf=0.0, n_estimators=500, n_jobs=1,\n",
       "            oob_score=True, random_state=None, verbose=0, warm_start=False)"
      ]
     },
     "execution_count": 38,
     "metadata": {},
     "output_type": "execute_result"
    }
   ],
   "source": [
    "##Create Random Forest Classification Object\n",
    "rfco = RandomForestClassifier(n_estimators = 500, oob_score = True)\n",
    "#Perform Classification Using Training Set\n",
    "rfco.fit(train_set[predictVars[:-1]], indicator)\n",
    "#Plot Variable Importance\n",
    "#Dummy Variables for Y-Ticks\n"
   ]
  },
  {
   "cell_type": "code",
   "execution_count": 41,
   "metadata": {},
   "outputs": [],
   "source": [
    "#Predict Seagrass Occurance for the Test Dataset\n",
    "seagrassPred = rfco.predict(test_set[predictVars[:-1]])\n",
    "#Calculate Prediction Accuracy\n",
    "test_seagrass = test_set['Present'].values.flatten()\n",
    "#Calculate Estimation Error\n",
    "error = NUM.sum(test_seagrass - seagrassPred)/len(seagrassPred) * 100\n"
   ]
  },
  {
   "cell_type": "code",
   "execution_count": 42,
   "metadata": {},
   "outputs": [
    {
     "name": "stdout",
     "output_type": "stream",
     "text": [
      "Accuracy = 99.66285714285715 % \n",
      "Locations with Seagrass = 21612\n",
      "Predicted Locations with Seagrass = 21376\n"
     ]
    }
   ],
   "source": [
    "#Print Accuracy Metrics\n",
    "print('Accuracy = ' + str(100 - NUM.abs(error)) + ' % ')\n",
    "print('Locations with Seagrass = ' + str(len(NUM.where(test_seagrass==1)[0])) )\n",
    "print('Predicted Locations with Seagrass = ' + str(len(NUM.where(seagrassPred==1)[0])))"
   ]
  },
  {
   "cell_type": "code",
   "execution_count": 27,
   "metadata": {},
   "outputs": [
    {
     "data": {
      "text/plain": [
       "<Result 'C:/GISDemo/SeaGrass/SeaGrass.gdb\\\\Florida_Seagrass_Prediction'>"
      ]
     },
     "execution_count": 27,
     "metadata": {},
     "output_type": "execute_result"
    }
   ],
   "source": [
    " #Delete the feature  as ARCPY.da.NumPyArrayToFeatureClass does not overwrite \n",
    "#ARCPY.DeleteFeatures_management(\"C:/GISDemo/SeaGrass/SeaGrass.gdb\\Florida_Seagrass_Prediction\")"
   ]
  },
  {
   "cell_type": "code",
   "execution_count": 45,
   "metadata": {},
   "outputs": [],
   "source": [
    "##BRING OUTPUT BACK INTO ArcGIS Desktop\n",
    "#Allow overwriting Feature Classes\n",
    "ARCPY.env.overwriteOutput = True\n",
    "#Get Indexes for the Test Dataset\n",
    "outputDir = r'C:/GISDemo/SeaGrass/SeaGrass.gdb'\n",
    "nameFC = 'Florida_Seagrass_Prediction_Py'\n",
    "#Locations with Seagrass\n",
    "grassExists = FlLayer[[\"SHAPE@XY\"]][test_set.index[NUM.where(seagrassPred==1)]]\n",
    "# Write Locations with Seagrass to Feature Class\n",
    "ARCPY.da.NumPyArrayToFeatureClass(grassExists, OS.path.join(outputDir, nameFC), ['SHAPE@XY'], spatRef)"
   ]
  },
  {
   "cell_type": "code",
   "execution_count": 15,
   "metadata": {
    "collapsed": true
   },
   "outputs": [],
   "source": [
    "predicted_fl_map_url ='https://www.arcgis.com/home/webmap/viewer.html?webmap=2e65c37b14764e7a875efb5b5bad4633'"
   ]
  },
  {
   "cell_type": "code",
   "execution_count": 16,
   "metadata": {},
   "outputs": [
    {
     "data": {
      "text/html": [
       "\n",
       "        <iframe\n",
       "            width=\"100%\"\n",
       "            height=\"500\"\n",
       "            src=\"https://www.arcgis.com/home/webmap/viewer.html?webmap=2e65c37b14764e7a875efb5b5bad4633\"\n",
       "            frameborder=\"0\"\n",
       "            allowfullscreen\n",
       "        ></iframe>\n",
       "        "
      ],
      "text/plain": [
       "<IPython.lib.display.IFrame at 0x23e810bdba8>"
      ]
     },
     "execution_count": 16,
     "metadata": {},
     "output_type": "execute_result"
    }
   ],
   "source": [
    "IFrame(predicted_fl_map_url, width='100%', height=500)"
   ]
  },
  {
   "cell_type": "markdown",
   "metadata": {
    "collapsed": true
   },
   "source": [
    "Now create a model from the USA data set and we will use this to predict the sea grass locations worldwide"
   ]
  },
  {
   "cell_type": "code",
   "execution_count": 21,
   "metadata": {},
   "outputs": [
    {
     "data": {
      "text/html": [
       "<div>\n",
       "<style scoped>\n",
       "    .dataframe tbody tr th:only-of-type {\n",
       "        vertical-align: middle;\n",
       "    }\n",
       "\n",
       "    .dataframe tbody tr th {\n",
       "        vertical-align: top;\n",
       "    }\n",
       "\n",
       "    .dataframe thead th {\n",
       "        text-align: right;\n",
       "    }\n",
       "</style>\n",
       "<table border=\"1\" class=\"dataframe\">\n",
       "  <thead>\n",
       "    <tr style=\"text-align: right;\">\n",
       "      <th></th>\n",
       "      <th>salinity</th>\n",
       "      <th>temp</th>\n",
       "      <th>phosphate</th>\n",
       "      <th>nitrate</th>\n",
       "      <th>silicate</th>\n",
       "      <th>dissO2</th>\n",
       "      <th>Present</th>\n",
       "    </tr>\n",
       "  </thead>\n",
       "  <tbody>\n",
       "    <tr>\n",
       "      <th>0</th>\n",
       "      <td>33.757988</td>\n",
       "      <td>8.378799</td>\n",
       "      <td>2.04564</td>\n",
       "      <td>25.473619</td>\n",
       "      <td>35.493446</td>\n",
       "      <td>3.365844</td>\n",
       "      <td>0</td>\n",
       "    </tr>\n",
       "    <tr>\n",
       "      <th>1</th>\n",
       "      <td>33.757988</td>\n",
       "      <td>8.378799</td>\n",
       "      <td>2.04564</td>\n",
       "      <td>25.473619</td>\n",
       "      <td>35.493446</td>\n",
       "      <td>3.365844</td>\n",
       "      <td>0</td>\n",
       "    </tr>\n",
       "    <tr>\n",
       "      <th>2</th>\n",
       "      <td>33.757988</td>\n",
       "      <td>8.378799</td>\n",
       "      <td>2.04564</td>\n",
       "      <td>25.473619</td>\n",
       "      <td>35.493446</td>\n",
       "      <td>3.365844</td>\n",
       "      <td>0</td>\n",
       "    </tr>\n",
       "    <tr>\n",
       "      <th>3</th>\n",
       "      <td>33.757988</td>\n",
       "      <td>8.378799</td>\n",
       "      <td>2.04564</td>\n",
       "      <td>25.473619</td>\n",
       "      <td>35.493446</td>\n",
       "      <td>3.365844</td>\n",
       "      <td>0</td>\n",
       "    </tr>\n",
       "    <tr>\n",
       "      <th>4</th>\n",
       "      <td>33.757988</td>\n",
       "      <td>8.378799</td>\n",
       "      <td>2.04564</td>\n",
       "      <td>25.473619</td>\n",
       "      <td>35.493446</td>\n",
       "      <td>3.365844</td>\n",
       "      <td>0</td>\n",
       "    </tr>\n",
       "  </tbody>\n",
       "</table>\n",
       "</div>"
      ],
      "text/plain": [
       "    salinity      temp  phosphate    nitrate   silicate    dissO2  Present\n",
       "0  33.757988  8.378799    2.04564  25.473619  35.493446  3.365844        0\n",
       "1  33.757988  8.378799    2.04564  25.473619  35.493446  3.365844        0\n",
       "2  33.757988  8.378799    2.04564  25.473619  35.493446  3.365844        0\n",
       "3  33.757988  8.378799    2.04564  25.473619  35.493446  3.365844        0\n",
       "4  33.757988  8.378799    2.04564  25.473619  35.493446  3.365844        0"
      ]
     },
     "execution_count": 21,
     "metadata": {},
     "output_type": "execute_result"
    }
   ],
   "source": [
    "#Names of Prediction Variables#Import USA Seagrass Data \n",
    "inputDir = 'C:/GISDemo/SeaGrass/SeaGrass.gdb/USASeaGrass_training'\n",
    "predictVars = ['salinity', 'temp', 'phosphate','nitrate', \n",
    "               'silicate', 'dissO2']\n",
    "#Name of Classification Variable\n",
    "classVar = ['Present']\n",
    "#List of all Variables\n",
    "allVars = predictVars + classVar\n",
    "#Create a Data Object\n",
    "USAlayer = DA.FeatureClassToNumPyArray(inputDir, [\"SHAPE@XY\"] + allVars)\n",
    "#Obtain Spatial Reference\n",
    "spatRefGlobal = ARCPY.Describe(inputDir).spatialReference\n",
    "#Define Main Dataframe\n",
    "USA_Train = PD.DataFrame(USAlayer, columns = allVars)\n",
    "#Display Portion of the Data Frame\n",
    "USA_Train.head()"
   ]
  },
  {
   "cell_type": "code",
   "execution_count": 22,
   "metadata": {},
   "outputs": [
    {
     "data": {
      "text/plain": [
       "RandomForestClassifier(bootstrap=True, class_weight=None, criterion='gini',\n",
       "            max_depth=None, max_features='auto', max_leaf_nodes=None,\n",
       "            min_impurity_decrease=0.0, min_impurity_split=None,\n",
       "            min_samples_leaf=1, min_samples_split=2,\n",
       "            min_weight_fraction_leaf=0.0, n_estimators=500, n_jobs=1,\n",
       "            oob_score=False, random_state=None, verbose=0,\n",
       "            warm_start=False)"
      ]
     },
     "execution_count": 22,
     "metadata": {},
     "output_type": "execute_result"
    }
   ],
   "source": [
    "##Train Random Forest Using USA Data\n",
    "#Encode Seagrass Presence as Classes\n",
    "indicatorUSA, _ = PD.factorize(USA_Train['Present'])\n",
    "#Create Random Forest Classification Object\n",
    "rfco = RandomForestClassifier(n_estimators = 500)\n",
    "#Perform Classification Using Training Set\n",
    "rfco.fit(USA_Train[predictVars[:-1]], indicatorUSA)"
   ]
  },
  {
   "cell_type": "code",
   "execution_count": 23,
   "metadata": {},
   "outputs": [
    {
     "data": {
      "text/plain": [
       "['salinity', 'temp', 'phosphate', 'nitrate', 'silicate']"
      ]
     },
     "execution_count": 23,
     "metadata": {},
     "output_type": "execute_result"
    }
   ],
   "source": [
    "predictVars[:-1]\n"
   ]
  },
  {
   "cell_type": "code",
   "execution_count": 24,
   "metadata": {
    "collapsed": true
   },
   "outputs": [],
   "source": [
    "## Import Global Data for Prediction ##\n",
    "##globalUrl = r'https://services3.arcgis.com/oZfKvdlWHN1MwS48/arcgis/rest/services/MachineLearningSeagrass/FeatureServer/2?token=W4CSlYAQxBZKNONRrS_MVm0qNa7j21xD5BNMByQOuXTQ6xhXxFydToukAXYrndK0RRrMNjvbFHcbCOioIVNAgIe6f0iV7rclZ4kNGqoI3i1Ldjhv_UgwzeBGc7KJacuAshcwYXkb6PIgrGipbwD3YOV3AGhhRmh9e5RzMSWB7HJS9fSYzU2l8ZL9vkLmWccKvo_DGJaqm9GIkz9HoPM2hv2yGDdf9SEtcoQvBsNkCWk.'\n",
    "globalUrl = 'C:/GISDemo/SeaGrass/SeaGrass.gdb/Global_Seagrass_Prediction'\n",
    "#Create a SS Data Object\n",
    "globalData = DA.FeatureClassToNumPyArray(globalUrl, [\"SHAPE@XY\"] + predictVars[:-1])\n",
    "#Obtain Spatial Reference\n",
    "spatRefGlobal = ARCPY.Describe(globalUrl).spatialReference\n",
    "#Define Dataframe\n",
    "globalTrain = PD.DataFrame(globalData, columns = predictVars[:-1])"
   ]
  },
  {
   "cell_type": "code",
   "execution_count": 28,
   "metadata": {
    "collapsed": true
   },
   "outputs": [],
   "source": [
    "#Predict Global Seagrass Occurance\n",
    "seagrassPredGlobal = rfco.predict(globalTrain)\n",
    "#Bring Output Back to ArcGIS\n",
    "nameFC = 'GlobSeagrass'\n",
    "outputDir = r'C:/GISDemo/SeaGrass/SeaGrass.gdb'\n",
    "nameFC = 'Global_Seagrass_Prediction_Done'\n",
    "grassExists = globalData[[\"SHAPE@XY\"]][globalTrain.index[NUM.where(seagrassPredGlobal==1)]]\n",
    "# Write Locations with Seagrass to Feature Class\n",
    "ARCPY.da.NumPyArrayToFeatureClass(grassExists, OS.path.join(outputDir, nameFC), ['SHAPE@XY'], spatRefGlobal)\n"
   ]
  },
  {
   "cell_type": "code",
   "execution_count": 29,
   "metadata": {
    "collapsed": true
   },
   "outputs": [],
   "source": [
    "predicted_gl_map_url='https://www.arcgis.com/home/webmap/viewer.html?webmap=503efd8acb7b48e3b92b4f4ac4d6e82e'"
   ]
  },
  {
   "cell_type": "markdown",
   "metadata": {},
   "source": [
    "Global prediction data as shown on the map"
   ]
  },
  {
   "cell_type": "code",
   "execution_count": 30,
   "metadata": {},
   "outputs": [
    {
     "data": {
      "text/html": [
       "\n",
       "        <iframe\n",
       "            width=\"100%\"\n",
       "            height=\"500\"\n",
       "            src=\"https://www.arcgis.com/home/webmap/viewer.html?webmap=503efd8acb7b48e3b92b4f4ac4d6e82e\"\n",
       "            frameborder=\"0\"\n",
       "            allowfullscreen\n",
       "        ></iframe>\n",
       "        "
      ],
      "text/plain": [
       "<IPython.lib.display.IFrame at 0x23e890a2710>"
      ]
     },
     "execution_count": 30,
     "metadata": {},
     "output_type": "execute_result"
    }
   ],
   "source": [
    "IFrame(predicted_gl_map_url, width='100%', height=500)"
   ]
  },
  {
   "cell_type": "code",
   "execution_count": null,
   "metadata": {
    "collapsed": true
   },
   "outputs": [],
   "source": []
  }
 ],
 "metadata": {
  "kernelspec": {
   "display_name": "Python [default]",
   "language": "python",
   "name": "python3"
  },
  "language_info": {
   "codemirror_mode": {
    "name": "ipython",
    "version": 3
   },
   "file_extension": ".py",
   "mimetype": "text/x-python",
   "name": "python",
   "nbconvert_exporter": "python",
   "pygments_lexer": "ipython3",
   "version": "3.6.3"
  }
 },
 "nbformat": 4,
 "nbformat_minor": 2
}
