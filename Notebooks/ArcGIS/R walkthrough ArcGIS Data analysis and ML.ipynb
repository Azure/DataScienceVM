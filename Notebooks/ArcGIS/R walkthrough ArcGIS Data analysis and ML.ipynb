{
 "cells": [
  {
   "cell_type": "markdown",
   "metadata": {},
   "source": [
    "## This is an end to end example of using ArcGIS with R\n",
    "\n",
    "(A shorter version of the similar one as in python but adapted to R) , the pyhton one has been mostly followed as a simplefied version from here https://github.com/orhuna/RF-Demo/blob/master/RF_Demo_Fl.ipynb \n",
    "\n",
    "For better visualization, maps have been published into the GIS server with a public read access to display it in the notebook cell\n",
    "\n"
   ]
  },
  {
   "cell_type": "code",
   "execution_count": 1,
   "metadata": {},
   "outputs": [
    {
     "name": "stderr",
     "output_type": "stream",
     "text": [
      "*** Please call arc.check_product() to define a desktop license.\n"
     ]
    }
   ],
   "source": [
    "#It might show warning e.g. \"*** Please call arc.check_product() to define a desktop license.\" but can be disregarded \n",
    "library(arcgisbinding)"
   ]
  },
  {
   "cell_type": "markdown",
   "metadata": {},
   "source": [
    "This should show sonme version info like:\n",
    "\n",
    "license    'Advanced'\n",
    "version    '12.1.0.10257'\n",
    "path       'C:\\\\Program Files\\\\ArcGIS\\\\Pro\\\\'\n",
    "dll        'rarcproxy_pro'\n",
    "app        'ArcGIS Pro'\n",
    "pkg_ver    '1.0.0.128'\n",
    "\n",
    "Do not proceed if this fails, means the arcgisbindings is not working"
   ]
  },
  {
   "cell_type": "code",
   "execution_count": 2,
   "metadata": {},
   "outputs": [
    {
     "data": {
      "text/html": [
       "<dl>\n",
       "\t<dt>$license</dt>\n",
       "\t\t<dd>'Advanced'</dd>\n",
       "\t<dt>$version</dt>\n",
       "\t\t<dd>'12.1.0.10257'</dd>\n",
       "\t<dt>$path</dt>\n",
       "\t\t<dd>'C:\\\\Program Files\\\\ArcGIS\\\\Pro\\\\'</dd>\n",
       "\t<dt>$dll</dt>\n",
       "\t\t<dd>'rarcproxy_pro'</dd>\n",
       "\t<dt>$app</dt>\n",
       "\t\t<dd>'ArcGIS Pro'</dd>\n",
       "\t<dt>$pkg_ver</dt>\n",
       "\t\t<dd>'1.0.0.128'</dd>\n",
       "</dl>\n"
      ],
      "text/latex": [
       "\\begin{description}\n",
       "\\item[\\$license] 'Advanced'\n",
       "\\item[\\$version] '12.1.0.10257'\n",
       "\\item[\\$path] 'C:\\textbackslash{}\\textbackslash{}Program Files\\textbackslash{}\\textbackslash{}ArcGIS\\textbackslash{}\\textbackslash{}Pro\\textbackslash{}\\textbackslash{}'\n",
       "\\item[\\$dll] 'rarcproxy\\_pro'\n",
       "\\item[\\$app] 'ArcGIS Pro'\n",
       "\\item[\\$pkg\\_ver] '1.0.0.128'\n",
       "\\end{description}\n"
      ],
      "text/markdown": [
       "$license\n",
       ":   'Advanced'\n",
       "$version\n",
       ":   '12.1.0.10257'\n",
       "$path\n",
       ":   'C:\\\\Program Files\\\\ArcGIS\\\\Pro\\\\'\n",
       "$dll\n",
       ":   'rarcproxy_pro'\n",
       "$app\n",
       ":   'ArcGIS Pro'\n",
       "$pkg_ver\n",
       ":   '1.0.0.128'\n",
       "\n",
       "\n"
      ],
      "text/plain": [
       "product: ArcGIS Pro ( 12.1.0.10257 )\n",
       "license: Advanced "
      ]
     },
     "metadata": {},
     "output_type": "display_data"
    }
   ],
   "source": [
    "arc.check_product()"
   ]
  },
  {
   "cell_type": "code",
   "execution_count": 3,
   "metadata": {
    "collapsed": true
   },
   "outputs": [],
   "source": [
    "inputDir <- arc.open(path = 'C:/GISDemo/SeaGrass/SeaGrass.gdb/FloridaSeaGrass')"
   ]
  },
  {
   "cell_type": "code",
   "execution_count": 4,
   "metadata": {
    "collapsed": true
   },
   "outputs": [],
   "source": [
    "analysis_map_URL <- 'https://services3.arcgis.com/oZfKvdlWHN1MwS48/ArcGIS/rest/services/MachineLearningSeagrass/FeatureServer/1&source=sd'"
   ]
  },
  {
   "cell_type": "code",
   "execution_count": 5,
   "metadata": {
    "collapsed": true
   },
   "outputs": [],
   "source": [
    "url <- paste('http://www.arcgis.com/home/webmap/viewer.html?url=',analysis_map_URL)\n",
    "display_url<- paste('<iframe src=','\"',url, '\"','width=100%, height=500></iframe>')"
   ]
  },
  {
   "cell_type": "code",
   "execution_count": 6,
   "metadata": {},
   "outputs": [
    {
     "data": {
      "text/html": [
       "<iframe src= \" http://www.arcgis.com/home/webmap/viewer.html?url= https://services3.arcgis.com/oZfKvdlWHN1MwS48/ArcGIS/rest/services/MachineLearningSeagrass/FeatureServer/1&source=sd \" width=100%, height=500></iframe>"
      ]
     },
     "metadata": {},
     "output_type": "display_data"
    }
   ],
   "source": [
    "IRdisplay::display_html(display_url)"
   ]
  },
  {
   "cell_type": "code",
   "execution_count": 7,
   "metadata": {},
   "outputs": [
    {
     "data": {
      "text/html": [
       "<ol class=list-inline>\n",
       "\t<li>'salinity'</li>\n",
       "\t<li>'temp'</li>\n",
       "\t<li>'phosphate'</li>\n",
       "\t<li>'nitrate'</li>\n",
       "\t<li>'silicate'</li>\n",
       "\t<li>'dissO2'</li>\n",
       "\t<li>'NameEMU'</li>\n",
       "\t<li>'Present'</li>\n",
       "</ol>\n"
      ],
      "text/latex": [
       "\\begin{enumerate*}\n",
       "\\item 'salinity'\n",
       "\\item 'temp'\n",
       "\\item 'phosphate'\n",
       "\\item 'nitrate'\n",
       "\\item 'silicate'\n",
       "\\item 'dissO2'\n",
       "\\item 'NameEMU'\n",
       "\\item 'Present'\n",
       "\\end{enumerate*}\n"
      ],
      "text/markdown": [
       "1. 'salinity'\n",
       "2. 'temp'\n",
       "3. 'phosphate'\n",
       "4. 'nitrate'\n",
       "5. 'silicate'\n",
       "6. 'dissO2'\n",
       "7. 'NameEMU'\n",
       "8. 'Present'\n",
       "\n",
       "\n"
      ],
      "text/plain": [
       "[1] \"salinity\"  \"temp\"      \"phosphate\" \"nitrate\"   \"silicate\"  \"dissO2\"   \n",
       "[7] \"NameEMU\"   \"Present\"  "
      ]
     },
     "metadata": {},
     "output_type": "display_data"
    }
   ],
   "source": [
    "#Names of Prediction Variables\n",
    "predictVars <- c('salinity', 'temp', 'phosphate','nitrate', \n",
    "               'silicate', 'dissO2', 'NameEMU')\n",
    "#Name of Classification Variable\n",
    "classVar <- 'Present'\n",
    "#List of all Variables\n",
    "allVars <- c(predictVars , classVar)\n",
    "allVars"
   ]
  },
  {
   "cell_type": "code",
   "execution_count": 8,
   "metadata": {},
   "outputs": [
    {
     "data": {
      "text/html": [
       "<table>\n",
       "<thead><tr><th scope=col>salinity</th><th scope=col>temp</th><th scope=col>phosphate</th><th scope=col>nitrate</th><th scope=col>silicate</th><th scope=col>dissO2</th><th scope=col>NameEMU</th><th scope=col>Present</th></tr></thead>\n",
       "<tbody>\n",
       "\t<tr><td>35.69495                                                                               </td><td>24.75329                                                                               </td><td>0.07051622                                                                             </td><td> 0.5035413                                                                             </td><td> 3.878356                                                                              </td><td>5.038187                                                                               </td><td>Epipelagic, Warm to Very Warm, Euhaline, Oxic, Low Nitrate, Low Phosphate, Low Silicate</td><td>0                                                                                      </td></tr>\n",
       "\t<tr><td>35.98500                                                                               </td><td>24.13740                                                                               </td><td>0.12498700                                                                             </td><td> 0.8363543                                                                             </td><td> 1.521608                                                                              </td><td>4.710738                                                                               </td><td>Epipelagic, Warm to Very Warm, Euhaline, Oxic, Low Nitrate, Low Phosphate, Low Silicate</td><td>0                                                                                      </td></tr>\n",
       "\t<tr><td>35.58104                                                                               </td><td>18.00565                                                                               </td><td>1.03244400                                                                             </td><td>15.1722698                                                                             </td><td>10.742860                                                                              </td><td>3.839985                                                                               </td><td>Epipelagic, Warm to Very Warm, Euhaline, Oxic, Low Nitrate, Low Phosphate, Low Silicate</td><td>1                                                                                      </td></tr>\n",
       "\t<tr><td>35.46936                                                                               </td><td>14.55408                                                                               </td><td>0.93663418                                                                             </td><td>14.1091700                                                                             </td><td> 9.925514                                                                              </td><td>3.654587                                                                               </td><td>Epipelagic, Warm to Very Warm, Euhaline, Oxic, Low Nitrate, Low Phosphate, Low Silicate</td><td>1                                                                                      </td></tr>\n",
       "\t<tr><td>35.41380                                                                               </td><td>13.48950                                                                               </td><td>0.98052150                                                                             </td><td>14.7467203                                                                             </td><td>10.737210                                                                              </td><td>3.721700                                                                               </td><td>Epipelagic, Warm to Very Warm, Euhaline, Oxic, Low Nitrate, Low Phosphate, Low Silicate</td><td>0                                                                                      </td></tr>\n",
       "\t<tr><td>35.74353                                                                               </td><td>17.27345                                                                               </td><td>0.47275189                                                                             </td><td> 6.9736042                                                                             </td><td> 5.724543                                                                              </td><td>4.175582                                                                               </td><td>Epipelagic, Warm to Very Warm, Euhaline, Oxic, Low Nitrate, Low Phosphate, Low Silicate</td><td>0                                                                                      </td></tr>\n",
       "</tbody>\n",
       "</table>\n"
      ],
      "text/latex": [
       "\\begin{tabular}{r|llllllll}\n",
       " salinity & temp & phosphate & nitrate & silicate & dissO2 & NameEMU & Present\\\\\n",
       "\\hline\n",
       "\t 35.69495                                                                                & 24.75329                                                                                & 0.07051622                                                                              &  0.5035413                                                                              &  3.878356                                                                               & 5.038187                                                                                & Epipelagic, Warm to Very Warm, Euhaline, Oxic, Low Nitrate, Low Phosphate, Low Silicate & 0                                                                                      \\\\\n",
       "\t 35.98500                                                                                & 24.13740                                                                                & 0.12498700                                                                              &  0.8363543                                                                              &  1.521608                                                                               & 4.710738                                                                                & Epipelagic, Warm to Very Warm, Euhaline, Oxic, Low Nitrate, Low Phosphate, Low Silicate & 0                                                                                      \\\\\n",
       "\t 35.58104                                                                                & 18.00565                                                                                & 1.03244400                                                                              & 15.1722698                                                                              & 10.742860                                                                               & 3.839985                                                                                & Epipelagic, Warm to Very Warm, Euhaline, Oxic, Low Nitrate, Low Phosphate, Low Silicate & 1                                                                                      \\\\\n",
       "\t 35.46936                                                                                & 14.55408                                                                                & 0.93663418                                                                              & 14.1091700                                                                              &  9.925514                                                                               & 3.654587                                                                                & Epipelagic, Warm to Very Warm, Euhaline, Oxic, Low Nitrate, Low Phosphate, Low Silicate & 1                                                                                      \\\\\n",
       "\t 35.41380                                                                                & 13.48950                                                                                & 0.98052150                                                                              & 14.7467203                                                                              & 10.737210                                                                               & 3.721700                                                                                & Epipelagic, Warm to Very Warm, Euhaline, Oxic, Low Nitrate, Low Phosphate, Low Silicate & 0                                                                                      \\\\\n",
       "\t 35.74353                                                                                & 17.27345                                                                                & 0.47275189                                                                              &  6.9736042                                                                              &  5.724543                                                                               & 4.175582                                                                                & Epipelagic, Warm to Very Warm, Euhaline, Oxic, Low Nitrate, Low Phosphate, Low Silicate & 0                                                                                      \\\\\n",
       "\\end{tabular}\n"
      ],
      "text/markdown": [
       "\n",
       "salinity | temp | phosphate | nitrate | silicate | dissO2 | NameEMU | Present | \n",
       "|---|---|---|---|---|---|\n",
       "| 35.69495                                                                                | 24.75329                                                                                | 0.07051622                                                                              |  0.5035413                                                                              |  3.878356                                                                               | 5.038187                                                                                | Epipelagic, Warm to Very Warm, Euhaline, Oxic, Low Nitrate, Low Phosphate, Low Silicate | 0                                                                                       | \n",
       "| 35.98500                                                                                | 24.13740                                                                                | 0.12498700                                                                              |  0.8363543                                                                              |  1.521608                                                                               | 4.710738                                                                                | Epipelagic, Warm to Very Warm, Euhaline, Oxic, Low Nitrate, Low Phosphate, Low Silicate | 0                                                                                       | \n",
       "| 35.58104                                                                                | 18.00565                                                                                | 1.03244400                                                                              | 15.1722698                                                                              | 10.742860                                                                               | 3.839985                                                                                | Epipelagic, Warm to Very Warm, Euhaline, Oxic, Low Nitrate, Low Phosphate, Low Silicate | 1                                                                                       | \n",
       "| 35.46936                                                                                | 14.55408                                                                                | 0.93663418                                                                              | 14.1091700                                                                              |  9.925514                                                                               | 3.654587                                                                                | Epipelagic, Warm to Very Warm, Euhaline, Oxic, Low Nitrate, Low Phosphate, Low Silicate | 1                                                                                       | \n",
       "| 35.41380                                                                                | 13.48950                                                                                | 0.98052150                                                                              | 14.7467203                                                                              | 10.737210                                                                               | 3.721700                                                                                | Epipelagic, Warm to Very Warm, Euhaline, Oxic, Low Nitrate, Low Phosphate, Low Silicate | 0                                                                                       | \n",
       "| 35.74353                                                                                | 17.27345                                                                                | 0.47275189                                                                              |  6.9736042                                                                              |  5.724543                                                                               | 4.175582                                                                                | Epipelagic, Warm to Very Warm, Euhaline, Oxic, Low Nitrate, Low Phosphate, Low Silicate | 0                                                                                       | \n",
       "\n",
       "\n"
      ],
      "text/plain": [
       "  salinity temp     phosphate  nitrate    silicate  dissO2  \n",
       "1 35.69495 24.75329 0.07051622  0.5035413  3.878356 5.038187\n",
       "2 35.98500 24.13740 0.12498700  0.8363543  1.521608 4.710738\n",
       "3 35.58104 18.00565 1.03244400 15.1722698 10.742860 3.839985\n",
       "4 35.46936 14.55408 0.93663418 14.1091700  9.925514 3.654587\n",
       "5 35.41380 13.48950 0.98052150 14.7467203 10.737210 3.721700\n",
       "6 35.74353 17.27345 0.47275189  6.9736042  5.724543 4.175582\n",
       "  NameEMU                                                                                \n",
       "1 Epipelagic, Warm to Very Warm, Euhaline, Oxic, Low Nitrate, Low Phosphate, Low Silicate\n",
       "2 Epipelagic, Warm to Very Warm, Euhaline, Oxic, Low Nitrate, Low Phosphate, Low Silicate\n",
       "3 Epipelagic, Warm to Very Warm, Euhaline, Oxic, Low Nitrate, Low Phosphate, Low Silicate\n",
       "4 Epipelagic, Warm to Very Warm, Euhaline, Oxic, Low Nitrate, Low Phosphate, Low Silicate\n",
       "5 Epipelagic, Warm to Very Warm, Euhaline, Oxic, Low Nitrate, Low Phosphate, Low Silicate\n",
       "6 Epipelagic, Warm to Very Warm, Euhaline, Oxic, Low Nitrate, Low Phosphate, Low Silicate\n",
       "  Present\n",
       "1 0      \n",
       "2 0      \n",
       "3 1      \n",
       "4 1      \n",
       "5 0      \n",
       "6 0      "
      ]
     },
     "metadata": {},
     "output_type": "display_data"
    }
   ],
   "source": [
    "data <- arc.select(object = inputDir, fields = allVars)\n",
    "head(data)"
   ]
  },
  {
   "cell_type": "markdown",
   "metadata": {},
   "source": [
    "Now you’ll convert your R data frame into a spatial data frame object using the arc.data2sp() function. A spatial data frame object is one of the spatial data classes contained in the sp package. The sp package offers classes and methods for working with spatial data such as points, lines, polygons, pixels, rings, and grids. With this function, you can transfer all of the spatial attributes from your data, including projections, from ArcGIS into R without worrying about a loss of information. If you've never used the sp package, you need to install the sp package into your RStudio package library, and load the functions from the sp package into your workspace environment."
   ]
  },
  {
   "cell_type": "code",
   "execution_count": 10,
   "metadata": {},
   "outputs": [
    {
     "ename": "ERROR",
     "evalue": "Error in library(sp): there is no package called 'sp'\n",
     "output_type": "error",
     "traceback": [
      "Error in library(sp): there is no package called 'sp'\nTraceback:\n",
      "1. library(sp)",
      "2. stop(txt, domain = NA)"
     ]
    }
   ],
   "source": [
    "library(sp)"
   ]
  },
  {
   "cell_type": "markdown",
   "metadata": {},
   "source": [
    "Use the arc.data2sp() function. For the first argument, use the enrich_select_df data frame as the object you are converting to an sp object."
   ]
  },
  {
   "cell_type": "code",
   "execution_count": 11,
   "metadata": {},
   "outputs": [
    {
     "ename": "ERROR",
     "evalue": "Error in arc.data2sp.arc.data(data): This function requires the sp package.\n",
     "output_type": "error",
     "traceback": [
      "Error in arc.data2sp.arc.data(data): This function requires the sp package.\nTraceback:\n",
      "1. arc.data2sp(data)",
      "2. arc.data2sp.arc.data(data)",
      "3. stop(\"This function requires the sp package.\")"
     ]
    }
   ],
   "source": [
    "#This will be used to write back to the Arc GIS DB\n",
    "data_sp <- arc.data2sp(data)"
   ]
  },
  {
   "cell_type": "code",
   "execution_count": 44,
   "metadata": {},
   "outputs": [
    {
     "name": "stderr",
     "output_type": "stream",
     "text": [
      "Warning message:\n",
      "\"package 'dummies' is in use and will not be installed\""
     ]
    },
    {
     "data": {
      "text/html": [
       "<table>\n",
       "<thead><tr><th scope=col>salinity</th><th scope=col>temp</th><th scope=col>phosphate</th><th scope=col>nitrate</th><th scope=col>silicate</th><th scope=col>dissO2</th><th scope=col>c1</th><th scope=col>c2</th><th scope=col>c3</th><th scope=col>Present0</th><th scope=col>Present1</th></tr></thead>\n",
       "<tbody>\n",
       "\t<tr><td>35.69495  </td><td>24.75329  </td><td>0.07051622</td><td> 0.5035413</td><td> 3.878356 </td><td>5.038187  </td><td>0         </td><td>1         </td><td>0         </td><td>1         </td><td>0         </td></tr>\n",
       "\t<tr><td>35.98500  </td><td>24.13740  </td><td>0.12498700</td><td> 0.8363543</td><td> 1.521608 </td><td>4.710738  </td><td>0         </td><td>1         </td><td>0         </td><td>1         </td><td>0         </td></tr>\n",
       "\t<tr><td>35.58104  </td><td>18.00565  </td><td>1.03244400</td><td>15.1722698</td><td>10.742860 </td><td>3.839985  </td><td>0         </td><td>1         </td><td>0         </td><td>0         </td><td>1         </td></tr>\n",
       "\t<tr><td>35.46936  </td><td>14.55408  </td><td>0.93663418</td><td>14.1091700</td><td> 9.925514 </td><td>3.654587  </td><td>0         </td><td>1         </td><td>0         </td><td>0         </td><td>1         </td></tr>\n",
       "\t<tr><td>35.41380  </td><td>13.48950  </td><td>0.98052150</td><td>14.7467203</td><td>10.737210 </td><td>3.721700  </td><td>0         </td><td>1         </td><td>0         </td><td>1         </td><td>0         </td></tr>\n",
       "\t<tr><td>35.74353  </td><td>17.27345  </td><td>0.47275189</td><td> 6.9736042</td><td> 5.724543 </td><td>4.175582  </td><td>0         </td><td>1         </td><td>0         </td><td>1         </td><td>0         </td></tr>\n",
       "</tbody>\n",
       "</table>\n"
      ],
      "text/latex": [
       "\\begin{tabular}{r|lllllllllll}\n",
       " salinity & temp & phosphate & nitrate & silicate & dissO2 & c1 & c2 & c3 & Present0 & Present1\\\\\n",
       "\\hline\n",
       "\t 35.69495   & 24.75329   & 0.07051622 &  0.5035413 &  3.878356  & 5.038187   & 0          & 1          & 0          & 1          & 0         \\\\\n",
       "\t 35.98500   & 24.13740   & 0.12498700 &  0.8363543 &  1.521608  & 4.710738   & 0          & 1          & 0          & 1          & 0         \\\\\n",
       "\t 35.58104   & 18.00565   & 1.03244400 & 15.1722698 & 10.742860  & 3.839985   & 0          & 1          & 0          & 0          & 1         \\\\\n",
       "\t 35.46936   & 14.55408   & 0.93663418 & 14.1091700 &  9.925514  & 3.654587   & 0          & 1          & 0          & 0          & 1         \\\\\n",
       "\t 35.41380   & 13.48950   & 0.98052150 & 14.7467203 & 10.737210  & 3.721700   & 0          & 1          & 0          & 1          & 0         \\\\\n",
       "\t 35.74353   & 17.27345   & 0.47275189 &  6.9736042 &  5.724543  & 4.175582   & 0          & 1          & 0          & 1          & 0         \\\\\n",
       "\\end{tabular}\n"
      ],
      "text/markdown": [
       "\n",
       "salinity | temp | phosphate | nitrate | silicate | dissO2 | c1 | c2 | c3 | Present0 | Present1 | \n",
       "|---|---|---|---|---|---|\n",
       "| 35.69495   | 24.75329   | 0.07051622 |  0.5035413 |  3.878356  | 5.038187   | 0          | 1          | 0          | 1          | 0          | \n",
       "| 35.98500   | 24.13740   | 0.12498700 |  0.8363543 |  1.521608  | 4.710738   | 0          | 1          | 0          | 1          | 0          | \n",
       "| 35.58104   | 18.00565   | 1.03244400 | 15.1722698 | 10.742860  | 3.839985   | 0          | 1          | 0          | 0          | 1          | \n",
       "| 35.46936   | 14.55408   | 0.93663418 | 14.1091700 |  9.925514  | 3.654587   | 0          | 1          | 0          | 0          | 1          | \n",
       "| 35.41380   | 13.48950   | 0.98052150 | 14.7467203 | 10.737210  | 3.721700   | 0          | 1          | 0          | 1          | 0          | \n",
       "| 35.74353   | 17.27345   | 0.47275189 |  6.9736042 |  5.724543  | 4.175582   | 0          | 1          | 0          | 1          | 0          | \n",
       "\n",
       "\n"
      ],
      "text/plain": [
       "  salinity temp     phosphate  nitrate    silicate  dissO2   c1 c2 c3 Present0\n",
       "1 35.69495 24.75329 0.07051622  0.5035413  3.878356 5.038187 0  1  0  1       \n",
       "2 35.98500 24.13740 0.12498700  0.8363543  1.521608 4.710738 0  1  0  1       \n",
       "3 35.58104 18.00565 1.03244400 15.1722698 10.742860 3.839985 0  1  0  0       \n",
       "4 35.46936 14.55408 0.93663418 14.1091700  9.925514 3.654587 0  1  0  0       \n",
       "5 35.41380 13.48950 0.98052150 14.7467203 10.737210 3.721700 0  1  0  1       \n",
       "6 35.74353 17.27345 0.47275189  6.9736042  5.724543 4.175582 0  1  0  1       \n",
       "  Present1\n",
       "1 0       \n",
       "2 0       \n",
       "3 1       \n",
       "4 1       \n",
       "5 0       \n",
       "6 0       "
      ]
     },
     "metadata": {},
     "output_type": "display_data"
    }
   ],
   "source": [
    "#ignore any warning related to dummies package\n",
    "install.packages(\"dummies\")\n",
    "library(dummies)\n",
    "data<- dummy.data.frame(data_sp@data)\n",
    "#head(data)\n",
    "#Abbreviate Long Categorical Variable Names\n",
    "newNames = c('c1','c2','c3')\n",
    "names(data)[7:9]<-newNames\n",
    "head(data)"
   ]
  },
  {
   "cell_type": "code",
   "execution_count": 28,
   "metadata": {
    "collapsed": true
   },
   "outputs": [],
   "source": [
    "# Get lower triangle of the correlation matrix\n",
    "get_lower_tri<-function(cormat) {\n",
    "     cormat[upper.tri(cormat)] <- NA\n",
    "     return(cormat)\n",
    "}\n",
    "#\n",
    "# Get upper triangle of the correlation matrix\n",
    "get_upper_tri <- function(cormat) {\n",
    "     cormat[lower.tri(cormat)] <- NA\n",
    "     return(cormat)\n",
    "}\n",
    "#\n",
    "reorder_cormat <- function(cormat) {\n",
    "     # Use correlation between variables as distance\n",
    "     dd <- as.dist((1-cormat) / 2)\n",
    "     hc <- hclust(dd)\n",
    "     cormat <- cormat [hc$order, hc$order]\n",
    "}"
   ]
  },
  {
   "cell_type": "code",
   "execution_count": 29,
   "metadata": {
    "collapsed": true
   },
   "outputs": [],
   "source": [
    "#install.packages(\"reshape2\")\n",
    "library (reshape2)\n",
    "#install.packages(\"ggplot2\")\n",
    "library (ggplot2)\n",
    "#install.packages(\"ggmap\")\n",
    "library (ggmap)"
   ]
  },
  {
   "cell_type": "code",
   "execution_count": 30,
   "metadata": {
    "scrolled": true
   },
   "outputs": [
    {
     "data": {},
     "metadata": {},
     "output_type": "display_data"
    },
    {
     "data": {
      "image/png": "[encoded data removed]",
      "text/plain": [
       "plot without title"
      ]
     },
     "metadata": {},
     "output_type": "display_data"
    }
   ],
   "source": [
    "corr_sub <- data[ c('salinity', 'temp', 'phosphate', 'nitrate', 'silicate', 'dissO2' , 'Present')]\n",
    "cormax <- round (cor(corr_sub), 2)\n",
    "upper_tri <- get_upper_tri (cormax)\n",
    "melted_cormax <- melt (upper_tri, na.rm = TRUE)\n",
    "cormax <- reorder_cormat (cormax)\n",
    "upper_tri <- get_upper_tri (cormax)\n",
    "melted_cormax <- melt (upper_tri, na.rm = TRUE)\n",
    "ggheatmap <- ggplot (melted_cormax, aes (Var2, Var1, fill = value)) +\n",
    "     geom_tile(color = \"white\") +\n",
    "     scale_fill_gradient2 (low = \"blue\", high = \"red\", mid = \"white\", midpoint = 0, limit = c(-1,1), space = \"Lab\", name = \"Pearson\\nCorrelation\") +\n",
    "     theme_minimal() + # minimal theme\n",
    "     theme (axis.text.x = element_text(angle = 45, vjust = 1, size = 12, hjust = 1)) +\n",
    "     coord_fixed()\n",
    "#print (ggheatmap)\n",
    "ggheatmap +\n",
    "     geom_text (aes (Var2, Var1, label = value), color = \"black\", size = 4) +\n",
    "     theme (\n",
    "          axis.title.x = element_blank(),\n",
    "          axis.title.y = element_blank(),\n",
    "          panel.grid.major = element_blank(),\n",
    "          panel.border = element_blank(),\n",
    "          axis.ticks = element_blank(),\n",
    "          legend.justification = c (1, 0),\n",
    "          legend.position = c (0.6, 0.7),\n",
    "          legend.direction = \"horizontal\") +\n",
    "     guides (fill = guide_colorbar (barwidth = 7, barheight = 1, title.position = \"top\", title.hjust = 0.5))"
   ]
  },
  {
   "cell_type": "code",
   "execution_count": 31,
   "metadata": {
    "collapsed": true
   },
   "outputs": [],
   "source": [
    "install.packages(\"caret\")\n",
    "install.packages(\"randomForest\")\n",
    "library(caret)\n",
    "#Also convert Present to factor as it is integer type \n",
    "data$Present <-as.factor(data$Present)\n",
    "\n",
    "##PERFORM RANDOM FOREST CLASSIFICATION\n",
    "trainIndex = createDataPartition(data$Present, \n",
    "                       p=0.7, list=FALSE,times=1)\n",
    " \n",
    "train = data[trainIndex,]\n",
    "test = data[-trainIndex,]"
   ]
  },
  {
   "cell_type": "code",
   "execution_count": 11,
   "metadata": {},
   "outputs": [
    {
     "data": {
      "text/html": [
       "70001"
      ],
      "text/latex": [
       "70001"
      ],
      "text/markdown": [
       "70001"
      ],
      "text/plain": [
       "[1] 70001"
      ]
     },
     "metadata": {},
     "output_type": "display_data"
    },
    {
     "data": {
      "text/html": [
       "29999"
      ],
      "text/latex": [
       "29999"
      ],
      "text/markdown": [
       "29999"
      ],
      "text/plain": [
       "[1] 29999"
      ]
     },
     "metadata": {},
     "output_type": "display_data"
    }
   ],
   "source": [
    "nrow(train)\n",
    "nrow(test)"
   ]
  },
  {
   "cell_type": "code",
   "execution_count": 32,
   "metadata": {
    "collapsed": true
   },
   "outputs": [],
   "source": [
    "library(randomForest)\n",
    "\n",
    "model <- randomForest(Present ~ ., train,ntree=500)\n"
   ]
  },
  {
   "cell_type": "code",
   "execution_count": 39,
   "metadata": {},
   "outputs": [
    {
     "data": {
      "text/plain": [
       "                Length Class  Mode     \n",
       "call                 4 -none- call     \n",
       "type                 1 -none- character\n",
       "predicted        70001 factor numeric  \n",
       "err.rate          1500 -none- numeric  \n",
       "confusion            6 -none- numeric  \n",
       "votes           140002 matrix numeric  \n",
       "oob.times        70001 -none- numeric  \n",
       "classes              2 -none- character\n",
       "importance           9 -none- numeric  \n",
       "importanceSD         0 -none- NULL     \n",
       "localImportance      0 -none- NULL     \n",
       "proximity            0 -none- NULL     \n",
       "ntree                1 -none- numeric  \n",
       "mtry                 1 -none- numeric  \n",
       "forest              14 -none- list     \n",
       "y                70001 factor numeric  \n",
       "test                 0 -none- NULL     \n",
       "inbag                0 -none- NULL     \n",
       "terms                3 terms  call     "
      ]
     },
     "metadata": {},
     "output_type": "display_data"
    }
   ],
   "source": [
    "summary(model)"
   ]
  },
  {
   "cell_type": "code",
   "execution_count": 40,
   "metadata": {
    "collapsed": true
   },
   "outputs": [],
   "source": [
    "pred <- predict(model, newdata = test)"
   ]
  },
  {
   "cell_type": "code",
   "execution_count": 41,
   "metadata": {},
   "outputs": [
    {
     "data": {
      "text/plain": [
       "    \n",
       "pred     0     1\n",
       "   0 19999   838\n",
       "   1   738  8424"
      ]
     },
     "metadata": {},
     "output_type": "display_data"
    }
   ],
   "source": [
    "table(pred, test$Present)"
   ]
  },
  {
   "cell_type": "code",
   "execution_count": 42,
   "metadata": {},
   "outputs": [
    {
     "data": {
      "text/plain": [
       "Confusion Matrix and Statistics\n",
       "\n",
       "    \n",
       "pred     0     1\n",
       "   0 19999   838\n",
       "   1   738  8424\n",
       "                                        \n",
       "               Accuracy : 0.9475        \n",
       "                 95% CI : (0.9449, 0.95)\n",
       "    No Information Rate : 0.6913        \n",
       "    P-Value [Acc > NIR] : < 2e-16       \n",
       "                                        \n",
       "                  Kappa : 0.8766        \n",
       " Mcnemar's Test P-Value : 0.01264       \n",
       "                                        \n",
       "            Sensitivity : 0.9644        \n",
       "            Specificity : 0.9095        \n",
       "         Pos Pred Value : 0.9598        \n",
       "         Neg Pred Value : 0.9194        \n",
       "             Prevalence : 0.6913        \n",
       "         Detection Rate : 0.6667        \n",
       "   Detection Prevalence : 0.6946        \n",
       "      Balanced Accuracy : 0.9370        \n",
       "                                        \n",
       "       'Positive' Class : 0             \n",
       "                                        "
      ]
     },
     "metadata": {},
     "output_type": "display_data"
    }
   ],
   "source": [
    "confusionMatrix(table(pred, test$Present))"
   ]
  },
  {
   "cell_type": "code",
   "execution_count": 35,
   "metadata": {
    "collapsed": true
   },
   "outputs": [],
   "source": []
  },
  {
   "cell_type": "code",
   "execution_count": 36,
   "metadata": {
    "collapsed": true
   },
   "outputs": [],
   "source": []
  }
 ],
 "metadata": {
  "kernelspec": {
   "display_name": "R",
   "language": "R",
   "name": "ir"
  },
  "language_info": {
   "codemirror_mode": "r",
   "file_extension": ".r",
   "mimetype": "text/x-r-source",
   "name": "R",
   "pygments_lexer": "r",
   "version": "3.4.3"
  }
 },
 "nbformat": 4,
 "nbformat_minor": 2
}
